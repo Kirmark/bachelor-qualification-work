{
 "cells": [
  {
   "cell_type": "markdown",
   "metadata": {},
   "source": [
    "Прообраз: https://github.com/bigartm/bigartm-book/blob/master/ARTM_example_RU.ipynb"
   ]
  },
  {
   "cell_type": "code",
   "execution_count": 180,
   "metadata": {},
   "outputs": [
    {
     "name": "stdout",
     "output_type": "stream",
     "text": [
      "0.10.0\n"
     ]
    }
   ],
   "source": [
    "%matplotlib inline\n",
    "import glob\n",
    "import os\n",
    "import matplotlib.pyplot as plt\n",
    "\n",
    "import artm\n",
    "\n",
    "BATCH_ADRESS = 'batches_news'\n",
    "\n",
    "print(artm.version())"
   ]
  },
  {
   "cell_type": "code",
   "execution_count": 181,
   "metadata": {},
   "outputs": [],
   "source": [
    "batch_vectorizer = artm.BatchVectorizer(\n",
    "    data_path=BATCH_ADRESS, data_format='batches'\n",
    ")"
   ]
  },
  {
   "cell_type": "code",
   "execution_count": 182,
   "metadata": {},
   "outputs": [],
   "source": [
    "dictionary = artm.Dictionary()\n",
    "\n",
    "# Количесвто тем\n",
    "topic_count = 10\n",
    "\n",
    "'''\n",
    "model_plsa = artm.ARTM(\n",
    "    topic_names=['topic_{}'.format(i) for i in range(topic_count)],\n",
    "    scores=[\n",
    "        artm.PerplexityScore(\n",
    "            name='PerplexityScore',\n",
    "            dictionary=dictionary\n",
    "        )\n",
    "    ],\n",
    "    cache_theta=True,\n",
    "    #class_ids={'text': 1.0},\n",
    ")\n",
    "'''\n",
    "\n",
    "model_artm = artm.ARTM(\n",
    "    topic_names=['topic_{}'.format(i) for i in range(topic_count)],\n",
    "    scores=[\n",
    "        artm.PerplexityScore(\n",
    "            name='PerplexityScore',\n",
    "            dictionary=dictionary\n",
    "        )\n",
    "    ],\n",
    "    regularizers=[\n",
    "        artm.SmoothSparseThetaRegularizer(\n",
    "            name='SparseTheta', \n",
    "            tau=-0.15\n",
    "        )\n",
    "    ],\n",
    "    cache_theta=True,\n",
    "    #class_ids={'text': 1.0},\n",
    ")"
   ]
  },
  {
   "cell_type": "code",
   "execution_count": 183,
   "metadata": {},
   "outputs": [],
   "source": [
    "if os.path.isfile(BATCH_ADRESS + '/dictionary.dict'):\n",
    "    os.remove(BATCH_ADRESS + '/dictionary.dict')\n",
    "    \n",
    "dictionary.gather(data_path=batch_vectorizer.data_path)\n",
    "dictionary.save(dictionary_path=BATCH_ADRESS + '/dictionary.dict')\n",
    "\n",
    "dictionary.load(dictionary_path=BATCH_ADRESS + '/dictionary.dict')"
   ]
  },
  {
   "cell_type": "code",
   "execution_count": 184,
   "metadata": {},
   "outputs": [
    {
     "name": "stdout",
     "output_type": "stream",
     "text": [
      "artm.Dictionary(name=1db1beda-7fec-48f7-a315-b0854ebdb057, num_entries=75725)\n"
     ]
    }
   ],
   "source": [
    "print(dictionary)"
   ]
  },
  {
   "cell_type": "code",
   "execution_count": 185,
   "metadata": {},
   "outputs": [],
   "source": [
    "#model_plsa.initialize(dictionary=dictionary)\n",
    "model_artm.initialize(dictionary=dictionary)"
   ]
  },
  {
   "cell_type": "code",
   "execution_count": 186,
   "metadata": {},
   "outputs": [],
   "source": [
    "#model_plsa.scores.add(artm.SparsityPhiScore(name='SparsityPhiScore'))\n",
    "#model_plsa.scores.add(artm.SparsityThetaScore(name='SparsityThetaScore'))\n",
    "#model_plsa.scores.add(artm.TopicKernelScore(name='TopicKernelScore', probability_mass_threshold=0.3))\n",
    "\n",
    "model_artm.scores.add(artm.SparsityPhiScore(name='SparsityPhiScore'))\n",
    "model_artm.scores.add(artm.SparsityThetaScore(name='SparsityThetaScore'))\n",
    "model_artm.scores.add(artm.TopicKernelScore(name='TopicKernelScore', probability_mass_threshold=0.3))\n",
    "#model_plsa.scores.add(artm.TopTokensScore(name='TopTokensScore', num_tokens=6))\n",
    "model_artm.scores.add(artm.TopTokensScore(name='TopTokensScore', num_tokens=6))"
   ]
  },
  {
   "cell_type": "code",
   "execution_count": 187,
   "metadata": {},
   "outputs": [],
   "source": [
    "model_artm.regularizers.add(artm.SmoothSparsePhiRegularizer(name='SparsePhi', tau=-0.1))\n",
    "model_artm.regularizers.add(artm.DecorrelatorPhiRegularizer(name='DecorrelatorPhi', tau=1.5e+5))\n",
    "\n",
    "model_artm.regularizers['SparsePhi'].tau = -0.2\n",
    "model_artm.regularizers['SparseTheta'].tau = -0.2\n",
    "model_artm.regularizers['DecorrelatorPhi'].tau = 2.5e+5"
   ]
  },
  {
   "cell_type": "code",
   "execution_count": 188,
   "metadata": {},
   "outputs": [],
   "source": [
    "#model_plsa.num_document_passes = 1\n",
    "model_artm.num_document_passes = 1"
   ]
  },
  {
   "cell_type": "code",
   "execution_count": 189,
   "metadata": {},
   "outputs": [],
   "source": [
    "#model_plsa.fit_offline(batch_vectorizer=batch_vectorizer, num_collection_passes=15)\n",
    "model_artm.fit_offline(batch_vectorizer=batch_vectorizer, num_collection_passes=15)"
   ]
  },
  {
   "cell_type": "code",
   "execution_count": 190,
   "metadata": {},
   "outputs": [
    {
     "data": {
      "text/plain": [
       "[<matplotlib.lines.Line2D at 0x11447c0b8>]"
      ]
     },
     "execution_count": 190,
     "metadata": {},
     "output_type": "execute_result"
    },
    {
     "data": {
      "image/png": "[encoded data removed]",
      "text/plain": [
       "<matplotlib.figure.Figure at 0x10f670c88>"
      ]
     },
     "metadata": {},
     "output_type": "display_data"
    }
   ],
   "source": [
    "plt.plot(model_artm.score_tracker[\"PerplexityScore\"].value)"
   ]
  },
  {
   "cell_type": "code",
   "execution_count": 191,
   "metadata": {},
   "outputs": [
    {
     "data": {
      "text/plain": [
       "\"\\ndef print_measures(model_plsa, model_artm):\\n    print(\\n        'Sparsity Phi: {0:.3f} (PLSA) vs. {1:.3f} (ARTM)'.format(\\n            model_plsa.score_tracker['SparsityPhiScore'].last_value,\\n            model_artm.score_tracker['SparsityPhiScore'].last_value\\n        )\\n    )\\n\\n    print(\\n        'Sparsity Theta: {0:.3f} (PLSA) vs. {1:.3f} (ARTM)'.format(\\n            model_plsa.score_tracker['SparsityThetaScore'].last_value,\\n            model_artm.score_tracker['SparsityThetaScore'].last_value\\n        )\\n    )\\n\\n    print(\\n        'Kernel contrast: {0:.3f} (PLSA) vs. {1:.3f} (ARTM)'.format(\\n            model_plsa.score_tracker['TopicKernelScore'].last_average_contrast,\\n            model_artm.score_tracker['TopicKernelScore'].last_average_contrast\\n        )\\n    )\\n\\n    print(\\n        'Kernel purity: {0:.3f} (PLSA) vs. {1:.3f} (ARTM)'.format(\\n            model_plsa.score_tracker['TopicKernelScore'].last_average_purity,\\n            model_artm.score_tracker['TopicKernelScore'].last_average_purity\\n        )\\n    )\\n\\n    print(\\n        'Perplexity: {0:.3f} (PLSA) vs. {1:.3f} (ARTM)'.format(\\n            model_plsa.score_tracker['PerplexityScore'].last_value,\\n            model_artm.score_tracker['PerplexityScore'].last_value\\n        )\\n    )\\n\\n    plt.plot(\\n        range(model_plsa.num_phi_updates), model_plsa.score_tracker['PerplexityScore'].value, 'b--',\\n        range(model_artm.num_phi_updates), model_artm.score_tracker['PerplexityScore'].value, 'r--', linewidth=2\\n    )\\n    plt.xlabel('Iterations count')\\n    plt.ylabel('PLSA perp. (blue), ARTM perp. (red)')\\n    plt.grid(True)\\n    plt.show()\\n    \\nprint_measures(model_plsa, model_artm)\\n\""
      ]
     },
     "execution_count": 191,
     "metadata": {},
     "output_type": "execute_result"
    }
   ],
   "source": [
    "'''\n",
    "def print_measures(model_plsa, model_artm):\n",
    "    print(\n",
    "        'Sparsity Phi: {0:.3f} (PLSA) vs. {1:.3f} (ARTM)'.format(\n",
    "            model_plsa.score_tracker['SparsityPhiScore'].last_value,\n",
    "            model_artm.score_tracker['SparsityPhiScore'].last_value\n",
    "        )\n",
    "    )\n",
    "\n",
    "    print(\n",
    "        'Sparsity Theta: {0:.3f} (PLSA) vs. {1:.3f} (ARTM)'.format(\n",
    "            model_plsa.score_tracker['SparsityThetaScore'].last_value,\n",
    "            model_artm.score_tracker['SparsityThetaScore'].last_value\n",
    "        )\n",
    "    )\n",
    "\n",
    "    print(\n",
    "        'Kernel contrast: {0:.3f} (PLSA) vs. {1:.3f} (ARTM)'.format(\n",
    "            model_plsa.score_tracker['TopicKernelScore'].last_average_contrast,\n",
    "            model_artm.score_tracker['TopicKernelScore'].last_average_contrast\n",
    "        )\n",
    "    )\n",
    "\n",
    "    print(\n",
    "        'Kernel purity: {0:.3f} (PLSA) vs. {1:.3f} (ARTM)'.format(\n",
    "            model_plsa.score_tracker['TopicKernelScore'].last_average_purity,\n",
    "            model_artm.score_tracker['TopicKernelScore'].last_average_purity\n",
    "        )\n",
    "    )\n",
    "\n",
    "    print(\n",
    "        'Perplexity: {0:.3f} (PLSA) vs. {1:.3f} (ARTM)'.format(\n",
    "            model_plsa.score_tracker['PerplexityScore'].last_value,\n",
    "            model_artm.score_tracker['PerplexityScore'].last_value\n",
    "        )\n",
    "    )\n",
    "\n",
    "    plt.plot(\n",
    "        range(model_plsa.num_phi_updates), model_plsa.score_tracker['PerplexityScore'].value, 'b--',\n",
    "        range(model_artm.num_phi_updates), model_artm.score_tracker['PerplexityScore'].value, 'r--', linewidth=2\n",
    "    )\n",
    "    plt.xlabel('Iterations count')\n",
    "    plt.ylabel('PLSA perp. (blue), ARTM perp. (red)')\n",
    "    plt.grid(True)\n",
    "    plt.show()\n",
    "    \n",
    "print_measures(model_plsa, model_artm)\n",
    "'''"
   ]
  },
  {
   "cell_type": "code",
   "execution_count": 192,
   "metadata": {},
   "outputs": [],
   "source": [
    "#model_plsa.fit_offline(batch_vectorizer=batch_vectorizer, num_collection_passes=20)\n",
    "model_artm.fit_offline(batch_vectorizer=batch_vectorizer, num_collection_passes=20)"
   ]
  },
  {
   "cell_type": "code",
   "execution_count": 193,
   "metadata": {},
   "outputs": [
    {
     "data": {
      "image/png": "[encoded data removed]",
      "text/plain": [
       "<matplotlib.figure.Figure at 0x12101eb00>"
      ]
     },
     "metadata": {},
     "output_type": "display_data"
    },
    {
     "data": {
      "image/png": "[encoded data removed]",
      "text/plain": [
       "<matplotlib.figure.Figure at 0x11449a208>"
      ]
     },
     "metadata": {},
     "output_type": "display_data"
    }
   ],
   "source": [
    "plt.plot(\n",
    "    #range(model_plsa.num_phi_updates), model_plsa.score_tracker['SparsityPhiScore'].value, 'b--',\n",
    "    range(model_artm.num_phi_updates), model_artm.score_tracker['SparsityPhiScore'].value, 'r--', linewidth=2\n",
    ")\n",
    "plt.xlabel('Iterations count')\n",
    "plt.ylabel('PLSA Phi sp. (blue), ARTM Phi sp. (red)')\n",
    "plt.grid(True)\n",
    "plt.show()\n",
    "\n",
    "plt.plot(\n",
    "    #range(model_plsa.num_phi_updates), model_plsa.score_tracker['SparsityThetaScore'].value, 'b--',\n",
    "    range(model_artm.num_phi_updates), model_artm.score_tracker['SparsityThetaScore'].value, 'r--', linewidth=2)\n",
    "plt.xlabel('Iterations count')\n",
    "plt.ylabel('PLSA Theta sp. (blue), ARTM Theta sp. (red)')\n",
    "plt.grid(True)\n",
    "plt.show()"
   ]
  },
  {
   "cell_type": "code",
   "execution_count": 194,
   "metadata": {},
   "outputs": [
    {
     "data": {
      "text/plain": [
       "\"\\nfor topic_name in model_plsa.topic_names:\\n    print(topic_name + ': ',)\\n    print(model_plsa.score_tracker['TopTokensScore'].last_tokens[topic_name])\\n\""
      ]
     },
     "execution_count": 194,
     "metadata": {},
     "output_type": "execute_result"
    }
   ],
   "source": [
    "'''\n",
    "for topic_name in model_plsa.topic_names:\n",
    "    print(topic_name + ': ',)\n",
    "    print(model_plsa.score_tracker['TopTokensScore'].last_tokens[topic_name])\n",
    "'''"
   ]
  },
  {
   "cell_type": "code",
   "execution_count": 195,
   "metadata": {},
   "outputs": [
    {
     "name": "stdout",
     "output_type": "stream",
     "text": [
      "topic_0: \n",
      "['дело', 'колония', 'признавать', 'статья', 'право', 'свобода']\n",
      "topic_1: \n",
      "['задерживать', 'полиция', 'акция', 'полицейский', 'активист', 'рассказывать']\n",
      "topic_2: \n",
      "['человек', 'который', 'свой', 'после', 'один', 'день']\n",
      "topic_3: \n",
      "['который', 'россия', 'российский', 'организация', 'глава', 'также']\n",
      "topic_4: \n",
      "['навальный', 'который', 'алексей', 'россия', 'рассказывать', 'написать']\n",
      "topic_5: \n",
      "['дело', 'уголовный', 'статья', 'часть', 'мужчина', 'следственный']\n",
      "topic_6: \n",
      "['быть', 'судья', 'адвокат', 'этот', 'дело', 'вопрос']\n",
      "topic_7: \n",
      "['сообщать', 'данные', 'сотрудник', '2015', 'издание', 'москва']\n",
      "topic_8: \n",
      "['быть', 'мочь', 'такой', 'этот', 'говорить', 'который']\n",
      "topic_9: \n",
      "['говорить', 'быть', 'прокурор', 'убийство', 'который', 'машина']\n"
     ]
    }
   ],
   "source": [
    "for topic_name in model_artm.topic_names:\n",
    "    print(topic_name + ': ',)\n",
    "    print(model_artm.score_tracker['TopTokensScore'].last_tokens[topic_name])"
   ]
  },
  {
   "cell_type": "code",
   "execution_count": 196,
   "metadata": {},
   "outputs": [
    {
     "name": "stdout",
     "output_type": "stream",
     "text": [
      "0.8751667141914368\n",
      "3.3976048143813387e-05\n"
     ]
    }
   ],
   "source": [
    "print(model_artm.score_tracker[\"SparsityPhiScore\"].last_value)\n",
    "print(model_artm.score_tracker[\"SparsityThetaScore\"].last_value)"
   ]
  },
  {
   "cell_type": "code",
   "execution_count": null,
   "metadata": {},
   "outputs": [],
   "source": []
  },
  {
   "cell_type": "code",
   "execution_count": null,
   "metadata": {},
   "outputs": [],
   "source": []
  },
  {
   "cell_type": "code",
   "execution_count": null,
   "metadata": {},
   "outputs": [],
   "source": []
  },
  {
   "cell_type": "code",
   "execution_count": 197,
   "metadata": {},
   "outputs": [],
   "source": [
    "model_artm.regularizers.add(\n",
    "    artm.SmoothSparsePhiRegularizer(name='SparsePhi', tau=-5*1e5, dictionary=dictionary),\n",
    "    overwrite=True,\n",
    ")"
   ]
  },
  {
   "cell_type": "code",
   "execution_count": 198,
   "metadata": {},
   "outputs": [],
   "source": [
    "model_artm.fit_offline(batch_vectorizer=batch_vectorizer, num_collection_passes=10)"
   ]
  },
  {
   "cell_type": "code",
   "execution_count": 199,
   "metadata": {},
   "outputs": [
    {
     "name": "stdout",
     "output_type": "stream",
     "text": [
      "topic_0: \n",
      "['статья', 'признавать', 'колония', 'решение', 'тысяча', 'право']\n",
      "topic_1: \n",
      "['рассказывать', 'задерживать', 'полиция', 'полицейский', 'группа', 'акция']\n",
      "topic_2: \n",
      "['который', 'человек', 'после', 'свой', 'один', 'время']\n",
      "topic_3: \n",
      "['также', 'россия', 'организация', 'российский', 'глава', '2016']\n",
      "topic_4: \n",
      "['писать', 'навальный', 'представитель', 'материал', 'алексей', 'заявление']\n",
      "topic_5: \n",
      "['дело', 'часть', 'уголовный', 'статья', 'следствие', 'отношение']\n",
      "topic_6: \n",
      "['этот', 'быть', 'адвокат', 'судья', 'вопрос', 'свидетель']\n",
      "topic_7: \n",
      "['сообщать', 'сотрудник', 'москва', 'данные', '2015', 'отмечать']\n",
      "topic_8: \n",
      "['быть', 'мочь', 'весь', 'другой', 'такой', 'только']\n",
      "topic_9: \n",
      "['говорить', 'убийство', 'прокурор', 'сказать', 'место', 'знать']\n"
     ]
    }
   ],
   "source": [
    "for topic_name in model_artm.topic_names:\n",
    "    print(topic_name + ': ',)\n",
    "    print(model_artm.score_tracker['TopTokensScore'].last_tokens[topic_name])"
   ]
  },
  {
   "cell_type": "code",
   "execution_count": 200,
   "metadata": {},
   "outputs": [
    {
     "name": "stdout",
     "output_type": "stream",
     "text": [
      "0.9211475849151611\n",
      "0.01008663885295391\n"
     ]
    }
   ],
   "source": [
    "print(model_artm.score_tracker[\"SparsityPhiScore\"].last_value)\n",
    "print(model_artm.score_tracker[\"SparsityThetaScore\"].last_value)"
   ]
  },
  {
   "cell_type": "code",
   "execution_count": 201,
   "metadata": {},
   "outputs": [
    {
     "data": {
      "text/plain": [
       "[<matplotlib.lines.Line2D at 0x10f94f1d0>]"
      ]
     },
     "execution_count": 201,
     "metadata": {},
     "output_type": "execute_result"
    },
    {
     "data": {
      "image/png": "[encoded data removed]",
      "text/plain": [
       "<matplotlib.figure.Figure at 0x111b645c0>"
      ]
     },
     "metadata": {},
     "output_type": "display_data"
    }
   ],
   "source": [
    "plt.plot(model_artm.score_tracker[\"PerplexityScore\"].value)"
   ]
  },
  {
   "cell_type": "code",
   "execution_count": 202,
   "metadata": {},
   "outputs": [
    {
     "data": {
      "text/plain": [
       "[<matplotlib.lines.Line2D at 0x117e557b8>]"
      ]
     },
     "execution_count": 202,
     "metadata": {},
     "output_type": "execute_result"
    },
    {
     "data": {
      "image/png": "[encoded data removed]",
      "text/plain": [
       "<matplotlib.figure.Figure at 0x10f404940>"
      ]
     },
     "metadata": {},
     "output_type": "display_data"
    }
   ],
   "source": [
    "plt.plot(model_artm.score_tracker[\"SparsityPhiScore\"].value)"
   ]
  },
  {
   "cell_type": "code",
   "execution_count": 203,
   "metadata": {},
   "outputs": [
    {
     "data": {
      "text/plain": [
       "[<matplotlib.lines.Line2D at 0x113ef0f60>]"
      ]
     },
     "execution_count": 203,
     "metadata": {},
     "output_type": "execute_result"
    },
    {
     "data": {
      "image/png": "[encoded data removed]",
      "text/plain": [
       "<matplotlib.figure.Figure at 0x10f370128>"
      ]
     },
     "metadata": {},
     "output_type": "display_data"
    }
   ],
   "source": [
    "plt.plot(model_artm.score_tracker[\"SparsityThetaScore\"].value)"
   ]
  },
  {
   "cell_type": "code",
   "execution_count": null,
   "metadata": {},
   "outputs": [],
   "source": []
  },
  {
   "cell_type": "code",
   "execution_count": null,
   "metadata": {},
   "outputs": [],
   "source": []
  },
  {
   "cell_type": "code",
   "execution_count": null,
   "metadata": {},
   "outputs": [],
   "source": []
  },
  {
   "cell_type": "code",
   "execution_count": null,
   "metadata": {},
   "outputs": [],
   "source": []
  },
  {
   "cell_type": "markdown",
   "metadata": {},
   "source": [
    "Полезные идеи по нулевым значениям:\n",
    "https://github.com/bigartm/bigartm/issues/664"
   ]
  },
  {
   "cell_type": "code",
   "execution_count": 38,
   "metadata": {},
   "outputs": [
    {
     "data": {
      "text/plain": [
       "{'PerplexityScore': <artm.score_tracker.PerplexityScoreTracker at 0x104a838d0>,\n",
       " 'SparsityPhiScore': <artm.score_tracker.SparsityPhiScoreTracker at 0x10ed47c88>,\n",
       " 'SparsityThetaScore': <artm.score_tracker.SparsityThetaScoreTracker at 0x10ed47cf8>,\n",
       " 'TopTokensScore': <artm.score_tracker.TopTokensScoreTracker at 0x1119dcbe0>,\n",
       " 'TopicKernelScore': <artm.score_tracker.TopicKernelScoreTracker at 0x10ed47d30>}"
      ]
     },
     "execution_count": 38,
     "metadata": {},
     "output_type": "execute_result"
    }
   ],
   "source": [
    "model_artm.score_tracker"
   ]
  },
  {
   "cell_type": "code",
   "execution_count": null,
   "metadata": {},
   "outputs": [],
   "source": []
  }
 ],
 "metadata": {
  "kernelspec": {
   "display_name": "Python 3",
   "language": "python",
   "name": "python3"
  },
  "language_info": {
   "codemirror_mode": {
    "name": "ipython",
    "version": 3
   },
   "file_extension": ".py",
   "mimetype": "text/x-python",
   "name": "python",
   "nbconvert_exporter": "python",
   "pygments_lexer": "ipython3",
   "version": "3.6.8"
  }
 },
 "nbformat": 4,
 "nbformat_minor": 2
}
