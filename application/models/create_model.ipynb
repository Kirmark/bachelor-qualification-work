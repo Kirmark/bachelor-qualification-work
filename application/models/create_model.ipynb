{
 "cells": [
  {
   "cell_type": "markdown",
   "metadata": {},
   "source": [
    "Прообраз: https://github.com/bigartm/bigartm-book/blob/master/ARTM_example_RU.ipynb"
   ]
  },
  {
   "cell_type": "code",
   "execution_count": 1,
   "metadata": {},
   "outputs": [
    {
     "name": "stdout",
     "output_type": "stream",
     "text": [
      "0.10.0\n"
     ]
    }
   ],
   "source": [
    "%matplotlib inline\n",
    "import glob\n",
    "import os\n",
    "import matplotlib.pyplot as plt\n",
    "\n",
    "import artm\n",
    "\n",
    "# Адрес, по которому находятся данные\n",
    "BATCH_ADRESS = 'batches_news'\n",
    "\n",
    "# Вывод версии BigARTM\n",
    "print(artm.version())"
   ]
  },
  {
   "cell_type": "code",
   "execution_count": 2,
   "metadata": {},
   "outputs": [],
   "source": [
    "# Установка адреса, по которому находятся данные\n",
    "batch_vectorizer = artm.BatchVectorizer(\n",
    "    data_path=BATCH_ADRESS, data_format='batches'\n",
    ")"
   ]
  },
  {
   "cell_type": "code",
   "execution_count": 3,
   "metadata": {},
   "outputs": [
    {
     "name": "stdout",
     "output_type": "stream",
     "text": [
      "Количество слов в словаре: 75725\n",
      "75180\n",
      "19310\n",
      "1819\n"
     ]
    }
   ],
   "source": [
    "# Пересоздание словаря для модели и сохранение его в файл\n",
    "\n",
    "# Устанавливается название словаря для модели\n",
    "dictionary_address = BATCH_ADRESS + '/dictionary.dict'\n",
    "\n",
    "# Инициализация словоря для модели\n",
    "dictionary = artm.Dictionary()\n",
    "\n",
    "# Удаление словаря, оставшегося после предыдущих запусков\n",
    "if os.path.isfile(dictionary_address):\n",
    "    os.remove(dictionary_address)\n",
    "    \n",
    "# Сохранение словаря в файл\n",
    "dictionary.gather(data_path=batch_vectorizer.data_path)\n",
    "dictionary.save(dictionary_path=dictionary_address)\n",
    "\n",
    "# Загрузка словаря из файла\n",
    "dictionary.load(dictionary_path=dictionary_address)\n",
    "print(\"Количество слов в словаре:\", dictionary.__dict__['_master'].get_info().dictionary[0].num_entries)\n",
    "\n",
    "\n",
    "# Фильтрация\n",
    "\n",
    "# Убираются частые слова по всей коллекции\n",
    "# Слово встречается во всей коллекции меньше чем n раз\n",
    "dictionary.filter(max_tf=2000)\n",
    "print(dictionary.__dict__['_master'].get_info().dictionary[0].num_entries)\n",
    "\n",
    "# Убираются редкие слова по всей коллекции\n",
    "# Слово встречается во всей коллекции больше чем n раз\n",
    "dictionary.filter(min_tf=10)\n",
    "print(dictionary.__dict__['_master'].get_info().dictionary[0].num_entries)\n",
    "\n",
    "# Убираются слова, которые попадаются всего в n процентов документов\n",
    "dictionary.filter(min_df_rate=0.01)\n",
    "print(dictionary.__dict__['_master'].get_info().dictionary[0].num_entries)"
   ]
  },
  {
   "cell_type": "code",
   "execution_count": 4,
   "metadata": {},
   "outputs": [],
   "source": [
    "def new_default_model(topic_count, dictionary):\n",
    "    # Создание модели\n",
    "    model_artm = artm.ARTM(topic_names=['topic_{}'.format(i) for i in range(topic_count)], \n",
    "                           cache_theta=True,\n",
    "                           #class_ids={'text': 1.0},\n",
    "                          )\n",
    "\n",
    "    # Инициализация модели\n",
    "    model_artm.initialize(dictionary=dictionary)\n",
    "    model_artm.num_document_passes = 1\n",
    "\n",
    "    # Установка отслеживаемых параметров\n",
    "    model_artm.scores.add(artm.SparsityPhiScore(name='SparsityPhiScore'))\n",
    "    model_artm.scores.add(artm.SparsityThetaScore(name='SparsityThetaScore'))\n",
    "    model_artm.scores.add(artm.PerplexityScore(name='PerplexityScore', dictionary=dictionary))\n",
    "    model_artm.scores.add(artm.TopTokensScore(name='TopTokensScore', num_tokens=10))\n",
    "    #model_artm.scores.add(artm.TopicKernelScore(name='TopicKernelScore', probability_mass_threshold=0.3))\n",
    "    \n",
    "    return model_artm"
   ]
  },
  {
   "cell_type": "code",
   "execution_count": 5,
   "metadata": {},
   "outputs": [],
   "source": [
    "def model_print_results(model_artm):\n",
    "    \n",
    "    # Графики\n",
    "    \n",
    "    fig = plt.figure(figsize=(15, 10))\n",
    "\n",
    "    ax1 = fig.add_subplot(221)   #top left\n",
    "    ax1.plot(model_artm.score_tracker[\"SparsityPhiScore\"].value)\n",
    "    ax1.set_xlabel('Iterations count')\n",
    "    ax1.set_ylabel('SparsityPhiScore')\n",
    "    ax1.grid(True)\n",
    "\n",
    "    ax2 = fig.add_subplot(222)   #top right\n",
    "    ax2.plot(model_artm.score_tracker[\"SparsityThetaScore\"].value)\n",
    "    ax2.set_xlabel('Iterations count')\n",
    "    ax2.set_ylabel('SparsityThetaScore')\n",
    "    ax2.grid(True)\n",
    "\n",
    "    ax3 = fig.add_subplot(223)   #bottom left\n",
    "    ax3.plot(model_artm.score_tracker[\"PerplexityScore\"].value)\n",
    "    ax3.set_xlabel('Iterations count')\n",
    "    ax3.set_ylabel('PerplexityScore')\n",
    "    ax3.grid(True)\n",
    "\n",
    "    plt.show()\n",
    "    \n",
    "    \n",
    "    # Конечные значения\n",
    "    \n",
    "    print(\"SparsityPhiScore:\", model_artm.score_tracker[\"SparsityPhiScore\"].last_value)\n",
    "    print(\"SparsityThetaScore:\", model_artm.score_tracker[\"SparsityThetaScore\"].last_value)\n",
    "    print()\n",
    "    \n",
    "    \n",
    "    # Главные слова в темах\n",
    "    \n",
    "    topic_list = list(model_artm.score_tracker['TopTokensScore'].last_tokens.keys())\n",
    "    for topic_name in topic_list:\n",
    "        print(topic_name + ': ', end='')\n",
    "        print(model_artm.score_tracker['TopTokensScore'].last_tokens[topic_name])"
   ]
  },
  {
   "cell_type": "markdown",
   "metadata": {},
   "source": [
    "Примеры:\n",
    "* https://github.com/bigartm/bigartm-book/blob/master/ARTM_example_RU.ipynb\n",
    "* https://github.com/bigartm/bigartm-book/blob/master/ARTM_tutorial_RU.ipynb\n",
    "* http://localhost:8888/notebooks/examples/2/%D0%94%D0%B5%D0%BC%D0%BE%D0%BD%D1%81%D1%82%D1%80%D0%B0%D1%86%D0%B8%D1%8F-BigARTM-0.8.0.ipynb"
   ]
  },
  {
   "cell_type": "code",
   "execution_count": 10,
   "metadata": {},
   "outputs": [],
   "source": [
    "params = {\n",
    "    'topic_count': 100,\n",
    "    'num_collection_passes': 50,\n",
    "    'SparsePhi': {\n",
    "        'name': 'SparsePhi',\n",
    "        'tau': -5\n",
    "    },\n",
    "    'SparseTheta': {\n",
    "        'name': 'SparseTheta',\n",
    "        'tau': -1.5\n",
    "    },\n",
    "}"
   ]
  },
  {
   "cell_type": "code",
   "execution_count": 11,
   "metadata": {},
   "outputs": [],
   "source": [
    "# Базовая пустая модель\n",
    "model_artm = new_default_model(params['topic_count'], dictionary)\n",
    "model_artm.save(\"news_model_0\")"
   ]
  },
  {
   "cell_type": "code",
   "execution_count": 12,
   "metadata": {},
   "outputs": [
    {
     "data": {
      "image/png": "[encoded data removed]",
      "text/plain": [
       "<matplotlib.figure.Figure at 0x10ac656d8>"
      ]
     },
     "metadata": {},
     "output_type": "display_data"
    },
    {
     "name": "stdout",
     "output_type": "stream",
     "text": [
      "SparsityPhiScore: 0.989587664604187\n",
      "SparsityThetaScore: 0.7371256351470947\n",
      "\n",
      "topic_0: ['обращать', 'хорошо', 'поставлять', 'технический', 'скоро', 'записывать', 'заходить', 'носить', 'ездить', 'съемка']\n",
      "topic_1: ['сторонник', 'организовывать', 'вячеслав', 'волков', 'собрание', 'волк', 'леонид', 'кампания', 'согласовывать', 'расследовать']\n",
      "topic_2: ['соглашаться', 'отсутствие', 'важный', 'правда', 'оправдывать', 'немой', 'смысл', 'приятель', 'пойти', 'солдат']\n",
      "topic_3: ['имущество', 'банк', 'строительство', 'похищать', 'услуга', 'связанный', 'бюджет', 'увольнение', 'выплата', 'рост']\n",
      "topic_4: ['студент', 'бросать', 'способ', 'университет', 'стена', 'наркотический', 'сбыт', 'отбирать', 'поле', 'посетитель']\n",
      "topic_5: ['кабинет', 'максим', 'причастность', 'округ', 'частный', 'артем', 'избрание', 'школьник', 'полгода', 'класс']\n",
      "topic_6: ['здесь', 'читать', 'оглашать', 'перерыв', 'нельзя', 'голос', 'возражать', 'выступление', 'пользоваться', 'михайлов']\n",
      "topic_7: ['напоминать', 'паспорт', 'пойти', 'действительно', 'приносить', 'брать', 'анна', 'постоянно', 'возможно', 'посмотреть']\n",
      "topic_8: ['течение', 'ущерб', 'законодательство', 'пристав', 'допускать', 'предусматривать', 'кодекс', 'изменять', 'определять', 'поселение']\n",
      "topic_9: ['восемь', 'угрожать', 'видеозапись', 'левый', 'реальный', 'выход', 'условный', 'омон', 'пожарный', 'гость']\n",
      "topic_10: ['вконтакте', 'павел', 'запрет', 'доступ', 'блокировка', 'пользователь', 'зарегистрировать', 'ограничение', 'заблокировать', 'содержать']\n",
      "topic_11: ['вернуться', 'уезжать', 'встречаться', 'описывать', 'некий', 'отдавать', 'переписка', 'вынуждать', 'действительность', 'опасаться']\n",
      "topic_12: ['известный', 'изменение', 'собирать', 'готовый', 'распространение', 'продажа', 'назначение', 'понедельник', 'дополнительный', 'предложение']\n",
      "topic_13: ['еспча', 'нарушать', 'законный', 'обжаловать', 'мосгорсуд', 'мотив', 'отклонять', 'конституционный', 'уполномоченный', 'конвенция']\n",
      "topic_14: ['мошенничество', 'занимать', 'должность', 'счет', 'договор', 'хищение', 'стоимость', 'денежный', 'финансовый', 'гендиректор']\n",
      "topic_15: ['домой', 'туда', 'рано', 'привозить', 'глаз', 'отвозить', 'слышать', 'кричать', 'сосед', 'компьютер']\n",
      "topic_16: ['коллега', 'дорога', 'увольнять', 'случаться', 'инспектор', 'отставка', 'опьянение', 'впоследствии', 'решаться', 'алкогольный']\n",
      "topic_17: ['вступать', 'цитировать', 'боец', 'переходить', 'комментировать', 'сирия', 'ходатайствовать', 'служить', 'восток', 'пресса']\n",
      "topic_18: ['аэропорт', 'вода', 'разрешать', 'указание', 'светлана', 'ключ', 'упоминаться', 'наверное', 'телефонный', 'исключение']\n",
      "topic_19: ['правый', 'скончаться', 'травма', 'зона', 'зафиксировать', 'блогер', 'многочисленный', 'сломать', 'чувство', 'перелом']\n",
      "topic_20: ['оппозиционер', 'беспорядок', 'правонарушение', 'болотный', 'пикет', 'ирина', 'мария', 'увезти', 'плакат', 'повторный']\n",
      "topic_21: ['бить', 'закрывать', 'заводить', 'комната', 'елена', 'подъезд', 'спина', 'полтора', 'надевать', 'парк']\n",
      "topic_22: ['любой', 'пора', 'переводить', 'правовой', 'красный', 'практика', 'журнал', 'старый', 'конституция', 'сектор']\n",
      "topic_23: ['николай', 'сведение', 'военнослужащий', 'наличие', 'неоднократно', 'признание', 'ложный', 'милиция', 'распространять', '2006']\n",
      "topic_24: ['граница', 'станция', 'ехать', 'путь', 'метро', 'выезжать', 'институт', 'сумка', 'пассажир', 'производить']\n",
      "topic_25: ['выборы', 'протест', 'единый', 'уточняться', 'американский', 'гражданство', 'неизвестно', 'линия', 'протестовать', 'украинец']\n",
      "topic_26: ['международный', 'мемориал', 'подробно', 'статус', 'содержаться', 'помимо', 'рассматриваться', 'утверждение', 'северный', 'союз']\n",
      "topic_27: ['иностранный', 'министерство', 'вносить', 'агент', 'юридический', 'соответствующий', 'татарстан', 'минюст', 'реестр', 'казань']\n",
      "topic_28: ['европейский', 'половина', 'освобождение', 'исправительный', 'тюрьма', 'сотрудничать', 'санкция', 'этапировать', 'болезнь', 'тюремный']\n",
      "topic_29: ['помнить', 'вспоминать', 'задавать', 'нужный', 'далеко', 'мост', 'точно', 'сколько', 'далее', 'роль']\n",
      "topic_30: ['пистолет', 'открывать', 'характер', 'стрельба', 'стрелять', 'сексуальный', 'выстрел', 'насильственный', 'ресторан', 'автомат']\n",
      "topic_31: ['госпитализировать', 'пострадавший', 'тяжелый', 'хулиганство', 'обновлять', 'заболевание', 'предположительно', 'везти', 'транспорт', 'транспортный']\n",
      "topic_32: ['правило', 'предмет', 'объект', 'звонок', 'средний', 'деревня', 'гибдд', 'ленинградский', 'садиться', 'анонимный']\n",
      "topic_33: ['снова', 'никита', 'пакет', 'вещь', 'обещать', 'продолжаться', 'рядом', 'дата', 'посадить', 'провожать']\n",
      "topic_34: ['подписывать', 'рамка', 'поддержка', 'режиссер', 'тверской', 'выделять', 'обеспечивать', 'кирилл', 'культура', 'опрашивать']\n",
      "topic_35: ['иван', 'остальной', 'подзащитный', 'устраивать', 'состояться', 'вновь', 'вставать', 'заканчиваться', 'почта', 'провокация']\n",
      "topic_36: ['иной', 'автор', 'фильм', 'терроризм', 'поджог', 'возглавлять', 'террорист', 'учитель', 'удостоверение', 'атака']\n",
      "topic_37: ['особо', 'привлекать', 'миллион', 'вскоре', 'продавать', 'фирма', 'польза', 'явка', 'животное', 'жестокий']\n",
      "topic_38: ['теракт', 'подготовка', 'пожар', 'фонтанка', 'погибший', 'торговый', 'петербургский', 'жилой', 'изготовление', 'кемеровский']\n",
      "topic_39: ['эпизод', 'экстремизм', 'национальный', 'распоряжение', 'вадим', 'коллегия', 'исключать', 'оскорбление', 'точка', 'взгляд']\n",
      "topic_40: ['третий', 'полностью', 'девять', 'менее', 'норма', 'вводить', 'оглашение', 'процессуальный', 'принятие', 'оперативно']\n",
      "topic_41: ['партия', 'борьба', 'коррупция', 'призывать', 'интервью', 'народ', 'флаг', 'противодействие', 'объединение', 'сбор']\n",
      "topic_42: ['тяжкий', 'близкий', 'оперативный', 'повлечь', 'обвиняться', 'земля', 'последствие', 'примерно', 'подмосковье', 'приобретать']\n",
      "topic_43: ['политика', 'накануне', 'ссылаться', 'политик', 'координатор', 'посчитать', 'волонтер', 'вменять', 'оппозиционный', 'памятник']\n",
      "topic_44: ['покушение', 'илья', 'лидер', 'ранение', 'вооруженный', '2009', 'спецслужба', 'банда', '2008', 'огнестрельный']\n",
      "topic_45: ['предприятие', 'производство', 'почти', 'евро', 'обязывать', 'кировский', 'личность', 'отдельный', 'разрешение', 'заявитель']\n",
      "topic_46: ['останавливать', 'представляться', 'пообещать', 'предупреждать', 'команда', 'народный', 'сотрудница', 'свободный', 'анастасия', 'неповиновение']\n",
      "topic_47: ['открытый', 'инфо', 'центральный', 'оштрафовать', 'подпись', 'краевой', 'краснодарский', 'активистка', 'василий', 'краснодар']\n",
      "topic_48: ['россиянин', 'выдавать', 'завод', 'выпускать', 'подробность', 'вторник', 'вывозить', 'отряд', 'готовиться', 'сотня']\n",
      "topic_49: ['сидеть', 'минута', 'позвонить', 'черный', 'фамилия', 'общаться', 'куда', 'никогда', 'сестра', 'успевать']\n",
      "topic_50: ['совершенный', 'виктор', 'супруга', 'завершать', 'похищение', 'оказание', 'сговор', 'виталий', 'злоупотребление', 'существо']\n",
      "topic_51: ['форма', 'магазин', 'советский', 'дежурный', 'плохо', 'клуб', 'плохой', 'мэрия', 'новосибирск', 'новосибирский']\n",
      "topic_52: ['приходиться', 'назад', 'например', 'часто', 'возле', 'десяток', 'искать', 'бумага', 'конкретный', 'обычный']\n",
      "topic_53: ['юрий', 'передача', 'преследование', 'отрицать', 'басманный', 'продлять', 'валерий', 'прямой', 'прекращение', 'перенести']\n",
      "topic_54: ['твиттер', 'должно', 'уведомление', 'весна', 'вызов', 'обеспечение', 'электронный', 'площадка', 'повестка', 'подача']\n",
      "topic_55: ['судить', 'выясняться', 'жительница', 'упасть', 'пьяный', 'кафе', 'труп', 'выстреливать', 'потерять', 'живой']\n",
      "topic_56: ['происшествие', 'осмотр', 'метр', 'среда', 'охранник', 'огонь', 'пятеро', 'вердикт', 'макаров', 'осматривать']\n",
      "topic_57: ['увидеть', 'скрываться', 'поехать', 'одежда', 'зайти', 'звонить', 'видно', 'иванов', 'сильно', 'пара']\n",
      "topic_58: ['возможность', 'поддерживать', 'разный', 'позиция', 'следовать', 'книга', 'зачитывать', 'приобщать', 'середина', 'достаточно']\n",
      "topic_59: ['рабочий', 'зарплата', 'долг', 'работник', 'млрд', 'цена', 'план', 'вместо', 'платить', 'население']\n",
      "topic_60: ['офис', 'попытаться', 'нападать', 'окно', 'маска', 'очевидец', 'бутылка', 'осень', 'степень', 'двор']\n",
      "topic_61: ['скорый', 'участковый', 'нападывать', 'исполнение', 'прибывать', 'побои', 'предотвращение', 'изнасилование', 'халатность', 'мозг']\n"
     ]
    },
    {
     "name": "stdout",
     "output_type": "stream",
     "text": [
      "topic_62: ['ударять', 'превышение', 'причинение', 'условно', 'причинять', 'умышленный', 'неосторожность', 'ленинский', 'опасный', 'челябинский']\n",
      "topic_63: ['родитель', 'подобный', 'война', 'выражать', 'ролик', 'православный', 'кремль', 'мама', 'вокруг', 'определение']\n",
      "topic_64: ['операция', 'четверо', 'кадыров', 'чеченский', 'грозный', 'структура', 'группировка', 'боевик', 'ранить', 'исламский']\n",
      "topic_65: ['изолятор', 'гибель', 'надежда', 'держать', 'кровь', 'жаловаться', 'медик', 'временный', 'диагностировать', 'шизо']\n",
      "topic_66: ['полагать', 'мало', 'самолет', 'единственный', 'всего', 'купить', 'соответствие', 'четверг', 'подымать', 'аппарат']\n",
      "topic_67: ['сначала', 'нужно', 'ольга', 'наручник', 'лежать', 'присутствовать', 'защищать', 'объяснение', 'знак', 'клиент']\n",
      "topic_68: ['удаваться', 'десять', 'кража', 'вернуть', 'карта', 'роман', 'драка', 'мобильный', 'отправляться', 'одиночный']\n",
      "topic_69: ['госдума', 'телеканал', 'канал', 'редакция', 'дождь', 'публиковать', 'информационный', 'редактор', 'журналистка', 'телегр']\n",
      "topic_70: ['взрыв', 'хранение', 'устройство', 'кавказский', 'село', 'взрывной', 'дагестан', 'автобус', 'ингушетия', 'узел']\n",
      "topic_71: ['событие', 'фейсбук', 'планировать', 'беседа', 'пускать', 'ждать', 'киев', 'похожий', 'оценивать', 'состоять']\n",
      "topic_72: ['служебный', 'семь', 'старший', 'принадлежать', 'генпрокуратура', 'владелец', 'бизнес', 'неустановленный', 'сервис', 'скрывать']\n",
      "topic_73: ['комиссия', 'чиновник', 'основной', 'выполнять', 'учет', 'закрытый', 'согласие', 'головной', 'вынесение', 'учиться']\n",
      "topic_74: ['отец', 'давление', 'отмечаться', 'лето', 'антон', 'различный', 'поведение', 'привлечение', 'прием', 'мусульманин']\n",
      "topic_75: ['призыв', 'сообщество', 'социальный', 'публичный', 'признак', 'ненависть', 'текст', 'крымский', 'религиозный', 'соцсеть']\n",
      "topic_76: ['официальный', 'настоящий', 'несмотря', 'программа', 'контроль', 'лечение', 'инициатива', 'база', 'палата', 'пациент']\n",
      "topic_77: ['список', 'министр', 'возможный', 'федерация', 'история', 'образование', 'претензия', 'название', 'соответствовать', 'язык']\n",
      "topic_78: ['умирать', 'девочка', 'несовершеннолетний', 'рождение', 'выяснять', 'помощник', 'возраст', 'достигать', 'соседний', 'пожилой']\n",
      "topic_79: ['позволять', 'очередь', 'период', 'положение', 'дальнейший', 'ведомость', 'многий', 'тема', 'впервые', 'процедура']\n",
      "topic_80: ['гражданский', 'борис', 'руслан', 'доказывать', 'след', 'подразделение', 'батальон', 'оформлять', 'официально', 'исполнитель']\n",
      "topic_81: ['прекращать', 'отменять', 'освобождать', 'голодовка', 'добиваться', 'подписка', 'невыезд', 'минимум', 'соглашение', 'очередной']\n",
      "topic_82: ['оказывать', 'действовать', 'преступный', 'специальный', 'покидать', 'помещать', 'располагать', 'пятница', 'организованный', 'сопротивление']\n",
      "topic_83: ['создавать', '2011', 'отбывать', 'особый', 'арестованный', 'антифашист', 'руководить', 'церковь', 'пожизненный', '2007']\n",
      "topic_84: ['компенсация', 'подозрение', '2010', 'выплачивать', 'признаваться', 'пытать', 'причастный', 'умвд', 'забайкальский', 'частично']\n",
      "topic_85: ['предприниматель', 'необходимый', 'использование', 'включать', 'свердловский', 'екатеринбург', 'кандидат', 'представление', 'избирательный', 'инстанция']\n",
      "topic_86: ['специалист', 'частность', 'запрос', 'обсуждать', 'обвинительный', 'создание', 'иметься', 'оценка', 'изучать', 'фактически']\n",
      "topic_87: ['подходить', 'заставлять', 'ходить', 'больше', 'получаться', 'встречать', 'сдавать', 'ведь', 'услышать', 'переставать']\n",
      "topic_88: ['потребовать', 'бизнесмен', 'удовлетворять', 'спустя', 'удалять', 'выявлять', 'честь', 'постанавливать', 'достоинство', 'моральный']\n",
      "topic_89: ['использовать', 'вещество', 'исследование', 'высокий', 'количество', 'юлия', 'причем', 'присутствие', 'практически', 'ставить']\n",
      "topic_90: ['повреждение', 'внутренний', 'применять', 'обязанность', 'физический', 'боевой', 'телесный', 'исполнять', 'незаконно', 'профессиональный']\n",
      "topic_91: ['департамент', 'развитие', 'экономический', 'доллар', 'росбалт', 'уровень', 'медведев', 'вымогательство', 'труд', 'обмен']\n",
      "topic_92: ['полный', 'касаться', 'комментарий', 'общество', 'татьяна', 'необходимость', 'серьезный', 'осуществление', 'совещание', 'определенный']\n",
      "topic_93: ['проводиться', 'нижний', 'наталья', 'новгород', 'марта', 'техника', 'нижегородский', 'симферополь', 'рынок', 'столкновение']\n",
      "topic_94: ['собственный', 'денис', 'полковник', 'комплекс', 'предел', 'республиканский', 'криминальный', 'перестрелка', 'замглавы', 'строительный']\n",
      "topic_95: ['вывод', 'конечно', 'думать', 'смотреть', 'хороший', 'перечислять', 'интересоваться', 'сделка', 'копия', 'заканчивать']\n",
      "topic_96: ['участок', 'законопроект', 'возникать', 'оператор', 'объем', 'пенсионер', 'аналогичный', 'чтение', 'надпись', 'подготовить']\n",
      "topic_97: ['дверь', 'подросток', 'мальчик', 'дома', 'жертва', 'петр', 'пропадать', 'этаж', 'художник', 'психиатрический']\n",
      "topic_98: ['подозревать', 'дочь', 'детский', 'оборот', 'приказ', 'посещать', 'лагерь', 'проживать', 'признательный', 'готовить']\n",
      "topic_99: ['охрана', 'офицер', 'нацгвардия', 'лишать', 'командир', 'справка', 'армия', 'минобороны', 'секретарь', 'войско']\n"
     ]
    }
   ],
   "source": [
    "# Модель 1\n",
    "# Запуск регуляризатора SparsePhi\n",
    "\n",
    "model_artm = new_default_model(params['topic_count'], dictionary)\n",
    "model_artm.load(\"news_model_0\")\n",
    "\n",
    "if params['SparsePhi']['name'] not in list(model_artm.regularizers.data):\n",
    "    model_artm.regularizers.add(artm.SmoothSparsePhiRegularizer(name=params['SparsePhi']['name']))\n",
    "model_artm.regularizers[params['SparsePhi']['name']].tau = params['SparsePhi']['tau']\n",
    "\n",
    "model_artm.fit_offline(batch_vectorizer=batch_vectorizer, num_collection_passes=params['num_collection_passes'])\n",
    "model_print_results(model_artm)\n",
    "\n",
    "model_artm.save(\"news_model_1\")"
   ]
  },
  {
   "cell_type": "code",
   "execution_count": 13,
   "metadata": {},
   "outputs": [
    {
     "data": {
      "image/png": "[encoded data removed]",
      "text/plain": [
       "<matplotlib.figure.Figure at 0x117fe4978>"
      ]
     },
     "metadata": {},
     "output_type": "display_data"
    },
    {
     "name": "stdout",
     "output_type": "stream",
     "text": [
      "SparsityPhiScore: 0.989587664604187\n",
      "SparsityThetaScore: 0.8963887691497803\n",
      "\n",
      "topic_0: ['хорошо', 'обращать', 'поставлять', 'история', 'скоро', 'нужно', 'технический', 'записывать', 'заходить', 'ездить']\n",
      "topic_1: ['волков', 'сторонник', 'волк', 'леонид', 'вячеслав', 'организовывать', 'собрание', 'кампания', 'согласовывать', 'президентский']\n",
      "topic_2: ['соглашаться', 'отсутствие', 'правда', 'важный', 'оправдывать', 'солдат', 'смысл', 'письменный', 'приятель', 'немой']\n",
      "topic_3: ['банк', 'строительство', 'имущество', 'услуга', 'похищать', 'бюджет', 'связанный', 'выплата', 'увольнение', 'рост']\n",
      "topic_4: ['студент', 'бросать', 'университет', 'наркотический', 'стена', 'сбыт', 'способ', 'грамм', 'поле', 'посетитель']\n",
      "topic_5: ['кабинет', 'максим', 'причастность', 'частный', 'округ', 'школьник', 'артем', 'класс', 'полгода', 'избрание']\n",
      "topic_6: ['читать', 'оглашать', 'перерыв', 'нельзя', 'голос', 'возражать', 'михайлов', 'выступление', 'пользоваться', 'уверенный']\n",
      "topic_7: ['пойти', 'паспорт', 'действительно', 'приносить', 'посмотреть', 'постоянно', 'анна', 'возможно', 'следить', 'прямо']\n",
      "topic_8: ['пристав', 'течение', 'законодательство', 'ущерб', 'предусматривать', 'кодекс', 'определять', 'изменять', 'поселение', 'дача']\n",
      "topic_9: ['восемь', 'угрожать', 'видеозапись', 'левый', 'реальный', 'омон', 'выход', 'условный', 'пожарный', 'гость']\n",
      "topic_10: ['вконтакте', 'блокировка', 'павел', 'пользователь', 'запрет', 'доступ', 'заблокировать', 'ограничение', 'зарегистрировать', 'содержать']\n",
      "topic_11: ['вернуться', 'уезжать', 'встречаться', 'описывать', 'некий', 'переписка', 'отдавать', 'деталь', 'вынуждать', 'общение']\n",
      "topic_12: ['известный', 'изменение', 'продажа', 'распространение', 'назначение', 'предложение', 'готовый', 'константин', 'дополнительный', 'понедельник']\n",
      "topic_13: ['еспча', 'нарушать', 'мосгорсуд', 'законный', 'обжаловать', 'конвенция', 'мотив', 'конституционный', 'отклонять', 'апелляционный']\n",
      "topic_14: ['мошенничество', 'должность', 'занимать', 'договор', 'счет', 'хищение', 'гендиректор', 'денежный', 'стоимость', 'финансовый']\n",
      "topic_15: ['домой', 'туда', 'привозить', 'рано', 'садиться', 'глаз', 'плохо', 'отвозить', 'кричать', 'сосед']\n",
      "topic_16: ['коллега', 'увольнять', 'случаться', 'инспектор', 'опьянение', 'алкогольный', 'отставка', 'вино', 'живот', 'куртка']\n",
      "topic_17: ['боец', 'вступать', 'сирия', 'служить', 'цитировать', 'комментировать', 'ходатайствовать', 'переходить', 'восток', 'пресса']\n",
      "topic_18: ['аэропорт', 'вода', 'разрешать', 'светлана', 'указание', 'ключ', 'наверное', 'телефонный', 'упоминаться', 'исключение']\n",
      "topic_19: ['правый', 'травма', 'зона', 'скончаться', 'зафиксировать', 'блогер', 'сломать', 'многочисленный', 'перелом', 'чувство']\n",
      "topic_20: ['оппозиционер', 'болотный', 'беспорядок', 'пикет', 'правонарушение', 'плакат', 'ирина', 'повторный', 'увезти', 'установленный']\n",
      "topic_21: ['бить', 'закрывать', 'комната', 'заводить', 'елена', 'спина', 'подъезд', 'надевать', 'парк', 'полтора']\n",
      "topic_22: ['любой', 'переводить', 'красный', 'практика', 'журнал', 'правовой', 'сектор', 'старый', 'конституция', 'пора']\n",
      "topic_23: ['николай', 'сведение', 'военнослужащий', 'ложный', 'милиция', 'наличие', 'признание', 'неоднократно', 'распространять', 'тайна']\n",
      "topic_24: ['станция', 'дорога', 'ехать', 'граница', 'метро', 'путь', 'сумка', 'институт', 'выезжать', 'пассажир']\n",
      "topic_25: ['выборы', 'протест', 'единый', 'гражданство', 'американский', 'украинец', 'линия', 'протестовать', 'неизвестно', 'поездка']\n",
      "topic_26: ['международный', 'мемориал', 'статус', 'подробно', 'содержаться', 'помимо', 'утверждение', 'северный', 'союз', 'рассматриваться']\n",
      "topic_27: ['иностранный', 'министерство', 'агент', 'вносить', 'татарстан', 'минюст', 'реестр', 'казань', 'юридический', 'соответствующий']\n",
      "topic_28: ['европейский', 'тюрьма', 'освобождение', 'исправительный', 'половина', 'тюремный', 'сотрудничать', 'болезнь', 'этапировать', 'санкция']\n",
      "topic_29: ['помнить', 'вспоминать', 'задавать', 'нужный', 'далеко', 'мост', 'сколько', 'точно', 'переходить', 'зачитывать']\n",
      "topic_30: ['пистолет', 'открывать', 'характер', 'стрельба', 'стрелять', 'сексуальный', 'выстрел', 'автомат', 'ресторан', 'насильственный']\n",
      "topic_31: ['тяжелый', 'пострадавший', 'хулиганство', 'госпитализировать', 'заболевание', 'везти', 'транспорт', 'транспортный', 'мелкий', 'обновлять']\n",
      "topic_32: ['правило', 'предмет', 'звонок', 'объект', 'средний', 'деревня', 'гибдд', 'анонимный', 'дорожный', 'тяжесть']\n",
      "topic_33: ['снова', 'никита', 'пакет', 'вещь', 'продолжаться', 'обещать', 'посадить', 'дата', 'стол', 'гособвинитель']\n",
      "topic_34: ['подписывать', 'поддержка', 'рамка', 'режиссер', 'тверской', 'кирилл', 'выделять', 'культура', 'обеспечивать', 'опрашивать']\n",
      "topic_35: ['иван', 'подзащитный', 'остальной', 'вновь', 'состояться', 'устраивать', 'вставать', 'почта', 'заканчиваться', 'замечание']\n",
      "topic_36: ['фильм', 'терроризм', 'автор', 'поджог', 'иной', 'террорист', 'учитель', 'атака', 'возглавлять', 'удостоверение']\n",
      "topic_37: ['миллион', 'особо', 'привлекать', 'вскоре', 'продавать', 'животное', 'фирма', 'явка', 'польза', 'дисциплинарный']\n",
      "topic_38: ['теракт', 'пожар', 'подготовка', 'фонтанка', 'торговый', 'погибший', 'петербургский', 'жилой', 'изготовление', 'кемеровский']\n",
      "topic_39: ['эпизод', 'экстремизм', 'национальный', 'вадим', 'коллегия', 'точка', 'распоряжение', 'исключать', 'оскорбление', 'высказывание']\n",
      "topic_40: ['третий', 'полностью', 'норма', 'девять', 'менее', 'оглашение', 'вводить', 'оперативно', 'принятие', 'процессуальный']\n",
      "topic_41: ['партия', 'борьба', 'коррупция', 'народ', 'призывать', 'интервью', 'флаг', 'противодействие', 'лидер', 'объединение']\n",
      "topic_42: ['тяжкий', 'оперативный', 'близкий', 'повлечь', 'земля', 'последствие', 'обвиняться', 'приморский', 'приобретать', 'подмосковье']\n",
      "topic_43: ['политика', 'политик', 'координатор', 'волонтер', 'накануне', 'оппозиционный', 'памятник', 'листовка', 'посчитать', 'вменять']\n",
      "topic_44: ['покушение', 'илья', 'вооруженный', 'ранение', '2009', 'спецслужба', 'банда', '2008', 'лидер', 'огнестрельный']\n",
      "topic_45: ['предприятие', 'производство', 'евро', 'кировский', 'обязывать', 'заявитель', 'разрешение', 'личность', 'отдельный', 'доход']\n",
      "topic_46: ['представляться', 'останавливать', 'пообещать', 'предупреждать', 'команда', 'народный', 'сотрудница', 'свободный', 'вход', 'анастасия']\n",
      "topic_47: ['открытый', 'инфо', 'оштрафовать', 'подпись', 'центральный', 'краснодарский', 'активистка', 'краевой', 'краснодар', 'марш']\n",
      "topic_48: ['россиянин', 'завод', 'выдавать', 'выпускать', 'отряд', 'посольство', 'вывозить', 'готовиться', 'подробность', 'сотня']\n",
      "topic_49: ['сидеть', 'минута', 'черный', 'никогда', 'общаться', 'здесь', 'фамилия', 'сестра', 'куда', 'позвонить']\n",
      "topic_50: ['совершенный', 'виктор', 'супруга', 'похищение', 'сговор', 'завершать', 'оказание', 'инвалид', 'виталий', 'существо']\n",
      "topic_51: ['магазин', 'советский', 'клуб', 'дежурный', 'новосибирск', 'мэрия', 'новосибирский', 'плохой', 'форма', 'символика']\n",
      "topic_52: ['например', 'приходиться', 'часто', 'назад', 'искать', 'всегда', 'возле', 'бумага', 'десяток', 'конкретный']\n",
      "topic_53: ['юрий', 'передача', 'отрицать', 'преследование', 'басманный', 'продлять', 'прямой', 'валерий', 'прекращение', 'эфир']\n",
      "topic_54: ['твиттер', 'уведомление', 'должно', 'электронный', 'обеспечение', 'весна', 'повестка', 'вызов', 'площадка', 'подача']\n",
      "topic_55: ['судить', 'кафе', 'упасть', 'пьяный', 'труп', 'выясняться', 'жительница', 'потерять', 'сознание', 'выстреливать']\n",
      "topic_56: ['осмотр', 'происшествие', 'охранник', 'метр', 'огонь', 'вердикт', 'макаров', 'пятеро', 'среда', 'осматривать']\n",
      "topic_57: ['увидеть', 'поехать', 'скрываться', 'одежда', 'звонить', 'зайти', 'видно', 'иванов', 'пара', 'сильно']\n",
      "topic_58: ['поддерживать', 'возможность', 'позиция', 'разный', 'книга', 'следовать', 'приобщать', 'возникать', 'достаточно', 'зачитывать']\n",
      "topic_59: ['зарплата', 'рабочий', 'долг', 'работник', 'цена', 'млрд', 'платить', 'население', 'кредит', 'вместо']\n",
      "topic_60: ['офис', 'нападать', 'попытаться', 'окно', 'бутылка', 'маска', 'очевидец', 'двор', 'разбивать', 'степень']\n",
      "topic_61: ['скорый', 'участковый', 'нападывать', 'прибывать', 'исполнение', 'предотвращение', 'изнасилование', 'побои', 'мозг', 'халатность']\n",
      "topic_62: ['причинение', 'ударять', 'превышение', 'условно', 'умышленный', 'неосторожность', 'причинять', 'челябинский', 'ленинский', 'электрошокер']\n"
     ]
    },
    {
     "name": "stdout",
     "output_type": "stream",
     "text": [
      "topic_63: ['родитель', 'война', 'подобный', 'ролик', 'мама', 'православный', 'кремль', 'выражать', 'вокруг', 'определение']\n",
      "topic_64: ['кадыров', 'грозный', 'чеченский', 'операция', 'боевик', 'группировка', 'четверо', 'структура', 'исламский', 'ранить']\n",
      "topic_65: ['изолятор', 'гибель', 'надежда', 'кровь', 'держать', 'медик', 'временный', 'шизо', 'клетка', 'диагностировать']\n",
      "topic_66: ['самолет', 'мало', 'единственный', 'полагать', 'купить', 'всего', 'подымать', 'соответствие', 'аппарат', 'несмотря']\n",
      "topic_67: ['сначала', 'ольга', 'нужно', 'лежать', 'наручник', 'защищать', 'присутствовать', 'объяснение', 'знак', 'обычно']\n",
      "topic_68: ['удаваться', 'кража', 'десять', 'карта', 'вернуть', 'драка', 'роман', 'мобильный', 'отправляться', 'одиночный']\n",
      "topic_69: ['госдума', 'телеканал', 'канал', 'редакция', 'дождь', 'телегр', 'редактор', 'информационный', 'журналистка', 'поправка']\n",
      "topic_70: ['взрыв', 'устройство', 'хранение', 'кавказский', 'взрывной', 'дагестан', 'село', 'ингушетия', 'узел', 'автобус']\n",
      "topic_71: ['событие', 'пускать', 'фейсбук', 'киев', 'беседа', 'планировать', 'похожий', 'оценивать', 'состоять', 'радио']\n",
      "topic_72: ['служебный', 'семь', 'старший', 'принадлежать', 'владелец', 'бизнес', 'генпрокуратура', 'сервис', 'неустановленный', 'скрывать']\n",
      "topic_73: ['комиссия', 'чиновник', 'основной', 'выполнять', 'учет', 'закрытый', 'согласие', 'головной', 'учиться', 'высокопоставленный']\n",
      "topic_74: ['отец', 'давление', 'лето', 'антон', 'поведение', 'отмечаться', 'различный', 'мусульманин', 'коридор', 'младший']\n",
      "topic_75: ['призыв', 'сообщество', 'публичный', 'социальный', 'ненависть', 'текст', 'признак', 'религиозный', 'крымский', 'вражда']\n",
      "topic_76: ['официальный', 'программа', 'настоящий', 'лечение', 'пациент', 'палата', 'инициатива', 'контроль', 'база', 'принудительный']\n",
      "topic_77: ['список', 'министр', 'федерация', 'возможный', 'образование', 'претензия', 'название', 'язык', 'соответствовать', 'основа']\n",
      "topic_78: ['девочка', 'умирать', 'несовершеннолетний', 'рождение', 'возраст', 'выяснять', 'помощник', 'достигать', 'соседний', 'малолетний']\n",
      "topic_79: ['позволять', 'почти', 'очередь', 'период', 'положение', 'ведомость', 'многий', 'дальнейший', 'тема', 'впервые']\n",
      "topic_80: ['борис', 'руслан', 'гражданский', 'доказывать', 'след', 'батальон', 'подразделение', 'оформлять', 'официально', 'исполнитель']\n",
      "topic_81: ['прекращать', 'отменять', 'голодовка', 'освобождать', 'подписка', 'невыезд', 'добиваться', 'соглашение', 'минимум', 'отмена']\n",
      "topic_82: ['оказывать', 'преступный', 'действовать', 'специальный', 'покидать', 'помещать', 'располагать', 'организованный', 'сопротивление', 'пятница']\n",
      "topic_83: ['создавать', '2011', 'особый', 'антифашист', 'отбывать', 'арестованный', 'церковь', 'пожизненный', '2007', 'указ']\n",
      "topic_84: ['компенсация', 'выплачивать', '2010', 'пытать', 'признаваться', 'подозрение', 'забайкальский', 'саратовский', 'причастный', 'саратов']\n",
      "topic_85: ['предприниматель', 'необходимый', 'включать', 'екатеринбург', 'свердловский', 'использование', 'кандидат', 'избирательный', 'представление', 'инстанция']\n",
      "topic_86: ['специалист', 'обсуждать', 'напоминать', 'запрос', 'обвинительный', 'частность', 'создание', 'изучать', 'иметься', 'оценка']\n",
      "topic_87: ['подходить', 'ходить', 'заставлять', 'больше', 'получаться', 'собирать', 'встречать', 'ведь', 'сдавать', 'бояться']\n",
      "topic_88: ['бизнесмен', 'удовлетворять', 'потребовать', 'удалять', 'спустя', 'честь', 'моральный', 'достоинство', 'постанавливать', 'выявлять']\n",
      "topic_89: ['использовать', 'вещество', 'исследование', 'высокий', 'количество', 'юлия', 'причем', 'присутствие', 'практически', 'ставить']\n",
      "topic_90: ['повреждение', 'применять', 'обязанность', 'внутренний', 'физический', 'телесный', 'исполнять', 'профессиональный', 'толпа', 'незаконно']\n",
      "topic_91: ['департамент', 'доллар', 'медведев', 'росбалт', 'развитие', 'экономический', 'уровень', 'вымогательство', 'труд', 'обмен']\n",
      "topic_92: ['касаться', 'общество', 'полный', 'комментарий', 'татьяна', 'необходимость', 'совещание', 'доклад', 'существовать', 'определенный']\n",
      "topic_93: ['нижний', 'проводиться', 'новгород', 'наталья', 'симферополь', 'марта', 'нижегородский', 'рынок', 'техника', 'оборудование']\n",
      "topic_94: ['собственный', 'денис', 'полковник', 'перестрелка', 'комплекс', 'криминальный', 'генерал', 'эдуард', 'замглавы', 'предел']\n",
      "topic_95: ['конечно', 'вывод', 'смотреть', 'хороший', 'перечислять', 'интересоваться', 'думать', 'сделка', 'форма', 'заканчивать']\n",
      "topic_96: ['законопроект', 'участок', 'пенсионер', 'оператор', 'объем', 'чтение', 'дума', 'надпись', 'подготовить', 'сокращать']\n",
      "topic_97: ['подросток', 'дверь', 'мальчик', 'жертва', 'петр', 'дома', 'художник', 'этаж', 'пропадать', 'психиатрический']\n",
      "topic_98: ['дочь', 'детский', 'подозревать', 'лагерь', 'приказ', 'оборот', 'посещать', 'проживать', 'признательный', 'готовить']\n",
      "topic_99: ['офицер', 'охрана', 'нацгвардия', 'командир', 'справка', 'армия', 'минобороны', 'войско', 'секретарь', 'лишать']\n"
     ]
    }
   ],
   "source": [
    "# Модель 2\n",
    "# Запуск регуляризатора SparseTheta\n",
    "\n",
    "model_artm = new_default_model(params['topic_count'], dictionary)\n",
    "model_artm.load(\"news_model_1\")\n",
    "\n",
    "if params['SparsePhi']['name'] not in list(model_artm.regularizers.data):\n",
    "    model_artm.regularizers.add(artm.SmoothSparsePhiRegularizer(name=params['SparsePhi']['name']))\n",
    "model_artm.regularizers[params['SparsePhi']['name']].tau = params['SparsePhi']['tau']\n",
    "    \n",
    "if params['SparseTheta']['name'] not in list(model_artm.regularizers.data):\n",
    "    model_artm.regularizers.add(artm.SmoothSparseThetaRegularizer(name=params['SparseTheta']['name']))\n",
    "model_artm.regularizers[params['SparseTheta']['name']].tau = params['SparseTheta']['tau']\n",
    "\n",
    "model_artm.fit_offline(batch_vectorizer=batch_vectorizer, num_collection_passes=params['num_collection_passes'])\n",
    "model_print_results(model_artm)\n",
    "\n",
    "model_artm.save(\"news_model_2\")"
   ]
  },
  {
   "cell_type": "code",
   "execution_count": null,
   "metadata": {},
   "outputs": [],
   "source": []
  },
  {
   "cell_type": "code",
   "execution_count": null,
   "metadata": {},
   "outputs": [],
   "source": []
  },
  {
   "cell_type": "code",
   "execution_count": null,
   "metadata": {},
   "outputs": [],
   "source": [
    "SparsityPhiScore: 0.8874656558036804\n",
    "SparsityThetaScore: 0.6712796092033386"
   ]
  },
  {
   "cell_type": "code",
   "execution_count": null,
   "metadata": {},
   "outputs": [],
   "source": [
    "SparsityPhiScore: 0.8848817944526672\n",
    "SparsityThetaScore: 0.4675273895263672"
   ]
  },
  {
   "cell_type": "code",
   "execution_count": null,
   "metadata": {},
   "outputs": [],
   "source": [
    "SparsityPhiScore: 0.9008246064186096\n",
    "SparsityThetaScore: 0.47223731875419617"
   ]
  },
  {
   "cell_type": "code",
   "execution_count": null,
   "metadata": {},
   "outputs": [],
   "source": []
  },
  {
   "cell_type": "code",
   "execution_count": null,
   "metadata": {},
   "outputs": [],
   "source": []
  },
  {
   "cell_type": "code",
   "execution_count": null,
   "metadata": {},
   "outputs": [],
   "source": []
  },
  {
   "cell_type": "code",
   "execution_count": 67,
   "metadata": {},
   "outputs": [
    {
     "name": "stdout",
     "output_type": "stream",
     "text": [
      "topic_0: ['специалист', 'например', 'цена', 'исследование', 'передача', 'технический', 'использовать', 'высокий', 'следовать', 'подобный']\n",
      "topic_1: ['партия', 'волков', 'волк', 'сторонник', 'оппозиционер', 'инфо', 'публичный', 'пикет', 'подпись', 'леонид']\n",
      "topic_2: ['доказывать', 'обвинительный', 'преступный', 'николай', 'полностью', 'полагать', 'вновь', 'соглашаться', 'ссылаться', 'тяжкий']\n",
      "topic_3: ['предприятие', 'зарплата', 'министр', 'банк', 'долг', 'бизнесмен', 'млрд', 'чиновник', 'счет', 'строительство']\n",
      "topic_4: ['устройство', 'вещество', 'родитель', 'лагерь', 'звонок', 'магазин', 'торговый', 'взрывной', 'студент', 'советский']\n",
      "topic_5: ['подросток', 'пожар', 'детский', 'несовершеннолетний', 'мальчик', 'погибший', 'возраст', 'отец', 'служебный', 'гибель']\n",
      "topic_6: ['читать', 'задавать', 'оглашать', 'перерыв', 'напоминать', 'возражать', 'помнить', 'карта', 'общаться', 'осмотр']\n",
      "topic_7: ['зачитывать', 'нужный', 'след', 'вещь', 'поехать', 'паспорт', 'действительно', 'взрыв', 'станция', 'минута']\n",
      "topic_8: ['самолет', 'комиссия', 'голодовка', 'изолятор', 'крымский', 'аэропорт', 'беспорядок', 'этап', 'отбывать', 'протест']\n",
      "topic_9: ['дверь', 'бить', 'дочь', 'девочка', 'угрожать', 'болотный', 'заводить', 'ударять', 'бросать', 'участковый']\n",
      "topic_10: ['иностранный', 'агент', 'призыв', 'блокировка', 'реестр', 'пользователь', 'международный', 'выборы', 'доступ', 'запрет']\n",
      "topic_11: ['кадыров', 'грозный', 'телеканал', 'чеченский', 'программа', 'марта', 'преследование', 'канал', 'кавказский', 'журнал']\n",
      "topic_12: ['никита', 'илья', 'юрий', 'список', 'сообщество', 'книга', 'киев', 'банда', 'антифашист', 'лидер']\n",
      "topic_13: ['еспча', 'госдума', 'законопроект', 'европейский', 'нарушать', 'норма', 'заявитель', 'фильм', 'координатор', 'законный']\n",
      "topic_14: ['договор', 'создавать', 'департамент', 'уровень', 'объем', 'мемориал', 'подписывать', 'предприниматель', 'хранение', 'касаться']\n",
      "topic_15: ['кабинет', 'садиться', 'увидеть', 'сидеть', 'глаз', 'подходить', 'кричать', 'одежда', 'плохо', 'отец']\n",
      "topic_16: ['повреждение', 'травма', 'умирать', 'причинение', 'автобус', 'скончаться', 'происшествие', 'упасть', 'превышение', 'средний']\n",
      "topic_17: ['вооруженный', 'теракт', 'боец', 'стрелять', 'батальон', 'военнослужащий', 'офицер', 'огонь', 'руслан', 'боевик']\n",
      "topic_18: ['вспоминать', 'здесь', 'хорошо', 'помнить', 'думать', 'конечно', 'интересоваться', 'часто', 'далеко', 'сначала']\n",
      "topic_19: ['правый', 'зона', 'признак', 'ненависть', 'религиозный', 'заболевание', 'лечение', 'освобождение', 'пациент', 'чувство']\n"
     ]
    }
   ],
   "source": [
    "topic_list = list(model_artm.score_tracker['TopTokensScore'].last_tokens.keys())\n",
    "\n",
    "for topic_name in topic_list:\n",
    "    print(topic_name + ': ', end='')\n",
    "    print(model_artm.score_tracker['TopTokensScore'].last_tokens[topic_name])"
   ]
  },
  {
   "cell_type": "code",
   "execution_count": null,
   "metadata": {},
   "outputs": [],
   "source": []
  },
  {
   "cell_type": "code",
   "execution_count": null,
   "metadata": {},
   "outputs": [],
   "source": []
  },
  {
   "cell_type": "code",
   "execution_count": null,
   "metadata": {},
   "outputs": [],
   "source": []
  },
  {
   "cell_type": "code",
   "execution_count": null,
   "metadata": {},
   "outputs": [],
   "source": []
  },
  {
   "cell_type": "code",
   "execution_count": 11,
   "metadata": {},
   "outputs": [
    {
     "data": {
      "image/png": "[encoded data removed]",
      "text/plain": [
       "<matplotlib.figure.Figure at 0x111ff80b8>"
      ]
     },
     "metadata": {},
     "output_type": "display_data"
    },
    {
     "name": "stdout",
     "output_type": "stream",
     "text": [
      "SparsityPhiScore: 0.0\n",
      "SparsityThetaScore: 0.0\n"
     ]
    }
   ],
   "source": [
    "# Модель 3\n",
    "# Запуск регуляризатора SparseTheta\n",
    "\n",
    "model_artm = new_default_model(topic_count, dictionary)\n",
    "\n",
    "model_artm.load(\"news_model_2\")\n",
    "\n",
    "model_artm.regularizers.add(artm.SmoothSparseThetaRegularizer(name='TopicSelectionTheta'))\n",
    "model_artm.regularizers['TopicSelectionTheta'].tau = 1\n",
    "\n",
    "model_artm.fit_offline(batch_vectorizer=batch_vectorizer, num_collection_passes=20)\n",
    "model_print_results(model_artm)\n",
    "\n",
    "model_artm.save(\"news_model_3\")"
   ]
  },
  {
   "cell_type": "code",
   "execution_count": 34,
   "metadata": {},
   "outputs": [
    {
     "name": "stdout",
     "output_type": "stream",
     "text": [
      "topic_0: ['специалист', 'вывод', 'исследование', 'любой', 'например', 'высокий', 'подобный', 'технический', 'использовать', 'возможность']\n",
      "topic_1: ['партия', 'оппозиционер', 'инфо', 'публичный', 'открытый', 'сторонник', 'оштрафовать', 'твиттер', 'волков', 'борьба']\n",
      "topic_2: ['обвинительный', 'эпизод', 'кража', 'соглашаться', 'давление', 'добиваться', 'вадим', 'полагать', 'доказывать', 'признаваться']\n",
      "topic_3: ['предприятие', 'особо', 'бизнесмен', 'мошенничество', 'миллион', 'министр', 'банк', 'зарплата', 'счет', 'чиновник']\n",
      "topic_4: ['родитель', 'устройство', 'хранение', 'вещество', 'звонок', 'магазин', 'студент', 'правда', 'лагерь', 'взрывной']\n",
      "topic_5: ['подросток', 'несовершеннолетний', 'гибель', 'проводиться', 'пожар', 'детский', 'мальчик', 'округ', 'погибший', 'рождение']\n",
      "topic_6: ['выборы', 'читать', 'напоминать', 'подпись', 'оглашать', 'никита', 'обсуждать', 'задавать', 'перерыв', 'позиция']\n",
      "topic_7: ['взрыв', 'паспорт', 'тюрьма', 'станция', 'вещь', 'минута', 'хороший', 'мост', 'метро', 'действительно']\n",
      "topic_8: ['изолятор', 'комиссия', 'освобождать', 'освобождение', 'исправительный', 'голодовка', 'половина', 'беспорядок', 'отбывать', 'самолет']\n",
      "topic_9: ['дверь', 'угрожать', 'дочь', 'нападать', 'попытаться', 'ударять', 'девочка', 'участковый', 'окно', 'подписка']\n",
      "topic_10: ['призыв', 'иностранный', 'социальный', 'список', 'международный', 'министерство', 'запрет', 'доступ', 'агент', 'текст']\n",
      "topic_11: ['телеканал', 'борис', 'канал', 'политика', 'кадыров', 'чеченский', 'грозный', 'редакция', 'кавказский', 'интервью']\n",
      "topic_12: ['юрий', 'сообщество', 'илья', 'известный', 'лидер', 'виктор', 'денис', 'режиссер', '2009', 'книга']\n",
      "topic_13: ['госдума', 'еспча', 'нарушать', 'европейский', 'отменять', 'компенсация', 'законопроект', 'обжаловать', 'фильм', 'координатор']\n",
      "topic_14: ['занимать', 'офис', 'должность', 'подписывать', 'предприниматель', 'выполнять', 'департамент', 'мемориал', 'создавать', 'приказ']\n",
      "topic_15: ['пистолет', 'след', 'домой', 'садиться', 'вернуться', 'увидеть', 'дорога', 'уезжать', 'отец', 'сестра']\n",
      "topic_16: ['повреждение', 'превышение', 'умирать', 'тяжкий', 'скончаться', 'травма', 'причинение', 'скорый', 'повлечь', 'госпитализировать']\n",
      "topic_17: ['покушение', 'теракт', 'вооруженный', 'подготовка', 'ранение', 'фонтанка', 'боец', 'военнослужащий', 'стрельба', 'причастность']\n",
      "topic_18: ['вспоминать', 'помнить', 'сидеть', 'думать', 'хорошо', 'пристав', 'конечно', 'зачитывать', 'встречаться', 'смотреть']\n",
      "topic_19: ['признак', 'ненависть', 'зона', 'правый', 'характер', 'лечение', 'религиозный', 'татарстан', 'заболевание', 'вражда']\n"
     ]
    }
   ],
   "source": [
    "#topic_list = model_artm.topic_names\n",
    "topic_list = list(model_artm.score_tracker['TopTokensScore'].last_tokens.keys())\n",
    "\n",
    "for topic_name in topic_list:\n",
    "    print(topic_name + ': ', end='')\n",
    "    print(model_artm.score_tracker['TopTokensScore'].last_tokens[topic_name])"
   ]
  },
  {
   "cell_type": "code",
   "execution_count": null,
   "metadata": {},
   "outputs": [],
   "source": []
  },
  {
   "cell_type": "code",
   "execution_count": null,
   "metadata": {},
   "outputs": [],
   "source": []
  },
  {
   "cell_type": "code",
   "execution_count": null,
   "metadata": {},
   "outputs": [],
   "source": []
  },
  {
   "cell_type": "code",
   "execution_count": null,
   "metadata": {},
   "outputs": [],
   "source": []
  },
  {
   "cell_type": "code",
   "execution_count": null,
   "metadata": {},
   "outputs": [],
   "source": []
  },
  {
   "cell_type": "code",
   "execution_count": null,
   "metadata": {},
   "outputs": [],
   "source": []
  },
  {
   "cell_type": "code",
   "execution_count": 11,
   "metadata": {},
   "outputs": [
    {
     "data": {
      "image/png": "[encoded data removed]",
      "text/plain": [
       "<matplotlib.figure.Figure at 0x11c7804a8>"
      ]
     },
     "metadata": {},
     "output_type": "display_data"
    },
    {
     "name": "stdout",
     "output_type": "stream",
     "text": [
      "SparsityPhiScore: 0.0\n",
      "SparsityThetaScore: 0.0\n"
     ]
    }
   ],
   "source": [
    "# Модель 3\n",
    "# Запуск регуляризатора DecorrelatorPhi\n",
    "\n",
    "model_artm = new_default_model(topic_count, dictionary)\n",
    "\n",
    "model_artm.load(\"news_model_2\")\n",
    "\n",
    "model_artm.regularizers.add(artm.//(name='DecorrelatorPhi'))\n",
    "model_artm.regularizers['DecorrelatorPhi'].tau = 0.1\n",
    "\n",
    "model_artm.fit_offline(batch_vectorizer=batch_vectorizer, num_collection_passes=20)\n",
    "model_print_results(model_artm)\n",
    "\n",
    "model_artm.save(\"news_model_3\")"
   ]
  },
  {
   "cell_type": "code",
   "execution_count": 12,
   "metadata": {},
   "outputs": [
    {
     "data": {
      "text/plain": [
       "[DecorrelatorPhi]"
      ]
     },
     "execution_count": 12,
     "metadata": {},
     "output_type": "execute_result"
    }
   ],
   "source": [
    "model_artm.regularizers"
   ]
  },
  {
   "cell_type": "code",
   "execution_count": null,
   "metadata": {},
   "outputs": [],
   "source": []
  },
  {
   "cell_type": "code",
   "execution_count": null,
   "metadata": {},
   "outputs": [],
   "source": []
  },
  {
   "cell_type": "code",
   "execution_count": null,
   "metadata": {},
   "outputs": [],
   "source": []
  },
  {
   "cell_type": "code",
   "execution_count": null,
   "metadata": {},
   "outputs": [],
   "source": []
  },
  {
   "cell_type": "code",
   "execution_count": 131,
   "metadata": {},
   "outputs": [],
   "source": [
    "# Установка регуляризаторов\n",
    "model_artm.regularizers.add(artm.SmoothSparsePhiRegularizer(name='SparsePhi'))\n",
    "#model_artm.regularizers.add(artm.SmoothSparseThetaRegularizer(name='SparseTheta'))\n",
    "#model_artm.regularizers.add(artm.DecorrelatorPhiRegularizer(name='DecorrelatorPhi'))\n",
    "\n",
    "\n",
    "#model_artm.regularizers.add(artm.TopicSelectionThetaRegularizer(name='TopicSelectionTheta', tau=0.1))"
   ]
  },
  {
   "cell_type": "code",
   "execution_count": 132,
   "metadata": {},
   "outputs": [],
   "source": [
    "# Правка регуляризаторов\n",
    "model_artm.regularizers['SparsePhi'].tau = -3\n",
    "#model_artm.regularizers['SparseTheta'].tau = -2\n",
    "#model_artm.regularizers['DecorrelatorPhi'].tau = 2.5e+5"
   ]
  },
  {
   "cell_type": "code",
   "execution_count": null,
   "metadata": {},
   "outputs": [],
   "source": []
  },
  {
   "cell_type": "code",
   "execution_count": 136,
   "metadata": {},
   "outputs": [],
   "source": [
    "model_artm.regularizers.add(artm.SmoothSparseThetaRegularizer(name='SparseTheta'))\n",
    "model_artm.regularizers['SparseTheta'].tau = -2"
   ]
  },
  {
   "cell_type": "code",
   "execution_count": null,
   "metadata": {},
   "outputs": [],
   "source": []
  },
  {
   "cell_type": "code",
   "execution_count": 137,
   "metadata": {},
   "outputs": [
    {
     "data": {
      "image/png": "[encoded data removed]",
      "text/plain": [
       "<matplotlib.figure.Figure at 0x1166ec588>"
      ]
     },
     "metadata": {},
     "output_type": "display_data"
    },
    {
     "name": "stdout",
     "output_type": "stream",
     "text": [
      "SparsityPhiScore: 0.85197913646698\n",
      "SparsityThetaScore: 0.6784400939941406\n"
     ]
    }
   ],
   "source": [
    "# Первичное обучение модели\n",
    "model_artm.fit_offline(batch_vectorizer=batch_vectorizer, num_collection_passes=30)\n",
    "model_results(model_artm)"
   ]
  },
  {
   "cell_type": "code",
   "execution_count": 22,
   "metadata": {},
   "outputs": [
    {
     "name": "stdout",
     "output_type": "stream",
     "text": [
      "topic_0: ['использовать', 'специалист', 'разный', 'вывод', 'передача', 'оперативный', 'обращать', 'основной', 'операция', 'обсуждать']\n",
      "topic_1: ['партия', 'публичный', 'вконтакте', 'лидер', 'инфо', 'оппозиционер', 'борьба', 'оштрафовать', 'сторонник', 'организовывать']\n",
      "topic_2: ['тяжкий', 'семь', 'соглашаться', 'третий', 'внутренний', 'освобождать', 'отсутствие', 'позиция', 'следовать', 'вскоре']\n",
      "topic_3: ['предприятие', 'бизнесмен', 'мошенничество', 'министр', 'миллион', 'рабочий', 'чиновник', 'счет', 'имущество', 'банк']\n",
      "topic_4: ['родитель', 'предмет', 'десять', 'устройство', 'иван', 'вещество', 'вернуть', 'черный', 'звонок', 'магазин']\n",
      "topic_5: ['служебный', 'подросток', 'несовершеннолетний', 'настоящий', 'проводиться', 'гибель', 'центральный', 'кабинет', 'обязанность', 'привлекать']\n",
      "topic_6: ['возможность', 'поддерживать', 'нужно', 'выборы', 'напоминать', 'участок', 'здесь', 'задавать', 'подпись', 'любой']\n",
      "topic_7: ['коллега', 'пойти', 'закрывать', 'взрыв', 'полагать', 'встречаться', 'приходиться', 'след', 'зачитывать', 'паспорт']\n",
      "topic_8: ['николай', 'особо', 'изолятор', 'комиссия', 'течение', 'накануне', 'исправительный', 'голодовка', 'условно', 'беспорядок']\n",
      "topic_9: ['ударять', 'дверь', 'бить', 'потребовать', 'пистолет', 'угрожать', 'девочка', 'попытаться', 'скрываться', 'дочь']\n",
      "topic_10: ['призыв', 'социальный', 'иностранный', 'министерство', 'международный', 'открытый', 'теракт', 'рамка', 'текст', 'подготовка']\n",
      "topic_11: ['телеканал', 'сведение', 'борис', 'канал', 'преследование', 'запрос', 'действовать', 'автор', 'кадыров', 'чеченский']\n",
      "topic_12: ['юрий', 'сообщество', 'известный', 'список', 'илья', 'близкий', 'собственный', 'доказывать', 'фейсбук', 'виктор']\n",
      "topic_13: ['госдума', 'правило', 'еспча', 'отменять', 'нарушать', 'европейский', 'компенсация', 'законный', 'законопроект', 'обжаловать']\n",
      "topic_14: ['подписывать', 'гражданский', 'прекращать', 'офис', 'создавать', 'занимать', 'должность', 'производство', 'договор', 'федерация']\n",
      "topic_15: ['отец', 'вернуться', 'увидеть', 'уезжать', 'открывать', 'скорый', 'позвонить', 'подходить', 'нападать', 'домой']\n",
      "topic_16: ['превышение', 'повреждение', 'умирать', 'подозревать', 'скончаться', 'восемь', 'травма', 'причинение', 'происшествие', 'совершенный']\n",
      "topic_17: ['покушение', 'руслан', 'вооруженный', 'охрана', 'граница', 'покидать', 'цитировать', 'окно', 'фонтанка', 'боец']\n",
      "topic_18: ['сидеть', 'помнить', 'вспоминать', 'сначала', 'событие', 'снова', 'почти', 'видеозапись', 'максим', 'хорошо']\n",
      "topic_19: ['правый', 'признак', 'ненависть', 'зона', 'характер', 'половина', 'освобождение', 'подозрение', 'елена', 'необходимый']\n"
     ]
    }
   ],
   "source": [
    "#topic_list = model_artm.topic_names\n",
    "topic_list = list(model_artm.score_tracker['TopTokensScore'].last_tokens.keys())\n",
    "\n",
    "for topic_name in topic_list:\n",
    "    print(topic_name + ': ', end='')\n",
    "    print(model_artm.score_tracker['TopTokensScore'].last_tokens[topic_name])"
   ]
  },
  {
   "cell_type": "code",
   "execution_count": null,
   "metadata": {},
   "outputs": [],
   "source": []
  },
  {
   "cell_type": "code",
   "execution_count": null,
   "metadata": {},
   "outputs": [],
   "source": []
  },
  {
   "cell_type": "code",
   "execution_count": null,
   "metadata": {},
   "outputs": [],
   "source": []
  },
  {
   "cell_type": "code",
   "execution_count": null,
   "metadata": {},
   "outputs": [],
   "source": []
  },
  {
   "cell_type": "code",
   "execution_count": null,
   "metadata": {},
   "outputs": [],
   "source": []
  },
  {
   "cell_type": "code",
   "execution_count": 25,
   "metadata": {},
   "outputs": [],
   "source": [
    "model_artm.regularizers.add(\n",
    "    artm.SmoothSparsePhiRegularizer(name='SparsePhi', tau=-5*1e5, dictionary=dictionary),\n",
    "    overwrite=True,\n",
    ")"
   ]
  },
  {
   "cell_type": "code",
   "execution_count": 30,
   "metadata": {},
   "outputs": [],
   "source": [
    "model_artm.fit_offline(batch_vectorizer=batch_vectorizer, num_collection_passes=50)"
   ]
  },
  {
   "cell_type": "code",
   "execution_count": 31,
   "metadata": {},
   "outputs": [
    {
     "name": "stdout",
     "output_type": "stream",
     "text": [
      "topic_0: \n",
      "['использовать', 'нужно', 'создавать', 'третий', 'почти', 'отсутствие']\n",
      "topic_1: \n",
      "['партия', 'призыв', 'социальный', 'публичный', 'телеканал', 'политика']\n",
      "topic_2: \n",
      "['николай', 'юрий', 'сообщество', 'потребовать', 'изолятор', 'прекращать']\n",
      "topic_3: \n",
      "['особо', 'предприятие', 'бизнесмен', 'мошенничество', 'занимать', 'должность']\n",
      "topic_4: \n",
      "['сидеть', 'отец', 'вспоминать', 'дверь', 'бить', 'правый']\n",
      "topic_5: \n",
      "['служебный', 'ударять', 'превышение', 'повреждение', 'подросток', 'умирать']\n",
      "topic_6: \n",
      "['помнить', 'поддерживать', 'минута', 'коллега', 'событие', 'снова']\n",
      "topic_7: \n",
      "['покушение', 'известный', 'официальный', 'подозревать', 'офис', 'борис']\n",
      "topic_8: \n",
      "['возможность', 'иностранный', 'госдума', 'подписывать', 'министерство', 'список']\n",
      "topic_9: \n",
      "['удаваться', 'пистолет', 'угрожать', 'накануне', 'открывать', 'проводиться']\n"
     ]
    }
   ],
   "source": [
    "for topic_name in model_artm.topic_names:\n",
    "    print(topic_name + ': ',)\n",
    "    print(model_artm.score_tracker['TopTokensScore'].last_tokens[topic_name])"
   ]
  },
  {
   "cell_type": "code",
   "execution_count": 32,
   "metadata": {},
   "outputs": [
    {
     "name": "stdout",
     "output_type": "stream",
     "text": [
      "0.8992853164672852\n",
      "0.20184320211410522\n"
     ]
    }
   ],
   "source": [
    "print(model_artm.score_tracker[\"SparsityPhiScore\"].last_value)\n",
    "print(model_artm.score_tracker[\"SparsityThetaScore\"].last_value)"
   ]
  },
  {
   "cell_type": "code",
   "execution_count": null,
   "metadata": {},
   "outputs": [],
   "source": []
  },
  {
   "cell_type": "code",
   "execution_count": null,
   "metadata": {},
   "outputs": [],
   "source": []
  },
  {
   "cell_type": "code",
   "execution_count": null,
   "metadata": {},
   "outputs": [],
   "source": []
  },
  {
   "cell_type": "code",
   "execution_count": null,
   "metadata": {},
   "outputs": [],
   "source": []
  },
  {
   "cell_type": "markdown",
   "metadata": {},
   "source": [
    "Полезные идеи по нулевым значениям:\n",
    "https://github.com/bigartm/bigartm/issues/664"
   ]
  },
  {
   "cell_type": "code",
   "execution_count": 38,
   "metadata": {},
   "outputs": [
    {
     "data": {
      "text/plain": [
       "{'PerplexityScore': <artm.score_tracker.PerplexityScoreTracker at 0x104a838d0>,\n",
       " 'SparsityPhiScore': <artm.score_tracker.SparsityPhiScoreTracker at 0x10ed47c88>,\n",
       " 'SparsityThetaScore': <artm.score_tracker.SparsityThetaScoreTracker at 0x10ed47cf8>,\n",
       " 'TopTokensScore': <artm.score_tracker.TopTokensScoreTracker at 0x1119dcbe0>,\n",
       " 'TopicKernelScore': <artm.score_tracker.TopicKernelScoreTracker at 0x10ed47d30>}"
      ]
     },
     "execution_count": 38,
     "metadata": {},
     "output_type": "execute_result"
    }
   ],
   "source": [
    "model_artm.score_tracker"
   ]
  },
  {
   "cell_type": "code",
   "execution_count": null,
   "metadata": {},
   "outputs": [],
   "source": []
  }
 ],
 "metadata": {
  "kernelspec": {
   "display_name": "Python 3",
   "language": "python",
   "name": "python3"
  },
  "language_info": {
   "codemirror_mode": {
    "name": "ipython",
    "version": 3
   },
   "file_extension": ".py",
   "mimetype": "text/x-python",
   "name": "python",
   "nbconvert_exporter": "python",
   "pygments_lexer": "ipython3",
   "version": "3.6.8"
  }
 },
 "nbformat": 4,
 "nbformat_minor": 2
}
