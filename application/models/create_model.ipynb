{
 "cells": [
  {
   "cell_type": "markdown",
   "metadata": {},
   "source": [
    "Прообраз: https://github.com/bigartm/bigartm-book/blob/master/ARTM_example_RU.ipynb"
   ]
  },
  {
   "cell_type": "code",
   "execution_count": 72,
   "metadata": {},
   "outputs": [
    {
     "name": "stdout",
     "output_type": "stream",
     "text": [
      "0.10.0\n"
     ]
    }
   ],
   "source": [
    "%matplotlib inline\n",
    "import glob\n",
    "import os\n",
    "import matplotlib.pyplot as plt\n",
    "\n",
    "import artm\n",
    "\n",
    "BATCH_ADRESS = 'batches_news'\n",
    "\n",
    "print(artm.version())"
   ]
  },
  {
   "cell_type": "code",
   "execution_count": 73,
   "metadata": {},
   "outputs": [],
   "source": [
    "batch_vectorizer = artm.BatchVectorizer(\n",
    "    data_path=BATCH_ADRESS, data_format='batches'\n",
    ")"
   ]
  },
  {
   "cell_type": "code",
   "execution_count": 74,
   "metadata": {},
   "outputs": [],
   "source": [
    "dictionary = artm.Dictionary()\n",
    "\n",
    "# Количесвто тем\n",
    "topic_count = 3\n",
    "\n",
    "model_plsa = artm.ARTM(\n",
    "    topic_names=['topic_{}'.format(i) for i in range(topic_count)],\n",
    "    scores=[\n",
    "        artm.PerplexityScore(\n",
    "            name='PerplexityScore',\n",
    "            dictionary=dictionary\n",
    "        )\n",
    "    ],\n",
    "    cache_theta=True,\n",
    "    #class_ids={'text': 1.0},\n",
    ")\n",
    "\n",
    "model_artm = artm.ARTM(\n",
    "    topic_names=['topic_{}'.format(i) for i in range(topic_count)],\n",
    "    scores=[\n",
    "        artm.PerplexityScore(\n",
    "            name='PerplexityScore',\n",
    "            dictionary=dictionary\n",
    "        )\n",
    "    ],\n",
    "    regularizers=[\n",
    "        artm.SmoothSparseThetaRegularizer(\n",
    "            name='SparseTheta', \n",
    "            tau=-0.15\n",
    "        )\n",
    "    ],\n",
    "    cache_theta=True,\n",
    "    #class_ids={'text': 1.0},\n",
    ")"
   ]
  },
  {
   "cell_type": "code",
   "execution_count": 75,
   "metadata": {},
   "outputs": [],
   "source": [
    "if os.path.isfile(BATCH_ADRESS + '/dictionary.dict'):\n",
    "    os.remove(BATCH_ADRESS + '/dictionary.dict')\n",
    "    \n",
    "dictionary.gather(data_path=batch_vectorizer.data_path)\n",
    "dictionary.save(dictionary_path=BATCH_ADRESS + '/dictionary.dict')\n",
    "\n",
    "dictionary.load(dictionary_path=BATCH_ADRESS + '/dictionary.dict')"
   ]
  },
  {
   "cell_type": "code",
   "execution_count": 76,
   "metadata": {},
   "outputs": [
    {
     "name": "stdout",
     "output_type": "stream",
     "text": [
      "artm.Dictionary(name=11af2dd3-da61-40e6-9e2e-0540801ff71b, num_entries=39965)\n"
     ]
    }
   ],
   "source": [
    "print(dictionary)"
   ]
  },
  {
   "cell_type": "code",
   "execution_count": 60,
   "metadata": {},
   "outputs": [],
   "source": [
    "model_plsa.initialize(dictionary=dictionary)\n",
    "model_artm.initialize(dictionary=dictionary)"
   ]
  },
  {
   "cell_type": "code",
   "execution_count": 61,
   "metadata": {},
   "outputs": [],
   "source": [
    "model_plsa.scores.add(artm.SparsityPhiScore(name='SparsityPhiScore'))\n",
    "model_plsa.scores.add(artm.SparsityThetaScore(name='SparsityThetaScore'))\n",
    "model_plsa.scores.add(artm.TopicKernelScore(name='TopicKernelScore', probability_mass_threshold=0.3))\n",
    "\n",
    "model_artm.scores.add(artm.SparsityPhiScore(name='SparsityPhiScore'))\n",
    "model_artm.scores.add(artm.SparsityThetaScore(name='SparsityThetaScore'))\n",
    "model_artm.scores.add(artm.TopicKernelScore(name='TopicKernelScore', probability_mass_threshold=0.3))"
   ]
  },
  {
   "cell_type": "code",
   "execution_count": 62,
   "metadata": {},
   "outputs": [],
   "source": [
    "model_artm.regularizers.add(artm.SmoothSparsePhiRegularizer(name='SparsePhi', tau=-0.1))\n",
    "model_artm.regularizers.add(artm.DecorrelatorPhiRegularizer(name='DecorrelatorPhi', tau=1.5e+5))"
   ]
  },
  {
   "cell_type": "code",
   "execution_count": 63,
   "metadata": {},
   "outputs": [],
   "source": [
    "model_plsa.num_document_passes = 1\n",
    "model_artm.num_document_passes = 1"
   ]
  },
  {
   "cell_type": "code",
   "execution_count": 64,
   "metadata": {},
   "outputs": [],
   "source": [
    "model_plsa.fit_offline(batch_vectorizer=batch_vectorizer, num_collection_passes=15)\n",
    "model_artm.fit_offline(batch_vectorizer=batch_vectorizer, num_collection_passes=15)"
   ]
  },
  {
   "cell_type": "code",
   "execution_count": 65,
   "metadata": {},
   "outputs": [
    {
     "name": "stdout",
     "output_type": "stream",
     "text": [
      "Sparsity Phi: 0.000 (PLSA) vs. 0.419 (ARTM)\n",
      "Sparsity Theta: 0.000 (PLSA) vs. 0.000 (ARTM)\n",
      "Kernel contrast: 0.584 (PLSA) vs. 0.765 (ARTM)\n",
      "Kernel purity: 0.780 (PLSA) vs. 0.798 (ARTM)\n",
      "Perplexity: nan (PLSA) vs. nan (ARTM)\n"
     ]
    },
    {
     "data": {
      "image/png": "[encoded data removed]",
      "text/plain": [
       "<matplotlib.figure.Figure at 0x118a032e8>"
      ]
     },
     "metadata": {},
     "output_type": "display_data"
    }
   ],
   "source": [
    "def print_measures(model_plsa, model_artm):\n",
    "    print(\n",
    "        'Sparsity Phi: {0:.3f} (PLSA) vs. {1:.3f} (ARTM)'.format(\n",
    "            model_plsa.score_tracker['SparsityPhiScore'].last_value,\n",
    "            model_artm.score_tracker['SparsityPhiScore'].last_value\n",
    "        )\n",
    "    )\n",
    "\n",
    "    print(\n",
    "        'Sparsity Theta: {0:.3f} (PLSA) vs. {1:.3f} (ARTM)'.format(\n",
    "            model_plsa.score_tracker['SparsityThetaScore'].last_value,\n",
    "            model_artm.score_tracker['SparsityThetaScore'].last_value\n",
    "        )\n",
    "    )\n",
    "\n",
    "    print(\n",
    "        'Kernel contrast: {0:.3f} (PLSA) vs. {1:.3f} (ARTM)'.format(\n",
    "            model_plsa.score_tracker['TopicKernelScore'].last_average_contrast,\n",
    "            model_artm.score_tracker['TopicKernelScore'].last_average_contrast\n",
    "        )\n",
    "    )\n",
    "\n",
    "    print(\n",
    "        'Kernel purity: {0:.3f} (PLSA) vs. {1:.3f} (ARTM)'.format(\n",
    "            model_plsa.score_tracker['TopicKernelScore'].last_average_purity,\n",
    "            model_artm.score_tracker['TopicKernelScore'].last_average_purity\n",
    "        )\n",
    "    )\n",
    "\n",
    "    print(\n",
    "        'Perplexity: {0:.3f} (PLSA) vs. {1:.3f} (ARTM)'.format(\n",
    "            model_plsa.score_tracker['PerplexityScore'].last_value,\n",
    "            model_artm.score_tracker['PerplexityScore'].last_value\n",
    "        )\n",
    "    )\n",
    "\n",
    "    plt.plot(\n",
    "        range(model_plsa.num_phi_updates), model_plsa.score_tracker['PerplexityScore'].value, 'b--',\n",
    "        range(model_artm.num_phi_updates), model_artm.score_tracker['PerplexityScore'].value, 'r--', linewidth=2\n",
    "    )\n",
    "    plt.xlabel('Iterations count')\n",
    "    plt.ylabel('PLSA perp. (blue), ARTM perp. (red)')\n",
    "    plt.grid(True)\n",
    "    plt.show()\n",
    "    \n",
    "print_measures(model_plsa, model_artm)"
   ]
  },
  {
   "cell_type": "code",
   "execution_count": 66,
   "metadata": {},
   "outputs": [],
   "source": [
    "model_artm.regularizers['SparsePhi'].tau = -0.2\n",
    "model_artm.regularizers['SparseTheta'].tau = -0.2\n",
    "model_artm.regularizers['DecorrelatorPhi'].tau = 2.5e+5"
   ]
  },
  {
   "cell_type": "code",
   "execution_count": 67,
   "metadata": {},
   "outputs": [],
   "source": [
    "model_plsa.scores.add(artm.TopTokensScore(name='TopTokensScore', num_tokens=6))\n",
    "model_artm.scores.add(artm.TopTokensScore(name='TopTokensScore', num_tokens=6))"
   ]
  },
  {
   "cell_type": "code",
   "execution_count": 68,
   "metadata": {},
   "outputs": [],
   "source": [
    "model_plsa.fit_offline(batch_vectorizer=batch_vectorizer, num_collection_passes=25)\n",
    "model_artm.fit_offline(batch_vectorizer=batch_vectorizer, num_collection_passes=25)"
   ]
  },
  {
   "cell_type": "code",
   "execution_count": 69,
   "metadata": {},
   "outputs": [
    {
     "data": {
      "image/png": "[encoded data removed]",
      "text/plain": [
       "<matplotlib.figure.Figure at 0x11914b6d8>"
      ]
     },
     "metadata": {},
     "output_type": "display_data"
    },
    {
     "data": {
      "image/png": "[encoded data removed]",
      "text/plain": [
       "<matplotlib.figure.Figure at 0x11229e588>"
      ]
     },
     "metadata": {},
     "output_type": "display_data"
    }
   ],
   "source": [
    "plt.plot(range(model_plsa.num_phi_updates), model_plsa.score_tracker['SparsityPhiScore'].value, 'b--',\n",
    "                 range(model_artm.num_phi_updates), model_artm.score_tracker['SparsityPhiScore'].value, 'r--', linewidth=2)\n",
    "plt.xlabel('Iterations count')\n",
    "plt.ylabel('PLSA Phi sp. (blue), ARTM Phi sp. (red)')\n",
    "plt.grid(True)\n",
    "plt.show()\n",
    "\n",
    "plt.plot(range(model_plsa.num_phi_updates), model_plsa.score_tracker['SparsityThetaScore'].value, 'b--',\n",
    "                 range(model_artm.num_phi_updates), model_artm.score_tracker['SparsityThetaScore'].value, 'r--', linewidth=2)\n",
    "plt.xlabel('Iterations count')\n",
    "plt.ylabel('PLSA Theta sp. (blue), ARTM Theta sp. (red)')\n",
    "plt.grid(True)\n",
    "plt.show()"
   ]
  },
  {
   "cell_type": "code",
   "execution_count": 70,
   "metadata": {},
   "outputs": [
    {
     "name": "stdout",
     "output_type": "stream",
     "text": [
      "topic_0: \n",
      "['быть', 'дело', 'который', 'этот', 'мочь', 'такой']\n",
      "topic_1: \n",
      "['статья', 'задерживать', 'который', 'дело', 'человек', 'сотрудник']\n",
      "topic_2: \n",
      "['быть', 'который', 'говорить', 'адвокат', 'этот', 'свой']\n"
     ]
    }
   ],
   "source": [
    "for topic_name in model_plsa.topic_names:\n",
    "    print(topic_name + ': ',)\n",
    "    print(model_plsa.score_tracker['TopTokensScore'].last_tokens[topic_name])"
   ]
  },
  {
   "cell_type": "code",
   "execution_count": 71,
   "metadata": {},
   "outputs": [
    {
     "name": "stdout",
     "output_type": "stream",
     "text": [
      "topic_0: \n",
      "['быть', 'дело', 'этот', 'который', 'мочь', 'такой']\n",
      "topic_1: \n",
      "['статья', 'задерживать', 'человек', 'рассказывать', 'сотрудник', 'часть']\n",
      "topic_2: \n",
      "['быть', 'который', 'говорить', 'адвокат', 'этот', 'свой']\n"
     ]
    }
   ],
   "source": [
    "for topic_name in model_artm.topic_names:\n",
    "    print(topic_name + ': ',)\n",
    "    print(model_artm.score_tracker['TopTokensScore'].last_tokens[topic_name])"
   ]
  },
  {
   "cell_type": "code",
   "execution_count": null,
   "metadata": {},
   "outputs": [],
   "source": []
  }
 ],
 "metadata": {
  "kernelspec": {
   "display_name": "Python 3",
   "language": "python",
   "name": "python3"
  },
  "language_info": {
   "codemirror_mode": {
    "name": "ipython",
    "version": 3
   },
   "file_extension": ".py",
   "mimetype": "text/x-python",
   "name": "python",
   "nbconvert_exporter": "python",
   "pygments_lexer": "ipython3",
   "version": "3.6.8"
  }
 },
 "nbformat": 4,
 "nbformat_minor": 2
}
