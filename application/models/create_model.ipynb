{
 "cells": [
  {
   "cell_type": "markdown",
   "metadata": {},
   "source": [
    "Примеры:\n",
    "* https://github.com/bigartm/bigartm-book/blob/master/ARTM_example_RU.ipynb\n",
    "* https://github.com/bigartm/bigartm-book/blob/master/ARTM_tutorial_RU.ipynb\n",
    "* http://localhost:8888/notebooks/examples/2/%D0%94%D0%B5%D0%BC%D0%BE%D0%BD%D1%81%D1%82%D1%80%D0%B0%D1%86%D0%B8%D1%8F-BigARTM-0.8.0.ipynb"
   ]
  },
  {
   "cell_type": "code",
   "execution_count": 1,
   "metadata": {},
   "outputs": [
    {
     "name": "stdout",
     "output_type": "stream",
     "text": [
      "0.10.0\n"
     ]
    }
   ],
   "source": [
    "%matplotlib inline\n",
    "import glob\n",
    "import os\n",
    "import matplotlib.pyplot as plt\n",
    "\n",
    "import artm\n",
    "\n",
    "# Адрес, по которому находятся данные\n",
    "BATCH_ADRESS = 'batches_news'\n",
    "\n",
    "# Вывод версии BigARTM\n",
    "print(artm.version())"
   ]
  },
  {
   "cell_type": "code",
   "execution_count": 2,
   "metadata": {},
   "outputs": [],
   "source": [
    "# Установка адреса, по которому находятся данные\n",
    "batch_vectorizer = artm.BatchVectorizer(\n",
    "    data_path=BATCH_ADRESS, data_format='batches'\n",
    ")"
   ]
  },
  {
   "cell_type": "code",
   "execution_count": 3,
   "metadata": {},
   "outputs": [
    {
     "name": "stdout",
     "output_type": "stream",
     "text": [
      "Количество слов в словаре: 75725\n",
      "75180\n",
      "19310\n",
      "1819\n"
     ]
    }
   ],
   "source": [
    "# Пересоздание словаря для модели и сохранение его в файл\n",
    "\n",
    "# Устанавливается название словаря для модели\n",
    "dictionary_address = BATCH_ADRESS + '/dictionary.dict'\n",
    "\n",
    "# Инициализация словоря для модели\n",
    "dictionary = artm.Dictionary()\n",
    "\n",
    "# Удаление словаря, оставшегося после предыдущих запусков\n",
    "if os.path.isfile(dictionary_address):\n",
    "    os.remove(dictionary_address)\n",
    "    \n",
    "# Сохранение словаря в файл\n",
    "dictionary.gather(data_path=batch_vectorizer.data_path)\n",
    "dictionary.save(dictionary_path=dictionary_address)\n",
    "\n",
    "# Загрузка словаря из файла\n",
    "dictionary.load(dictionary_path=dictionary_address)\n",
    "print(\"Количество слов в словаре:\", dictionary.__dict__['_master'].get_info().dictionary[0].num_entries)\n",
    "\n",
    "\n",
    "# Фильтрация\n",
    "\n",
    "# Убираются слова, которые попадаются меньше чем в n процентов документов\n",
    "dictionary.filter(min_df_rate=0.01)\n",
    "print(\n",
    "    \"Количество слов в словаре после фильтрации по min_df_rate:\", \n",
    "    dictionary.__dict__['_master'].get_info().dictionary[0].num_entries\n",
    ")\n",
    "\n",
    "# Убираются слова, которые попадаются больше чем в n процентов документов\n",
    "dictionary.filter(max_df_rate=0.5)\n",
    "print(\n",
    "    \"Количество слов в словаре после фильтрации по max_df_rate:\", \n",
    "    dictionary.__dict__['_master'].get_info().dictionary[0].num_entries\n",
    ")\n",
    "\n",
    "# Убираются редкие слова по всей коллекции\n",
    "# Слово встречается во всей коллекции больше чем n раз\n",
    "dictionary.filter(min_tf=10)\n",
    "print(\n",
    "    \"Количество слов в словаре после фильтрации по min_tf:\", \n",
    "    dictionary.__dict__['_master'].get_info().dictionary[0].num_entries\n",
    ")\n",
    "\n",
    "# Убираются частые слова по всей коллекции\n",
    "# Слово встречается во всей коллекции меньше чем n раз\n",
    "dictionary.filter(max_tf=2000)\n",
    "print(\n",
    "    \"Количество слов в словаре после фильтрации по max_tf:\", \n",
    "    dictionary.__dict__['_master'].get_info().dictionary[0].num_entries\n",
    ")"
   ]
  },
  {
   "cell_type": "code",
   "execution_count": 4,
   "metadata": {},
   "outputs": [],
   "source": [
    "def new_default_model(topic_count, dictionary):\n",
    "    \n",
    "    # Создание модели\n",
    "    model_artm = artm.ARTM(\n",
    "        topic_names=['topic_{}'.format(i) for i in range(topic_count)], \n",
    "        cache_theta=True,\n",
    "        #class_ids={'text': 1.0},\n",
    "    )\n",
    "\n",
    "    # Инициализация модели\n",
    "    model_artm.initialize(dictionary=dictionary)\n",
    "    model_artm.num_document_passes = 1\n",
    "\n",
    "    # Установка отслеживаемых параметров\n",
    "    # Перплексия (чем она меньше тем лучше)\n",
    "    model_artm.scores.add(artm.PerplexityScore(name='PerplexityScore'))\n",
    "    # Разреженность матрицы Phi (доля почти нулевых значений)\n",
    "    model_artm.scores.add(artm.SparsityPhiScore(name='SparsityPhiScore'))\n",
    "    # Разреженность матрицы Theta (доля почти нулевых значений)\n",
    "    model_artm.scores.add(artm.SparsityThetaScore(name='SparsityThetaScore'))\n",
    "    # Анализ самых используемых слов по темам\n",
    "    model_artm.scores.add(artm.TopTokensScore(name='TopTokensScore', num_tokens=10))\n",
    "    # Анализ ядра тем на контраст и чистоту\n",
    "    model_artm.scores.add(artm.TopicKernelScore(name='TopicKernelScore'))\n",
    "    #model_artm.scores.add(artm.TopicKernelScore(name='TopicKernelScore', probability_mass_threshold=0.3))\n",
    "    \n",
    "    return model_artm"
   ]
  },
  {
   "cell_type": "code",
   "execution_count": 5,
   "metadata": {},
   "outputs": [],
   "source": [
    "def model_print_results(model_artm):\n",
    "    \n",
    "    # Графики\n",
    "    \n",
    "    fig = plt.figure(figsize=(15, 15))\n",
    "\n",
    "    ax = fig.add_subplot(321) \n",
    "    ax.plot(model_artm.score_tracker[\"PerplexityScore\"].value)\n",
    "    ax.set_xlabel('Iterations count')\n",
    "    ax.set_ylabel('PerplexityScore')\n",
    "    ax.grid(True)\n",
    "    \n",
    "    ax = fig.add_subplot(323)  \n",
    "    ax.plot(model_artm.score_tracker[\"SparsityPhiScore\"].value)\n",
    "    ax.set_xlabel('Iterations count')\n",
    "    ax.set_ylabel('SparsityPhiScore')\n",
    "    ax.grid(True)\n",
    "    ax.set_ylim([0,1])\n",
    "\n",
    "    ax = fig.add_subplot(324)  \n",
    "    ax.plot(model_artm.score_tracker[\"SparsityThetaScore\"].value)\n",
    "    ax.set_xlabel('Iterations count')\n",
    "    ax.set_ylabel('SparsityThetaScore')\n",
    "    ax.grid(True)\n",
    "    ax.set_ylim([0,1])\n",
    "    \n",
    "    ax = fig.add_subplot(325)  \n",
    "    ax.plot(model_artm.score_tracker[\"TopicKernelScore\"].average_contrast)\n",
    "    ax.set_xlabel('Iterations count')\n",
    "    ax.set_ylabel('TopicKernelScore_average_contrast')\n",
    "    ax.grid(True)\n",
    "    ax.set_ylim([0,1])\n",
    "    \n",
    "    ax = fig.add_subplot(326)  \n",
    "    ax.plot(model_artm.score_tracker['TopicKernelScore'].average_purity)\n",
    "    ax.set_xlabel('Iterations count')\n",
    "    ax.set_ylabel('TopicKernelScore_average_purity')\n",
    "    ax.grid(True)\n",
    "    ax.set_ylim([0,1])\n",
    "    \n",
    "    plt.show()\n",
    "    \n",
    "    \n",
    "    # Конечные значения\n",
    "    \n",
    "    print(\"PerplexityScore:\", model_artm.score_tracker[\"PerplexityScore\"].last_value)\n",
    "    print(\"SparsityPhiScore:\", model_artm.score_tracker[\"SparsityPhiScore\"].last_value)\n",
    "    print(\"SparsityThetaScore:\", model_artm.score_tracker[\"SparsityThetaScore\"].last_value)\n",
    "    print()\n",
    "    print(\"TopicKernelScore_average_contrast:\", model_artm.score_tracker[\"TopicKernelScore\"].last_average_contrast)\n",
    "    print(\"TopicKernelScore_average_purity:\", model_artm.score_tracker['TopicKernelScore'].last_average_purity)\n",
    "    \n",
    "    print()\n",
    "    \n",
    "    \n",
    "    # Главные слова в темах\n",
    "    \n",
    "    print(\"TopTokensScore:\")\n",
    "    topic_list = list(model_artm.score_tracker['TopTokensScore'].last_tokens.keys())\n",
    "    for topic_name in topic_list:\n",
    "        print(topic_name + ': ', end='')\n",
    "        print(model_artm.score_tracker['TopTokensScore'].last_tokens[topic_name])"
   ]
  },
  {
   "cell_type": "code",
   "execution_count": 9,
   "metadata": {},
   "outputs": [],
   "source": [
    "params = {\n",
    "    'topic_count': 15,\n",
    "    'num_collection_passes': 10,\n",
    "    'SparsePhi': {\n",
    "        'name': 'SparsePhi',\n",
    "        'tau': -5\n",
    "    },\n",
    "    'SparseTheta': {\n",
    "        'name': 'SparseTheta',\n",
    "        'tau': -2\n",
    "    },\n",
    "}"
   ]
  },
  {
   "cell_type": "code",
   "execution_count": 10,
   "metadata": {},
   "outputs": [],
   "source": [
    "# Базовая пустая модель\n",
    "model_artm = new_default_model(params['topic_count'], dictionary)\n",
    "model_artm.save(\"news_model_0\")"
   ]
  },
  {
   "cell_type": "code",
   "execution_count": 11,
   "metadata": {},
   "outputs": [
    {
     "data": {
      "image/png": "[encoded data removed]",
      "text/plain": [
       "<matplotlib.figure.Figure at 0x10f8a53c8>"
      ]
     },
     "metadata": {},
     "output_type": "display_data"
    },
    {
     "name": "stdout",
     "output_type": "stream",
     "text": [
      "PerplexityScore: 6.5574164390563965\n",
      "SparsityPhiScore: 0.4221000671386719\n",
      "SparsityThetaScore: 0.00010759081487776712\n",
      "\n",
      "TopicKernelScore_average_contrast: 0.1999346762895584\n",
      "TopicKernelScore_average_purity: 0.7444775104522705\n",
      "\n",
      "TopTokensScore:\n",
      "topic_0: ['наручник', 'станция', 'правый', 'помнить', 'шизо', 'специальный', 'возраст', 'предприятие', 'иванов', 'особо']\n",
      "topic_1: ['волков', 'пикет', 'волк', 'особо', 'сторонник', 'публичный', 'вконтакте', 'обязывать', 'леонид', 'собрание']\n",
      "topic_2: ['тяжкий', 'повлечь', 'травма', 'преступный', 'кража', 'эпизод', 'зона', 'следовать', 'детский', 'руслан']\n",
      "topic_3: ['банк', 'зарплата', 'офис', 'строительство', 'завод', 'выделять', 'похищение', 'мошенничество', 'совершенный', 'похищать']\n",
      "topic_4: ['студент', 'скорый', 'вещество', 'скончаться', 'увидеть', 'помнить', 'рядом', 'илья', 'предмет', 'возле']\n",
      "topic_5: ['подросток', 'пожар', 'травма', 'проводиться', 'покушение', 'повреждение', 'кадыров', 'служебный', 'мальчик', 'причинение']\n",
      "topic_6: ['участок', 'оглашать', 'здесь', '2009', 'сидеть', 'читать', 'министр', 'задавать', 'думать', 'политика']\n",
      "topic_7: ['тюрьма', 'полагать', 'учет', 'специалист', 'вспоминать', 'увидеть', 'вещь', 'станция', 'смотреть', 'действительно']\n",
      "topic_8: ['самолет', 'изолятор', 'крымский', 'поселение', 'аэропорт', 'исправительный', 'создавать', 'ущерб', 'симферополь', 'беспорядок']\n",
      "topic_9: ['ударять', 'драка', 'девочка', 'потребовать', 'скрываться', 'скончаться', 'выезжать', 'попытаться', 'дочь', 'клуб']\n",
      "topic_10: ['блокировка', 'иностранный', 'призыв', 'теракт', 'заблокировать', 'доступ', 'агент', 'пользователь', 'запрет', 'рамка']\n",
      "topic_11: ['правый', 'сирия', 'чеченский', 'уезжать', 'грозный', 'вернуться', 'переписка', 'преследование', 'видеозапись', 'звонок']\n",
      "topic_12: ['список', 'юрий', 'илья', 'поддержка', 'бизнесмен', 'киев', 'басманный', 'изменение', 'сестра', 'виктор']\n",
      "topic_13: ['ненависть', 'еспча', 'координатор', 'мосгорсуд', 'голодовка', 'поправка', 'госдума', 'художник', 'народ', 'законопроект']\n",
      "topic_14: ['создавать', 'фонтанка', 'хранение', 'мемориал', 'офис', 'мошенничество', 'вооруженный', 'взрыв', 'подписывать', 'должность']\n",
      "The history saving thread hit an unexpected error (OperationalError('disk I/O error',)).History will not be written to the database.\n"
     ]
    }
   ],
   "source": [
    "# Модель 1_1\n",
    "# Запуск регуляризатора SparsePhi\n",
    "\n",
    "model_artm = new_default_model(params['topic_count'], dictionary)\n",
    "model_artm.load(\"news_model_0\")\n",
    "\n",
    "if params['SparsePhi']['name'] not in list(model_artm.regularizers.data):\n",
    "    model_artm.regularizers.add(artm.SmoothSparsePhiRegularizer(name=params['SparsePhi']['name']))\n",
    "model_artm.regularizers[params['SparsePhi']['name']].tau = params['SparsePhi']['tau']\n",
    "\n",
    "model_artm.fit_offline(batch_vectorizer=batch_vectorizer, num_collection_passes=params['num_collection_passes'])\n",
    "model_print_results(model_artm)\n",
    "\n",
    "model_artm.save(\"news_model_1_1\")"
   ]
  },
  {
   "cell_type": "code",
   "execution_count": null,
   "metadata": {},
   "outputs": [],
   "source": [
    "# Модель 1_2\n",
    "# Запуск регуляризатора SparseTheta к уже включенному SparsePhi\n",
    "\n",
    "model_artm = new_default_model(params['topic_count'], dictionary)\n",
    "model_artm.load(\"news_model_1_1\")\n",
    "\n",
    "if params['SparsePhi']['name'] not in list(model_artm.regularizers.data):\n",
    "    model_artm.regularizers.add(artm.SmoothSparsePhiRegularizer(name=params['SparsePhi']['name']))\n",
    "model_artm.regularizers[params['SparsePhi']['name']].tau = params['SparsePhi']['tau']\n",
    "    \n",
    "if params['SparseTheta']['name'] not in list(model_artm.regularizers.data):\n",
    "    model_artm.regularizers.add(artm.SmoothSparseThetaRegularizer(name=params['SparseTheta']['name']))\n",
    "model_artm.regularizers[params['SparseTheta']['name']].tau = params['SparseTheta']['tau']\n",
    "\n",
    "model_artm.fit_offline(batch_vectorizer=batch_vectorizer, num_collection_passes=params['num_collection_passes'])\n",
    "model_print_results(model_artm)\n",
    "\n",
    "model_artm.save(\"news_model_1_2\")"
   ]
  },
  {
   "cell_type": "code",
   "execution_count": null,
   "metadata": {},
   "outputs": [],
   "source": [
    "# Модель 2_1\n",
    "# Запуск регуляризаторов SparsePhi и SparseTheta одновременно и сначала обучения\n",
    "\n",
    "model_artm = new_default_model(params['topic_count'], dictionary)\n",
    "model_artm.load(\"news_model_0\")\n",
    "\n",
    "if params['SparsePhi']['name'] not in list(model_artm.regularizers.data):\n",
    "    model_artm.regularizers.add(artm.SmoothSparsePhiRegularizer(name=params['SparsePhi']['name']))\n",
    "model_artm.regularizers[params['SparsePhi']['name']].tau = params['SparsePhi']['tau']\n",
    "    \n",
    "if params['SparseTheta']['name'] not in list(model_artm.regularizers.data):\n",
    "    model_artm.regularizers.add(artm.SmoothSparseThetaRegularizer(name=params['SparseTheta']['name']))\n",
    "model_artm.regularizers[params['SparseTheta']['name']].tau = params['SparseTheta']['tau']\n",
    "\n",
    "model_artm.fit_offline(batch_vectorizer=batch_vectorizer, num_collection_passes=params['num_collection_passes'])\n",
    "model_print_results(model_artm)\n",
    "\n",
    "model_artm.save(\"news_model_2_1\")"
   ]
  },
  {
   "cell_type": "code",
   "execution_count": null,
   "metadata": {},
   "outputs": [],
   "source": []
  },
  {
   "cell_type": "code",
   "execution_count": null,
   "metadata": {},
   "outputs": [],
   "source": []
  },
  {
   "cell_type": "code",
   "execution_count": null,
   "metadata": {},
   "outputs": [],
   "source": []
  },
  {
   "cell_type": "code",
   "execution_count": null,
   "metadata": {},
   "outputs": [],
   "source": []
  },
  {
   "cell_type": "code",
   "execution_count": null,
   "metadata": {},
   "outputs": [],
   "source": []
  },
  {
   "cell_type": "code",
   "execution_count": null,
   "metadata": {},
   "outputs": [],
   "source": []
  },
  {
   "cell_type": "code",
   "execution_count": null,
   "metadata": {},
   "outputs": [],
   "source": []
  },
  {
   "cell_type": "code",
   "execution_count": null,
   "metadata": {},
   "outputs": [],
   "source": []
  },
  {
   "cell_type": "code",
   "execution_count": null,
   "metadata": {},
   "outputs": [],
   "source": []
  },
  {
   "cell_type": "code",
   "execution_count": null,
   "metadata": {},
   "outputs": [],
   "source": []
  },
  {
   "cell_type": "code",
   "execution_count": null,
   "metadata": {},
   "outputs": [],
   "source": []
  },
  {
   "cell_type": "code",
   "execution_count": null,
   "metadata": {},
   "outputs": [],
   "source": []
  },
  {
   "cell_type": "code",
   "execution_count": null,
   "metadata": {},
   "outputs": [],
   "source": []
  },
  {
   "cell_type": "code",
   "execution_count": null,
   "metadata": {},
   "outputs": [],
   "source": []
  },
  {
   "cell_type": "code",
   "execution_count": 131,
   "metadata": {},
   "outputs": [],
   "source": [
    "# Установка регуляризаторов\n",
    "model_artm.regularizers.add(artm.SmoothSparsePhiRegularizer(name='SparsePhi'))\n",
    "#model_artm.regularizers.add(artm.SmoothSparseThetaRegularizer(name='SparseTheta'))\n",
    "#model_artm.regularizers.add(artm.DecorrelatorPhiRegularizer(name='DecorrelatorPhi'))\n",
    "\n",
    "\n",
    "#model_artm.regularizers.add(artm.TopicSelectionThetaRegularizer(name='TopicSelectionTheta', tau=0.1))"
   ]
  },
  {
   "cell_type": "code",
   "execution_count": 132,
   "metadata": {},
   "outputs": [],
   "source": [
    "# Правка регуляризаторов\n",
    "model_artm.regularizers['SparsePhi'].tau = -3\n",
    "#model_artm.regularizers['SparseTheta'].tau = -2\n",
    "#model_artm.regularizers['DecorrelatorPhi'].tau = 2.5e+5"
   ]
  },
  {
   "cell_type": "code",
   "execution_count": null,
   "metadata": {},
   "outputs": [],
   "source": []
  },
  {
   "cell_type": "code",
   "execution_count": null,
   "metadata": {},
   "outputs": [],
   "source": []
  },
  {
   "cell_type": "code",
   "execution_count": null,
   "metadata": {},
   "outputs": [],
   "source": []
  },
  {
   "cell_type": "code",
   "execution_count": 131,
   "metadata": {},
   "outputs": [
    {
     "data": {
      "text/plain": [
       "(0, 87.09707260131836)"
      ]
     },
     "execution_count": 131,
     "metadata": {},
     "output_type": "execute_result"
    },
    {
     "data": {
      "image/png": "[encoded data removed]",
      "text/plain": [
       "<matplotlib.figure.Figure at 0x11e21e978>"
      ]
     },
     "metadata": {},
     "output_type": "display_data"
    }
   ],
   "source": [
    "fig = plt.figure(figsize=(15, 15))\n",
    "\n",
    "ax = fig.add_subplot(321) \n",
    "ax.plot(model_artm.score_tracker[\"PerplexityScore\"].value)\n",
    "ax.set_xlabel('Iterations count')\n",
    "ax.set_ylabel('PerplexityScore')\n",
    "ax.grid(True)\n",
    "ax.set_ylim(0, ax.get_ylim()[1])"
   ]
  },
  {
   "cell_type": "code",
   "execution_count": null,
   "metadata": {},
   "outputs": [],
   "source": []
  },
  {
   "cell_type": "code",
   "execution_count": null,
   "metadata": {},
   "outputs": [],
   "source": []
  },
  {
   "cell_type": "code",
   "execution_count": null,
   "metadata": {},
   "outputs": [],
   "source": []
  },
  {
   "cell_type": "code",
   "execution_count": null,
   "metadata": {},
   "outputs": [],
   "source": []
  },
  {
   "cell_type": "code",
   "execution_count": null,
   "metadata": {},
   "outputs": [],
   "source": []
  },
  {
   "cell_type": "code",
   "execution_count": null,
   "metadata": {},
   "outputs": [],
   "source": []
  },
  {
   "cell_type": "code",
   "execution_count": null,
   "metadata": {},
   "outputs": [],
   "source": []
  },
  {
   "cell_type": "markdown",
   "metadata": {},
   "source": [
    "Полезные идеи по нулевым значениям:\n",
    "https://github.com/bigartm/bigartm/issues/664"
   ]
  },
  {
   "cell_type": "code",
   "execution_count": null,
   "metadata": {},
   "outputs": [],
   "source": []
  }
 ],
 "metadata": {
  "kernelspec": {
   "display_name": "Python 3",
   "language": "python",
   "name": "python3"
  },
  "language_info": {
   "codemirror_mode": {
    "name": "ipython",
    "version": 3
   },
   "file_extension": ".py",
   "mimetype": "text/x-python",
   "name": "python",
   "nbconvert_exporter": "python",
   "pygments_lexer": "ipython3",
   "version": "3.6.8"
  }
 },
 "nbformat": 4,
 "nbformat_minor": 2
}
