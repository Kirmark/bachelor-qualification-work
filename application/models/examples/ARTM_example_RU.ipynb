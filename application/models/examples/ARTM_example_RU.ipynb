{
 "cells": [
  {
   "cell_type": "markdown",
   "metadata": {},
   "source": [
    "# Модельный эксперимент с использованием BigARTM Python API."
   ]
  },
  {
   "cell_type": "markdown",
   "metadata": {},
   "source": [
    "Автор - **Мурат Апишев** (great-mel@yandex.ru)"
   ]
  },
  {
   "cell_type": "markdown",
   "metadata": {},
   "source": [
    "BigARTM &ndash; открытая библиотека для тематического моделирования текстовых коллекций, реализующая теорию аддитивной регуляризации тематических моделей (ARTM). Основной сайт проекта http://bigartm.org/.\n",
    "\n",
    "Здесь показан пример использования пользовательского Python API библиотеки. Мы проведём демонстрационный эксперимент.\n",
    "\n",
    "#### Описание:\n",
    "Построим две тематические модели коллекции текстовых документов, ARTM и PLSA, сравним качество полученных моделей.\n",
    "\n",
    "#### Функционалы качества:\n",
    "Важным функционалом является перплексия коллекции. Тем не менее это далеко не единственная величина, характеризующая качество обучения. В BigARTM реализованы следующие функционалы:\n",
    "\n",
    "- разреженность матрицы $\\Phi$ (слова-темы);\n",
    "- разреженность матрицы $\\Theta$ (темы-документы);\n",
    "- характеристики ядер тем (чистота, контрастность, размер);\n",
    "- перплексия;\n",
    "- веса тем;\n",
    "- доля фоновых слов;\n",
    "- когерентность топ-слов и слов из ядер тем.\n",
    "\n",
    "Мы будем использовать первые четыре. Более сильные разреженности матриц и более высокие средние значения чистоты и контрастности способствуют большей интерпретируемости модели.\n",
    "\n",
    "#### Цель эксперимента:\n",
    "Попробуем обучить модель ARTM таким образом, чтобы, в сравнении с PLSA, улучшить значения разреженностей и ядровых характеристик и не сильно ухудшить перплексию.\n",
    "\n",
    "Основным инструментом для корректирования процесса обучения являются регуляризаторы. Список имеющихся в BigARTM регуляризаторов:\n",
    "\n",
    "- разреживание матрицы $\\Phi$ (+ частичное обучение);\n",
    "- разреживание матрицы $\\Theta$ (+ частичное обучение);\n",
    "- декоррелирование тем в матрице $\\Phi$;\n",
    "- принудительное разреживание $\\Phi$;\n",
    "- балансирование классов (Label Regularization);\n",
    "- повышение когерентности.\n",
    "\n",
    "В этом эксперименте для обучения ARTM воспользуемся первыми тремя регуляризаторами. ARTM без регуляризации соответствует PLSA.\n",
    "\n",
    "#### Коллекция:\n",
    "Воспользуемся небольшой коллекцией 'kos', доступной в репозитории UCI https://archive.ics.uci.edu/ml/machine-learning-databases/bag-of-words/. Параметры коллекции следующие:\n",
    "\n",
    "- 3430 документов;\n",
    "- 6906 слов в словаре;\n",
    "- 467714 ненулевых счётчиков в \"мешке слов\"."
   ]
  },
  {
   "cell_type": "markdown",
   "metadata": {},
   "source": [
    "Для начала подключим все необходимые модули (убедитесь, что путь к Python API BigARTM находится в вашей переменной PATH):"
   ]
  },
  {
   "cell_type": "code",
   "execution_count": 2,
   "metadata": {},
   "outputs": [
    {
     "name": "stdout",
     "output_type": "stream",
     "text": [
      "0.10.0\n"
     ]
    }
   ],
   "source": [
    "%matplotlib inline\n",
    "import glob\n",
    "import os\n",
    "import matplotlib.pyplot as plt\n",
    "\n",
    "import artm\n",
    "\n",
    "print(artm.version())"
   ]
  },
  {
   "cell_type": "markdown",
   "metadata": {},
   "source": [
    "Прежде всего необходимо подготовить входные данные. BigARTM имеет собственный формат документов для обработки, называемый батчами. В библиотеке присутствуют средства по созданию батчей из файлов в форматах Bag-Of-Words UCI и Vowpal Wabbit (подробности можно найти в http://docs.bigartm.org/en/latest/formats.html).\n",
    "\n",
    "В Python API, по аналогии с алгоритмами из scikit-learn, входные данные представлены одним классом BatchVectorizer. Объект этого класса принимает на вход батчи или файлы UCI / VW и подаётся на вход всем методам. В случае, если входные данные не являются батчами, он создаёт их и сохраняет на диск для последующего быстрого использования.\n",
    "\n",
    "Итак, создадим объект BatchVectorizer:"
   ]
  },
  {
   "cell_type": "code",
   "execution_count": 5,
   "metadata": {},
   "outputs": [],
   "source": [
    "batch_vectorizer = None\n",
    "if len(glob.glob(os.path.join('kos', '*.batch'))) < 1:\n",
    "    batch_vectorizer = artm.BatchVectorizer(data_path='', data_format='bow_uci', collection_name='kos', target_folder='kos')\n",
    "else:\n",
    "    batch_vectorizer = artm.BatchVectorizer(data_path='kos', data_format='batches')"
   ]
  },
  {
   "cell_type": "markdown",
   "metadata": {},
   "source": [
    "ARTM &ndash; это класс, представляющий собой Python API BigARTM, и позволяющий использовать практически все возможности библиотеки в стиле scikit-learn. Создадим две тематические модели для нашего эксперимента. Наиболее важным параметром модели является число тем. Опционально можно указать списки регуляризаторов и функционалов качества, которые следует использовать для данной модели. Если этого не сделать, то регуляризаторы и функционалы всегда можно добавить позднее. Обратите внимание, что каждая модель задаёт своё пространство имён для названий регуляризаторов и функционалов качества."
   ]
  },
  {
   "cell_type": "code",
   "execution_count": 8,
   "metadata": {},
   "outputs": [],
   "source": [
    "dictionary = artm.Dictionary()\n",
    "\n",
    "model_plsa = artm.ARTM(topic_names=['topic_{}'.format(i) for i in range(15)],\n",
    "                       scores=[artm.PerplexityScore(name='PerplexityScore',\n",
    "                                                    #use_unigram_document_model=False,\n",
    "                                                    dictionary=dictionary)],\n",
    "                       cache_theta=True)\n",
    "\n",
    "model_artm = artm.ARTM(topic_names=['topic_{}'.format(i) for i in range(15)],\n",
    "                       scores=[artm.PerplexityScore(name='PerplexityScore',\n",
    "                                                    #use_unigram_document_model=False,\n",
    "                                                    dictionary=dictionary)],\n",
    "                       regularizers=[artm.SmoothSparseThetaRegularizer(name='SparseTheta', tau=-0.15)],\n",
    "                       cache_theta=True)"
   ]
  },
  {
   "cell_type": "markdown",
   "metadata": {},
   "source": [
    "Следующий шаг — инициализация моделей. Сделаем это по словарю, что означает, что\n",
    "- будет создана матрица $\\Phi$ с именем 'pwt', число строк и столбцов в ней будет взято исходя из числа слов в словаре и заданного в модели числа тем;\n",
    "- эта матрица будет заполнена случайными значениями из диапазона (0, 1) и нормализована.\n",
    "\n",
    "Надо отметить, что этот шаг является опциональным, поскольку модель может быть автоматически инициализирована во время вызовов fit_offline() / fit_online().\n",
    "\n",
    "Словарь &ndash; это объект BigARTM, содержащий информацию о коллекции (словарь коллекции, различные величины и счётчики, связанные со словами). Создать словарь можно на основе папки с батчами. Затем собранный словарь можно сохранять на диск и позже подгрузить вновь."
   ]
  },
  {
   "cell_type": "code",
   "execution_count": 9,
   "metadata": {},
   "outputs": [],
   "source": [
    "if not os.path.isfile('kos/dictionary.dict'):\n",
    "    dictionary.gather(data_path=batch_vectorizer.data_path)\n",
    "    dictionary.save(dictionary_path='kos/dictionary.dict')\n",
    "\n",
    "dictionary.load(dictionary_path='kos/dictionary.dict')\n",
    "dictionary.load(dictionary_path='kos/dictionary.dict')"
   ]
  },
  {
   "cell_type": "markdown",
   "metadata": {},
   "source": [
    "Затем словари можно использовать, чтобы инициализировать модель:"
   ]
  },
  {
   "cell_type": "code",
   "execution_count": 10,
   "metadata": {},
   "outputs": [],
   "source": [
    "model_plsa.initialize(dictionary=dictionary)\n",
    "model_artm.initialize(dictionary=dictionary)"
   ]
  },
  {
   "cell_type": "markdown",
   "metadata": {},
   "source": [
    "Как уже было сказано, ARTM предоставляет возможность использовать все функционалы качества, имеющиеся в BigARTM. Если функционал подключен к модели, то модель будет сохранять все его значения, полученные на момент каждого обновления матрицы $\\Phi$. Добавим функционалы качества, нужные для нашего эксперимента, которые отсутствовали в конструкторах:"
   ]
  },
  {
   "cell_type": "code",
   "execution_count": 11,
   "metadata": {},
   "outputs": [],
   "source": [
    "model_plsa.scores.add(artm.SparsityPhiScore(name='SparsityPhiScore'))\n",
    "model_plsa.scores.add(artm.SparsityThetaScore(name='SparsityThetaScore'))\n",
    "model_plsa.scores.add(artm.TopicKernelScore(name='TopicKernelScore', probability_mass_threshold=0.3))\n",
    "\n",
    "model_artm.scores.add(artm.SparsityPhiScore(name='SparsityPhiScore'))\n",
    "model_artm.scores.add(artm.SparsityThetaScore(name='SparsityThetaScore'))\n",
    "model_artm.scores.add(artm.TopicKernelScore(name='TopicKernelScore', probability_mass_threshold=0.3))"
   ]
  },
  {
   "cell_type": "markdown",
   "metadata": {},
   "source": [
    "Аналогично поступим с регуляризаторами для model_artm (зададим им стартовые коэффициенты регуляризации, которые можно будет позже изменить при необходимости):"
   ]
  },
  {
   "cell_type": "code",
   "execution_count": 12,
   "metadata": {},
   "outputs": [],
   "source": [
    "model_artm.regularizers.add(artm.SmoothSparsePhiRegularizer(name='SparsePhi', tau=-0.1))\n",
    "model_artm.regularizers.add(artm.DecorrelatorPhiRegularizer(name='DecorrelatorPhi', tau=1.5e+5))"
   ]
  },
  {
   "cell_type": "markdown",
   "metadata": {},
   "source": [
    "Теперь попробуем обучить модели в оффлайн-режиме (т. е. обновляя Фи раз за проход по коллекции). Инициируем пятнадцать проходов:"
   ]
  },
  {
   "cell_type": "code",
   "execution_count": 13,
   "metadata": {},
   "outputs": [],
   "source": [
    "model_plsa.num_document_passes = 1\n",
    "model_artm.num_document_passes = 1\n",
    "\n",
    "model_plsa.fit_offline(batch_vectorizer=batch_vectorizer, num_collection_passes=15)\n",
    "model_artm.fit_offline(batch_vectorizer=batch_vectorizer, num_collection_passes=15)"
   ]
  },
  {
   "cell_type": "markdown",
   "metadata": {},
   "source": [
    "Проверим результаты первой итерации обучения, сравнив финальные значения функционалов, а также графики перплексии (опишем печать в виде функции для возможности повторного использования):"
   ]
  },
  {
   "cell_type": "code",
   "execution_count": 17,
   "metadata": {},
   "outputs": [
    {
     "name": "stdout",
     "output_type": "stream",
     "text": [
      "Sparsity Phi: 0.000 (PLSA) vs. 0.469 (ARTM)\n",
      "Sparsity Theta: 0.000 (PLSA) vs. 0.001 (ARTM)\n",
      "Kernel contrast: 0.466 (PLSA) vs. 0.525 (ARTM)\n",
      "Kernel purity: 0.215 (PLSA) vs. 0.359 (ARTM)\n",
      "Perplexity: nan (PLSA) vs. nan (ARTM)\n"
     ]
    },
    {
     "data": {
      "image/png": "[encoded data removed]",
      "text/plain": [
       "<matplotlib.figure.Figure at 0x1113778d0>"
      ]
     },
     "metadata": {},
     "output_type": "display_data"
    }
   ],
   "source": [
    "def print_measures(model_plsa, model_artm):\n",
    "    print('Sparsity Phi: {0:.3f} (PLSA) vs. {1:.3f} (ARTM)'.format(\n",
    "        model_plsa.score_tracker['SparsityPhiScore'].last_value,\n",
    "        model_artm.score_tracker['SparsityPhiScore'].last_value))\n",
    "\n",
    "    print('Sparsity Theta: {0:.3f} (PLSA) vs. {1:.3f} (ARTM)'.format(\n",
    "        model_plsa.score_tracker['SparsityThetaScore'].last_value,\n",
    "        model_artm.score_tracker['SparsityThetaScore'].last_value))\n",
    "\n",
    "    print('Kernel contrast: {0:.3f} (PLSA) vs. {1:.3f} (ARTM)'.format(\n",
    "        model_plsa.score_tracker['TopicKernelScore'].last_average_contrast,\n",
    "        model_artm.score_tracker['TopicKernelScore'].last_average_contrast))\n",
    "\n",
    "    print('Kernel purity: {0:.3f} (PLSA) vs. {1:.3f} (ARTM)'.format(\n",
    "        model_plsa.score_tracker['TopicKernelScore'].last_average_purity,\n",
    "        model_artm.score_tracker['TopicKernelScore'].last_average_purity))\n",
    "\n",
    "    print('Perplexity: {0:.3f} (PLSA) vs. {1:.3f} (ARTM)'.format(\n",
    "        model_plsa.score_tracker['PerplexityScore'].last_value,\n",
    "        model_artm.score_tracker['PerplexityScore'].last_value))\n",
    "\n",
    "    plt.plot(range(model_plsa.num_phi_updates), model_plsa.score_tracker['PerplexityScore'].value, 'b--',\n",
    "             range(model_artm.num_phi_updates), model_artm.score_tracker['PerplexityScore'].value, 'r--', linewidth=2)\n",
    "    plt.xlabel('Iterations count')\n",
    "    plt.ylabel('PLSA perp. (blue), ARTM perp. (red)')\n",
    "    plt.grid(True)\n",
    "    plt.show()\n",
    "    \n",
    "print_measures(model_plsa, model_artm)"
   ]
  },
  {
   "cell_type": "markdown",
   "metadata": {},
   "source": [
    "Видно, что улучшения разреженностей и ядровых характеристик есть, а ухудшение перплексии невелико. Попробуем увеличить по модулю значения коэффициентов регуляризации при регуляризаторах:"
   ]
  },
  {
   "cell_type": "code",
   "execution_count": 18,
   "metadata": {},
   "outputs": [],
   "source": [
    "model_artm.regularizers['SparsePhi'].tau = -0.2\n",
    "model_artm.regularizers['SparseTheta'].tau = -0.2\n",
    "model_artm.regularizers['DecorrelatorPhi'].tau = 2.5e+5"
   ]
  },
  {
   "cell_type": "markdown",
   "metadata": {},
   "source": [
    "Кроме того, подключим к каждой из моделей функционал TopTokensScore, который позволит взглянуть на самые вероятные слова в каждой теме:"
   ]
  },
  {
   "cell_type": "code",
   "execution_count": 19,
   "metadata": {},
   "outputs": [],
   "source": [
    "model_plsa.scores.add(artm.TopTokensScore(name='TopTokensScore', num_tokens=6))\n",
    "model_artm.scores.add(artm.TopTokensScore(name='TopTokensScore', num_tokens=6))"
   ]
  },
  {
   "cell_type": "markdown",
   "metadata": {},
   "source": [
    "Продолжим обучение моделей, инициировав 25 проходов по коллекции, после чего снова посмотрим на значения функционалов качества:"
   ]
  },
  {
   "cell_type": "code",
   "execution_count": 20,
   "metadata": {},
   "outputs": [],
   "source": [
    "model_plsa.fit_offline(batch_vectorizer=batch_vectorizer, num_collection_passes=25)\n",
    "model_artm.fit_offline(batch_vectorizer=batch_vectorizer, num_collection_passes=25)"
   ]
  },
  {
   "cell_type": "code",
   "execution_count": 21,
   "metadata": {},
   "outputs": [
    {
     "name": "stdout",
     "output_type": "stream",
     "text": [
      "Sparsity Phi: 0.093 (PLSA) vs. 0.841 (ARTM)\n",
      "Sparsity Theta: 0.000 (PLSA) vs. 0.023 (ARTM)\n",
      "Kernel contrast: 0.640 (PLSA) vs. 0.739 (ARTM)\n",
      "Kernel purity: 0.674 (PLSA) vs. 0.822 (ARTM)\n",
      "Perplexity: nan (PLSA) vs. nan (ARTM)\n"
     ]
    },
    {
     "data": {
      "image/png": "[encoded data removed]",
      "text/plain": [
       "<matplotlib.figure.Figure at 0x107ad3f98>"
      ]
     },
     "metadata": {},
     "output_type": "display_data"
    }
   ],
   "source": [
    "print_measures(model_plsa, model_artm)"
   ]
  },
  {
   "cell_type": "markdown",
   "metadata": {},
   "source": [
    "Кроме того, для наглядности построим графики изменения разреженностей матриц по итерациям:"
   ]
  },
  {
   "cell_type": "code",
   "execution_count": 25,
   "metadata": {},
   "outputs": [
    {
     "data": {
      "image/png": "[encoded data removed]",
      "text/plain": [
       "<matplotlib.figure.Figure at 0x1138d1780>"
      ]
     },
     "metadata": {},
     "output_type": "display_data"
    },
    {
     "data": {
      "image/png": "[encoded data removed]",
      "text/plain": [
       "<matplotlib.figure.Figure at 0x11391aeb8>"
      ]
     },
     "metadata": {},
     "output_type": "display_data"
    }
   ],
   "source": [
    "plt.plot(range(model_plsa.num_phi_updates), model_plsa.score_tracker['SparsityPhiScore'].value, 'b--',\n",
    "                 range(model_artm.num_phi_updates), model_artm.score_tracker['SparsityPhiScore'].value, 'r--', linewidth=2)\n",
    "plt.xlabel('Iterations count')\n",
    "plt.ylabel('PLSA Phi sp. (blue), ARTM Phi sp. (red)')\n",
    "plt.grid(True)\n",
    "plt.show()\n",
    "\n",
    "plt.plot(range(model_plsa.num_phi_updates), model_plsa.score_tracker['SparsityThetaScore'].value, 'b--',\n",
    "                 range(model_artm.num_phi_updates), model_artm.score_tracker['SparsityThetaScore'].value, 'r--', linewidth=2)\n",
    "plt.xlabel('Iterations count')\n",
    "plt.ylabel('PLSA Theta sp. (blue), ARTM Theta sp. (red)')\n",
    "plt.grid(True)\n",
    "plt.show()"
   ]
  },
  {
   "cell_type": "markdown",
   "metadata": {},
   "source": [
    "Кажется, что достигнутых результатов достаточно. Регуляризация позволила добиться улучшения всех характеристик, ухудшив перплексию в пределах разумного. Взглянем на топ-слова слова моделей:"
   ]
  },
  {
   "cell_type": "code",
   "execution_count": 28,
   "metadata": {},
   "outputs": [
    {
     "name": "stdout",
     "output_type": "stream",
     "text": [
      "topic_0: \n",
      "['year', 'tax', 'jobs', 'america', 'president', 'issues']\n",
      "topic_1: \n",
      "['people', 'war', 'service', 'military', 'rights', 'vietnam']\n",
      "topic_2: \n",
      "['november', 'electoral', 'account', 'polls', 'governor', 'contact']\n",
      "topic_3: \n",
      "['republican', 'gop', 'senate', 'senator', 'south', 'conservative']\n",
      "topic_4: \n",
      "['people', 'time', 'country', 'speech', 'talking', 'read']\n",
      "topic_5: \n",
      "['dean', 'democratic', 'edwards', 'primary', 'kerry', 'clark']\n",
      "topic_6: \n",
      "['state', 'party', 'race', 'candidates', 'candidate', 'elections']\n",
      "topic_7: \n",
      "['administration', 'president', 'years', 'bill', 'white', 'cheney']\n",
      "topic_8: \n",
      "['campaign', 'national', 'media', 'local', 'late', 'union']\n",
      "topic_9: \n",
      "['house', 'million', 'money', 'republican', 'committee', 'delay']\n",
      "topic_10: \n",
      "['republicans', 'vote', 'senate', 'election', 'democrats', 'house']\n",
      "topic_11: \n",
      "['iraq', 'war', 'american', 'iraqi', 'military', 'intelligence']\n",
      "topic_12: \n",
      "['kerry', 'poll', 'percent', 'voters', 'polls', 'numbers']\n",
      "topic_13: \n",
      "['news', 'time', 'asked', 'political', 'washington', 'long']\n",
      "topic_14: \n",
      "['bush', 'general', 'bushs', 'kerry', 'oct', 'states']\n"
     ]
    }
   ],
   "source": [
    "for topic_name in model_plsa.topic_names:\n",
    "    print(topic_name + ': ',)\n",
    "    print(model_plsa.score_tracker['TopTokensScore'].last_tokens[topic_name])"
   ]
  },
  {
   "cell_type": "code",
   "execution_count": 29,
   "metadata": {},
   "outputs": [
    {
     "name": "stdout",
     "output_type": "stream",
     "text": [
      "topic_0: \n",
      "['party', 'political', 'issue', 'tax', 'america', 'issues']\n",
      "topic_1: \n",
      "['people', 'military', 'official', 'officials', 'service', 'public']\n",
      "topic_2: \n",
      "['electoral', 'governor', 'account', 'contact', 'ticket', 'experience']\n",
      "topic_3: \n",
      "['gop', 'convention', 'senator', 'debate', 'south', 'sen']\n",
      "topic_4: \n",
      "['country', 'speech', 'bad', 'read', 'end', 'talking']\n",
      "topic_5: \n",
      "['democratic', 'dean', 'john', 'edwards', 'primary', 'clark']\n",
      "topic_6: \n",
      "['percent', 'race', 'candidates', 'candidate', 'win', 'nader']\n",
      "topic_7: \n",
      "['administration', 'years', 'white', 'year', 'bill', 'jobs']\n",
      "topic_8: \n",
      "['campaign', 'national', 'media', 'press', 'local', 'ads']\n",
      "topic_9: \n",
      "['house', 'republican', 'million', 'money', 'elections', 'district']\n",
      "topic_10: \n",
      "['november', 'poll', 'senate', 'republicans', 'vote', 'election']\n",
      "topic_11: \n",
      "['iraq', 'war', 'american', 'iraqi', 'security', 'united']\n",
      "topic_12: \n",
      "['bush', 'kerry', 'general', 'president', 'voters', 'bushs']\n",
      "topic_13: \n",
      "['time', 'news', 'long', 'asked', 'washington', 'political']\n",
      "topic_14: \n",
      "['state', 'states', 'people', 'oct', 'fact', 'ohio']\n"
     ]
    }
   ],
   "source": [
    "for topic_name in model_artm.topic_names:\n",
    "    print(topic_name + ': ',)\n",
    "    print(model_artm.score_tracker['TopTokensScore'].last_tokens[topic_name])"
   ]
  },
  {
   "cell_type": "markdown",
   "metadata": {},
   "source": [
    "Видно, что темы примерно одинаково интерпретируемы, но в модели ARTM они существенно разнообразнее."
   ]
  },
  {
   "cell_type": "markdown",
   "metadata": {},
   "source": [
    "Извлечём матрицу $\\Phi$ в виде pandas.DataFrame и напечатаем её (в случае необходимости, можно извлекать части матрицы с помощью метода ARTM.get_phi()):"
   ]
  },
  {
   "cell_type": "code",
   "execution_count": 17,
   "metadata": {},
   "outputs": [
    {
     "name": "stdout",
     "output_type": "stream",
     "text": [
      "                   topic_0   topic_1   topic_2   topic_3   topic_4   topic_5  \\\n",
      "parentheses       0.000000  0.000000  0.000000  0.000000  0.000000  0.000277   \n",
      "opinion           0.000000  0.000000  0.000000  0.000000  0.000000  0.000000   \n",
      "attitude          0.000000  0.000000  0.000000  0.000000  0.000000  0.000000   \n",
      "held              0.000000  0.000385  0.000000  0.000000  0.000000  0.000000   \n",
      "impeachment       0.000000  0.000115  0.000000  0.000000  0.000000  0.000000   \n",
      "platform          0.001717  0.000000  0.000000  0.000000  0.000000  0.000000   \n",
      "msnbc             0.000000  0.000000  0.000000  0.000000  0.000000  0.000194   \n",
      "assault           0.000000  0.000000  0.000000  0.000000  0.001202  0.000000   \n",
      "tools             0.000000  0.000000  0.000000  0.000000  0.000502  0.000000   \n",
      "vance             0.000000  0.000000  0.000000  0.000000  0.000000  0.000000   \n",
      "contingent        0.000000  0.000544  0.000000  0.000000  0.000000  0.000000   \n",
      "drove             0.000000  0.000146  0.000000  0.000000  0.000374  0.000000   \n",
      "stripped          0.000000  0.000111  0.000000  0.000000  0.000410  0.000000   \n",
      "air               0.000000  0.000593  0.000000  0.000000  0.000124  0.000000   \n",
      "baby              0.000139  0.000003  0.000032  0.000000  0.000000  0.000000   \n",
      "highlight         0.000000  0.000000  0.000000  0.000000  0.000019  0.000000   \n",
      "honored           0.000000  0.000000  0.000000  0.000000  0.000000  0.000000   \n",
      "kerry             0.000000  0.000000  0.000000  0.000000  0.000000  0.000000   \n",
      "nethercutt        0.000000  0.000000  0.000000  0.000000  0.000000  0.000000   \n",
      "kansas            0.000007  0.000000  0.000000  0.000076  0.000000  0.000000   \n",
      "annual            0.000000  0.000000  0.000000  0.000000  0.000000  0.000000   \n",
      "disaster          0.000076  0.000000  0.000000  0.000000  0.001151  0.000000   \n",
      "operatives        0.000000  0.000000  0.000000  0.000000  0.000000  0.000000   \n",
      "fluid             0.000030  0.000000  0.000000  0.000000  0.000000  0.000344   \n",
      "aug               0.000043  0.000000  0.000000  0.001610  0.003245  0.000000   \n",
      "monitoring        0.000000  0.000000  0.000000  0.000000  0.000000  0.000490   \n",
      "initially         0.000000  0.000113  0.000000  0.000000  0.000000  0.000000   \n",
      "kysen             0.000000  0.000000  0.000000  0.000000  0.000000  0.000000   \n",
      "action            0.000904  0.000107  0.000000  0.000000  0.000488  0.000147   \n",
      "wide              0.000000  0.000862  0.000000  0.000000  0.000000  0.000164   \n",
      "...                    ...       ...       ...       ...       ...       ...   \n",
      "drake             0.000000  0.000000  0.000000  0.000000  0.000000  0.000348   \n",
      "freeway           0.000000  0.000000  0.000000  0.000000  0.000297  0.000000   \n",
      "playbook          0.000000  0.000000  0.000000  0.000000  0.000000  0.000000   \n",
      "hoodies           0.000000  0.000000  0.002087  0.000000  0.000000  0.000000   \n",
      "vaantirepublican  0.000000  0.000000  0.002060  0.000000  0.000000  0.000000   \n",
      "suck              0.000000  0.000000  0.000000  0.000000  0.000000  0.000000   \n",
      "thirdplace        0.000000  0.000000  0.000000  0.000000  0.000000  0.000348   \n",
      "wink              0.000000  0.000000  0.000176  0.000000  0.000408  0.000000   \n",
      "inching           0.000000  0.000000  0.000000  0.000000  0.000000  0.000312   \n",
      "intangibles       0.000000  0.000000  0.000000  0.000000  0.000000  0.000000   \n",
      "sawyer            0.000000  0.000000  0.000000  0.000000  0.000000  0.000000   \n",
      "composite         0.000000  0.000000  0.000000  0.000000  0.000000  0.000000   \n",
      "geps              0.000000  0.000000  0.000000  0.000000  0.000000  0.000000   \n",
      "postiowa          0.000000  0.000000  0.000000  0.000000  0.000000  0.000000   \n",
      "brush             0.000000  0.000000  0.000000  0.000000  0.000000  0.000000   \n",
      "caucusgoers       0.000000  0.000000  0.000000  0.000000  0.000000  0.000667   \n",
      "countylevel       0.000000  0.000000  0.000000  0.000000  0.000000  0.000000   \n",
      "outreach          0.000000  0.000000  0.000000  0.000000  0.000000  0.000000   \n",
      "rncs              0.000297  0.000000  0.000000  0.000000  0.000000  0.000000   \n",
      "uaw               0.000000  0.000000  0.000000  0.000000  0.000000  0.000000   \n",
      "deanclark         0.000000  0.000000  0.000000  0.000000  0.000000  0.000348   \n",
      "samarra           0.000000  0.000000  0.000000  0.000000  0.000466  0.000000   \n",
      "postdebate        0.000000  0.000000  0.000000  0.000000  0.000000  0.000000   \n",
      "schwarz           0.000534  0.000000  0.000000  0.000000  0.000000  0.000000   \n",
      "asserted          0.000000  0.000000  0.000000  0.000000  0.000000  0.000000   \n",
      "aft               0.000000  0.000000  0.000000  0.000000  0.000000  0.000419   \n",
      "spindizzy         0.000000  0.000000  0.000647  0.000000  0.000000  0.000000   \n",
      "barnes            0.000000  0.000000  0.000000  0.000792  0.000000  0.000000   \n",
      "barbour           0.000000  0.000000  0.000000  0.000000  0.000000  0.000000   \n",
      "kroll             0.000000  0.000317  0.000000  0.000000  0.000000  0.000000   \n",
      "\n",
      "                   topic_6   topic_7   topic_8   topic_9  topic_10  topic_11  \\\n",
      "parentheses       0.000000  0.000000  0.000000  0.000000  0.000000  0.000000   \n",
      "opinion           0.000394  0.000000  0.000193  0.000000  0.000000  0.000355   \n",
      "attitude          0.000499  0.000000  0.000000  0.000000  0.000000  0.000187   \n",
      "held              0.000000  0.000000  0.000000  0.006317  0.000000  0.000790   \n",
      "impeachment       0.000000  0.000000  0.000000  0.000000  0.000094  0.000000   \n",
      "platform          0.000000  0.000000  0.000000  0.000000  0.000000  0.000000   \n",
      "msnbc             0.000000  0.000000  0.000000  0.000000  0.000000  0.000000   \n",
      "assault           0.000000  0.000000  0.000000  0.000000  0.000000  0.000471   \n",
      "tools             0.000000  0.000000  0.000329  0.000000  0.000000  0.000000   \n",
      "vance             0.000000  0.000000  0.000000  0.000000  0.000000  0.000000   \n",
      "contingent        0.000000  0.000000  0.000000  0.000000  0.000000  0.000000   \n",
      "drove             0.000000  0.000000  0.000000  0.000000  0.000000  0.000000   \n",
      "stripped          0.000000  0.000000  0.000000  0.000000  0.000000  0.000000   \n",
      "air               0.000000  0.000025  0.000000  0.000084  0.000000  0.000048   \n",
      "baby              0.000000  0.000000  0.000000  0.000000  0.000000  0.000000   \n",
      "highlight         0.000000  0.000590  0.000371  0.000000  0.000000  0.000000   \n",
      "honored           0.000000  0.000000  0.000000  0.000000  0.000000  0.000000   \n",
      "kerry             0.000000  0.000000  0.000000  0.000000  0.000000  0.000000   \n",
      "nethercutt        0.000244  0.000000  0.000000  0.000000  0.000000  0.000000   \n",
      "kansas            0.000000  0.000000  0.000000  0.000000  0.000000  0.000000   \n",
      "annual            0.000000  0.001851  0.000000  0.000000  0.000000  0.000000   \n",
      "disaster          0.000000  0.000000  0.000000  0.000000  0.000000  0.000804   \n",
      "operatives        0.000000  0.000008  0.000149  0.000000  0.000000  0.000431   \n",
      "fluid             0.000000  0.000000  0.000000  0.000000  0.000000  0.000000   \n",
      "aug               0.000183  0.000035  0.001008  0.000504  0.000000  0.000000   \n",
      "monitoring        0.000000  0.000000  0.000000  0.000000  0.000000  0.000000   \n",
      "initially         0.000000  0.000726  0.000314  0.000000  0.000000  0.000094   \n",
      "kysen             0.000000  0.000000  0.000000  0.000000  0.000000  0.000000   \n",
      "action            0.000000  0.001463  0.000212  0.002019  0.000000  0.000034   \n",
      "wide              0.000000  0.000000  0.000000  0.000000  0.000000  0.000000   \n",
      "...                    ...       ...       ...       ...       ...       ...   \n",
      "drake             0.000000  0.000000  0.000000  0.000000  0.000000  0.000000   \n",
      "freeway           0.000000  0.000000  0.000000  0.000000  0.000000  0.000000   \n",
      "playbook          0.000000  0.000000  0.000000  0.000000  0.000000  0.000000   \n",
      "hoodies           0.000000  0.000000  0.000000  0.000000  0.000000  0.000000   \n",
      "vaantirepublican  0.000000  0.000000  0.000000  0.000000  0.000000  0.000000   \n",
      "suck              0.000000  0.000000  0.000368  0.000000  0.000000  0.000000   \n",
      "thirdplace        0.000000  0.000000  0.000000  0.000000  0.000000  0.000000   \n",
      "wink              0.000000  0.000000  0.000000  0.000000  0.000000  0.000000   \n",
      "inching           0.000000  0.000000  0.000000  0.000000  0.000000  0.000000   \n",
      "intangibles       0.000000  0.000000  0.000000  0.000000  0.000000  0.000000   \n",
      "sawyer            0.000000  0.000243  0.000000  0.000000  0.000107  0.000000   \n",
      "composite         0.000391  0.000000  0.000000  0.000000  0.000000  0.000000   \n",
      "geps              0.000535  0.000000  0.000000  0.000000  0.000000  0.000000   \n",
      "postiowa          0.000000  0.000000  0.000471  0.000000  0.000000  0.000000   \n",
      "brush             0.000000  0.000000  0.000000  0.000000  0.000000  0.000000   \n",
      "caucusgoers       0.000000  0.000000  0.000000  0.000000  0.000000  0.000000   \n",
      "countylevel       0.000000  0.000000  0.000000  0.000000  0.000000  0.000000   \n",
      "outreach          0.000000  0.000000  0.000000  0.000000  0.000000  0.000000   \n",
      "rncs              0.000000  0.000000  0.000000  0.000000  0.000000  0.000000   \n",
      "uaw               0.000000  0.000000  0.000334  0.000000  0.000000  0.000000   \n",
      "deanclark         0.000000  0.000000  0.000000  0.000000  0.000000  0.000000   \n",
      "samarra           0.000000  0.000000  0.000000  0.000000  0.000000  0.000000   \n",
      "postdebate        0.000000  0.000000  0.000000  0.000000  0.000000  0.000000   \n",
      "schwarz           0.000000  0.000000  0.000000  0.000000  0.000000  0.000000   \n",
      "asserted          0.000000  0.000178  0.000000  0.000000  0.000000  0.000000   \n",
      "aft               0.000000  0.000000  0.000000  0.000000  0.000000  0.000000   \n",
      "spindizzy         0.000000  0.000000  0.000000  0.000000  0.000000  0.000000   \n",
      "barnes            0.000000  0.000000  0.000000  0.000000  0.000000  0.000000   \n",
      "barbour           0.000000  0.000000  0.000000  0.000000  0.000000  0.000000   \n",
      "kroll             0.000000  0.000000  0.000000  0.000000  0.000000  0.000000   \n",
      "\n",
      "                  topic_12      topic_13  topic_14  \n",
      "parentheses       0.000000  0.000000e+00  0.000000  \n",
      "opinion           0.002908  0.000000e+00  0.000346  \n",
      "attitude          0.000000  0.000000e+00  0.000000  \n",
      "held              0.000526  0.000000e+00  0.000000  \n",
      "impeachment       0.000000  0.000000e+00  0.000396  \n",
      "platform          0.000000  0.000000e+00  0.000000  \n",
      "msnbc             0.000000  0.000000e+00  0.002042  \n",
      "assault           0.000000  4.839016e-05  0.000000  \n",
      "tools             0.000000  3.548835e-04  0.000000  \n",
      "vance             0.000000  0.000000e+00  0.000803  \n",
      "contingent        0.000000  0.000000e+00  0.000000  \n",
      "drove             0.000000  0.000000e+00  0.000000  \n",
      "stripped          0.000000  0.000000e+00  0.000000  \n",
      "air               0.000000  4.631779e-05  0.010024  \n",
      "baby              0.000000  1.057148e-03  0.000000  \n",
      "highlight         0.000000  8.328939e-07  0.000000  \n",
      "honored           0.000000  4.265936e-04  0.000000  \n",
      "kerry             0.138169  0.000000e+00  0.000000  \n",
      "nethercutt        0.000143  0.000000e+00  0.000000  \n",
      "kansas            0.000100  0.000000e+00  0.000969  \n",
      "annual            0.000000  8.087117e-06  0.000000  \n",
      "disaster          0.000000  3.991339e-05  0.000000  \n",
      "operatives        0.000000  7.908887e-04  0.000000  \n",
      "fluid             0.000000  0.000000e+00  0.000000  \n",
      "aug               0.003553  0.000000e+00  0.000000  \n",
      "monitoring        0.000000  0.000000e+00  0.000000  \n",
      "initially         0.000000  1.245604e-04  0.000000  \n",
      "kysen             0.000000  7.598699e-04  0.000000  \n",
      "action            0.000000  0.000000e+00  0.000411  \n",
      "wide              0.000000  0.000000e+00  0.000487  \n",
      "...                    ...           ...       ...  \n",
      "drake             0.000000  0.000000e+00  0.000000  \n",
      "freeway           0.000000  0.000000e+00  0.000000  \n",
      "playbook          0.000378  0.000000e+00  0.000000  \n",
      "hoodies           0.000000  0.000000e+00  0.000000  \n",
      "vaantirepublican  0.000000  0.000000e+00  0.000000  \n",
      "suck              0.000000  0.000000e+00  0.000000  \n",
      "thirdplace        0.000000  0.000000e+00  0.000000  \n",
      "wink              0.000000  0.000000e+00  0.000000  \n",
      "inching           0.000000  0.000000e+00  0.000000  \n",
      "intangibles       0.000000  0.000000e+00  0.000310  \n",
      "sawyer            0.000000  0.000000e+00  0.000000  \n",
      "composite         0.000000  0.000000e+00  0.000000  \n",
      "geps              0.000000  0.000000e+00  0.000000  \n",
      "postiowa          0.000000  0.000000e+00  0.000000  \n",
      "brush             0.000000  2.548045e-04  0.000139  \n",
      "caucusgoers       0.000000  0.000000e+00  0.000000  \n",
      "countylevel       0.000000  4.599213e-04  0.000000  \n",
      "outreach          0.000000  0.000000e+00  0.000698  \n",
      "rncs              0.000000  0.000000e+00  0.000000  \n",
      "uaw               0.000000  0.000000e+00  0.000000  \n",
      "deanclark         0.000000  0.000000e+00  0.000000  \n",
      "samarra           0.000000  0.000000e+00  0.000000  \n",
      "postdebate        0.000086  0.000000e+00  0.000763  \n",
      "schwarz           0.000000  0.000000e+00  0.000000  \n",
      "asserted          0.000118  0.000000e+00  0.000000  \n",
      "aft               0.000000  0.000000e+00  0.000000  \n",
      "spindizzy         0.000000  0.000000e+00  0.000000  \n",
      "barnes            0.000000  0.000000e+00  0.000000  \n",
      "barbour           0.000000  0.000000e+00  0.000451  \n",
      "kroll             0.000000  0.000000e+00  0.000000  \n",
      "\n",
      "[6906 rows x 15 columns]\n"
     ]
    }
   ],
   "source": [
    "print model_artm.phi_"
   ]
  },
  {
   "cell_type": "markdown",
   "metadata": {},
   "source": [
    "Дополнительно извлечём $\\Theta$ в виде pandas.DataFrame и напечатаем её:"
   ]
  },
  {
   "cell_type": "code",
   "execution_count": 19,
   "metadata": {
    "scrolled": true
   },
   "outputs": [
    {
     "name": "stdout",
     "output_type": "stream",
     "text": [
      "              3001      3002      3003      3004      3005      3006  \\\n",
      "topic_0   0.076121  0.035934  0.069378  0.136764  0.083617  0.011377   \n",
      "topic_1   0.095387  0.029030  0.034951  0.043516  0.064787  0.022496   \n",
      "topic_2   0.004087  0.048284  0.012102  0.006649  0.015708  0.520682   \n",
      "topic_3   0.057739  0.029823  0.122427  0.085727  0.060414  0.016142   \n",
      "topic_4   0.122659  0.046273  0.084217  0.077540  0.064804  0.014840   \n",
      "topic_5   0.025646  0.010737  0.024132  0.051743  0.059580  0.017807   \n",
      "topic_6   0.044074  0.017331  0.072042  0.042680  0.036825  0.017084   \n",
      "topic_7   0.061899  0.059855  0.022353  0.029254  0.002857  0.005222   \n",
      "topic_8   0.049225  0.048494  0.043635  0.095823  0.025636  0.016371   \n",
      "topic_9   0.070107  0.492084  0.014166  0.131112  0.200206  0.025601   \n",
      "topic_10  0.056218  0.023523  0.158903  0.092290  0.059759  0.239756   \n",
      "topic_11  0.158816  0.031754  0.028020  0.024615  0.041939  0.006004   \n",
      "topic_12  0.054255  0.027387  0.191633  0.078728  0.125391  0.052281   \n",
      "topic_13  0.056038  0.056568  0.025291  0.041948  0.110980  0.032068   \n",
      "topic_14  0.067729  0.042923  0.096752  0.061612  0.047496  0.002269   \n",
      "\n",
      "              3007      3008      3009      3010    ...         991   \\\n",
      "topic_0   0.153216  0.031591  0.066032  0.036219    ...     0.053795   \n",
      "topic_1   0.041969  0.009980  0.024485  0.055780    ...     0.119861   \n",
      "topic_2   0.010361  0.000000  0.012824  0.004855    ...     0.201033   \n",
      "topic_3   0.140113  0.095807  0.090738  0.080190    ...     0.015301   \n",
      "topic_4   0.028386  0.042167  0.044592  0.068055    ...     0.048995   \n",
      "topic_5   0.039975  0.080582  0.077005  0.067891    ...     0.014937   \n",
      "topic_6   0.186580  0.291586  0.159585  0.068007    ...     0.005185   \n",
      "topic_7   0.033841  0.019672  0.033055  0.071855    ...     0.035326   \n",
      "topic_8   0.021736  0.015335  0.030470  0.059429    ...     0.030472   \n",
      "topic_9   0.158547  0.344387  0.276789  0.279663    ...     0.025226   \n",
      "topic_10  0.032311  0.000000  0.048914  0.031847    ...     0.080713   \n",
      "topic_11  0.024322  0.002047  0.013785  0.018584    ...     0.272355   \n",
      "topic_12  0.044409  0.017861  0.013088  0.019473    ...     0.023370   \n",
      "topic_13  0.032618  0.034591  0.043202  0.063385    ...     0.040395   \n",
      "topic_14  0.051617  0.014395  0.065438  0.074767    ...     0.033035   \n",
      "\n",
      "              992       993       994       995       996       997   \\\n",
      "topic_0   0.057835  0.078560  0.037073  0.170305  0.023683  0.094523   \n",
      "topic_1   0.121933  0.180116  0.112602  0.032622  0.034981  0.143123   \n",
      "topic_2   0.000000  0.057726  0.002886  0.000632  0.007803  0.014957   \n",
      "topic_3   0.040474  0.066918  0.036634  0.043454  0.012304  0.051498   \n",
      "topic_4   0.071596  0.133850  0.082915  0.049283  0.021307  0.059609   \n",
      "topic_5   0.017675  0.021395  0.015159  0.030125  0.042343  0.039248   \n",
      "topic_6   0.009005  0.029403  0.040560  0.104222  0.106431  0.031618   \n",
      "topic_7   0.018613  0.005084  0.109385  0.062973  0.036562  0.036915   \n",
      "topic_8   0.185597  0.034914  0.050408  0.026470  0.023620  0.130383   \n",
      "topic_9   0.012500  0.009456  0.067889  0.088528  0.025921  0.030995   \n",
      "topic_10  0.040815  0.000000  0.018810  0.124785  0.104889  0.031240   \n",
      "topic_11  0.281438  0.232306  0.255559  0.022806  0.116224  0.068760   \n",
      "topic_12  0.014712  0.000000  0.058669  0.136899  0.352839  0.069516   \n",
      "topic_13  0.054435  0.081143  0.079657  0.036140  0.027119  0.173720   \n",
      "topic_14  0.073375  0.069129  0.031795  0.070757  0.063973  0.023897   \n",
      "\n",
      "              998       999       1000  \n",
      "topic_0   0.077524  0.081823  0.066142  \n",
      "topic_1   0.185704  0.103474  0.126820  \n",
      "topic_2   0.008666  0.007206  0.016567  \n",
      "topic_3   0.043518  0.090904  0.129180  \n",
      "topic_4   0.077166  0.076402  0.115954  \n",
      "topic_5   0.032495  0.027419  0.030624  \n",
      "topic_6   0.019817  0.011535  0.043325  \n",
      "topic_7   0.060655  0.054204  0.052605  \n",
      "topic_8   0.059885  0.065536  0.083408  \n",
      "topic_9   0.031605  0.023796  0.024791  \n",
      "topic_10  0.011905  0.001742  0.000308  \n",
      "topic_11  0.196675  0.146919  0.169095  \n",
      "topic_12  0.011672  0.079587  0.036432  \n",
      "topic_13  0.134102  0.135609  0.059862  \n",
      "topic_14  0.048609  0.093843  0.044887  \n",
      "\n",
      "[15 rows x 3430 columns]\n"
     ]
    }
   ],
   "source": [
    "theta_matrix = model_artm.get_theta()\n",
    "print theta_matrix"
   ]
  },
  {
   "cell_type": "markdown",
   "metadata": {},
   "source": [
    "Можно использовать модель для определения векторов $\\theta_d$ для новых документов с помощью метода ARTM.transform():"
   ]
  },
  {
   "cell_type": "code",
   "execution_count": 20,
   "metadata": {
    "scrolled": true
   },
   "outputs": [
    {
     "name": "stdout",
     "output_type": "stream",
     "text": [
      "Empty DataFrame\n",
      "Columns: []\n",
      "Index: []\n"
     ]
    }
   ],
   "source": [
    "test_batch_vectorizer = artm.BatchVectorizer(data_format='batches', data_path='kos_test', batches=['test_docs.batch'])\n",
    "test_theta_matrix = model_artm.transform(batch_vectorizer=test_batch_vectorizer)\n",
    "print test_theta_matrix"
   ]
  },
  {
   "cell_type": "markdown",
   "metadata": {},
   "source": [
    "#### Выводы\n",
    "\n",
    "Задача построения тематической модели имеет бесконечно большое множество решений. Это даёт большую свободу действий, и регуляризаторы позволяют использовать её для получения результата, удовлетворяющего сразу нескольким требованиям (разреженность, интерпретируемость, удовлетворительное значение перплексии и т. п.).\n",
    "\n",
    "Приведённый выше пример является демонстрационным, можно пробовать более гибкие стратегии регуляризации для получения ещё более хорошего результата. По аналогичной схеме можно производить эксперименты с более крупными коллекциями."
   ]
  }
 ],
 "metadata": {
  "kernelspec": {
   "display_name": "Python 3",
   "language": "python",
   "name": "python3"
  },
  "language_info": {
   "codemirror_mode": {
    "name": "ipython",
    "version": 3
   },
   "file_extension": ".py",
   "mimetype": "text/x-python",
   "name": "python",
   "nbconvert_exporter": "python",
   "pygments_lexer": "ipython3",
   "version": "3.6.8"
  }
 },
 "nbformat": 4,
 "nbformat_minor": 1
}
