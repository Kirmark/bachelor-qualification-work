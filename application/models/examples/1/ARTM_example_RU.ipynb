{
 "cells": [
  {
   "cell_type": "markdown",
   "metadata": {},
   "source": [
    "# Модельный эксперимент с использованием BigARTM Python API."
   ]
  },
  {
   "cell_type": "markdown",
   "metadata": {},
   "source": [
    "Автор - **Мурат Апишев** (great-mel@yandex.ru)"
   ]
  },
  {
   "cell_type": "markdown",
   "metadata": {},
   "source": [
    "BigARTM &ndash; открытая библиотека для тематического моделирования текстовых коллекций, реализующая теорию аддитивной регуляризации тематических моделей (ARTM). Основной сайт проекта http://bigartm.org/.\n",
    "\n",
    "Здесь показан пример использования пользовательского Python API библиотеки. Мы проведём демонстрационный эксперимент.\n",
    "\n",
    "#### Описание:\n",
    "Построим две тематические модели коллекции текстовых документов, ARTM и PLSA, сравним качество полученных моделей.\n",
    "\n",
    "#### Функционалы качества:\n",
    "Важным функционалом является перплексия коллекции. Тем не менее это далеко не единственная величина, характеризующая качество обучения. В BigARTM реализованы следующие функционалы:\n",
    "\n",
    "- разреженность матрицы $\\Phi$ (слова-темы);\n",
    "- разреженность матрицы $\\Theta$ (темы-документы);\n",
    "- характеристики ядер тем (чистота, контрастность, размер);\n",
    "- перплексия;\n",
    "- веса тем;\n",
    "- доля фоновых слов;\n",
    "- когерентность топ-слов и слов из ядер тем.\n",
    "\n",
    "Мы будем использовать первые четыре. Более сильные разреженности матриц и более высокие средние значения чистоты и контрастности способствуют большей интерпретируемости модели.\n",
    "\n",
    "#### Цель эксперимента:\n",
    "Попробуем обучить модель ARTM таким образом, чтобы, в сравнении с PLSA, улучшить значения разреженностей и ядровых характеристик и не сильно ухудшить перплексию.\n",
    "\n",
    "Основным инструментом для корректирования процесса обучения являются регуляризаторы. Список имеющихся в BigARTM регуляризаторов:\n",
    "\n",
    "- разреживание матрицы $\\Phi$ (+ частичное обучение);\n",
    "- разреживание матрицы $\\Theta$ (+ частичное обучение);\n",
    "- декоррелирование тем в матрице $\\Phi$;\n",
    "- принудительное разреживание $\\Phi$;\n",
    "- балансирование классов (Label Regularization);\n",
    "- повышение когерентности.\n",
    "\n",
    "В этом эксперименте для обучения ARTM воспользуемся первыми тремя регуляризаторами. ARTM без регуляризации соответствует PLSA.\n",
    "\n",
    "#### Коллекция:\n",
    "Воспользуемся небольшой коллекцией 'kos', доступной в репозитории UCI https://archive.ics.uci.edu/ml/machine-learning-databases/bag-of-words/. Параметры коллекции следующие:\n",
    "\n",
    "- 3430 документов;\n",
    "- 6906 слов в словаре;\n",
    "- 467714 ненулевых счётчиков в \"мешке слов\"."
   ]
  },
  {
   "cell_type": "markdown",
   "metadata": {},
   "source": [
    "Для начала подключим все необходимые модули (убедитесь, что путь к Python API BigARTM находится в вашей переменной PATH):"
   ]
  },
  {
   "cell_type": "code",
   "execution_count": 1,
   "metadata": {},
   "outputs": [
    {
     "name": "stdout",
     "output_type": "stream",
     "text": [
      "0.10.0\n"
     ]
    }
   ],
   "source": [
    "%matplotlib inline\n",
    "import glob\n",
    "import os\n",
    "import matplotlib.pyplot as plt\n",
    "\n",
    "import artm\n",
    "\n",
    "print(artm.version())"
   ]
  },
  {
   "cell_type": "markdown",
   "metadata": {},
   "source": [
    "Прежде всего необходимо подготовить входные данные. BigARTM имеет собственный формат документов для обработки, называемый батчами. В библиотеке присутствуют средства по созданию батчей из файлов в форматах Bag-Of-Words UCI и Vowpal Wabbit (подробности можно найти в http://docs.bigartm.org/en/latest/formats.html).\n",
    "\n",
    "В Python API, по аналогии с алгоритмами из scikit-learn, входные данные представлены одним классом BatchVectorizer. Объект этого класса принимает на вход батчи или файлы UCI / VW и подаётся на вход всем методам. В случае, если входные данные не являются батчами, он создаёт их и сохраняет на диск для последующего быстрого использования.\n",
    "\n",
    "Итак, создадим объект BatchVectorizer:"
   ]
  },
  {
   "cell_type": "code",
   "execution_count": 2,
   "metadata": {},
   "outputs": [],
   "source": [
    "batch_vectorizer = None\n",
    "if len(glob.glob(os.path.join('kos', '*.batch'))) < 1:\n",
    "    batch_vectorizer = artm.BatchVectorizer(data_path='', data_format='bow_uci', collection_name='kos', target_folder='kos')\n",
    "else:\n",
    "    batch_vectorizer = artm.BatchVectorizer(data_path='kos', data_format='batches')"
   ]
  },
  {
   "cell_type": "markdown",
   "metadata": {},
   "source": [
    "ARTM &ndash; это класс, представляющий собой Python API BigARTM, и позволяющий использовать практически все возможности библиотеки в стиле scikit-learn. Создадим две тематические модели для нашего эксперимента. Наиболее важным параметром модели является число тем. Опционально можно указать списки регуляризаторов и функционалов качества, которые следует использовать для данной модели. Если этого не сделать, то регуляризаторы и функционалы всегда можно добавить позднее. Обратите внимание, что каждая модель задаёт своё пространство имён для названий регуляризаторов и функционалов качества."
   ]
  },
  {
   "cell_type": "code",
   "execution_count": 3,
   "metadata": {},
   "outputs": [],
   "source": [
    "dictionary = artm.Dictionary()\n",
    "\n",
    "model_plsa = artm.ARTM(topic_names=['topic_{}'.format(i) for i in range(15)],\n",
    "                       scores=[artm.PerplexityScore(name='PerplexityScore',\n",
    "                                                    #use_unigram_document_model=False,\n",
    "                                                    dictionary=dictionary)],\n",
    "                       cache_theta=True)\n",
    "\n",
    "model_artm = artm.ARTM(topic_names=['topic_{}'.format(i) for i in range(15)],\n",
    "                       scores=[artm.PerplexityScore(name='PerplexityScore',\n",
    "                                                    #use_unigram_document_model=False,\n",
    "                                                    dictionary=dictionary)],\n",
    "                       regularizers=[artm.SmoothSparseThetaRegularizer(name='SparseTheta', tau=-0.15)],\n",
    "                       cache_theta=True)"
   ]
  },
  {
   "cell_type": "markdown",
   "metadata": {},
   "source": [
    "Следующий шаг — инициализация моделей. Сделаем это по словарю, что означает, что\n",
    "- будет создана матрица $\\Phi$ с именем 'pwt', число строк и столбцов в ней будет взято исходя из числа слов в словаре и заданного в модели числа тем;\n",
    "- эта матрица будет заполнена случайными значениями из диапазона (0, 1) и нормализована.\n",
    "\n",
    "Надо отметить, что этот шаг является опциональным, поскольку модель может быть автоматически инициализирована во время вызовов fit_offline() / fit_online().\n",
    "\n",
    "Словарь &ndash; это объект BigARTM, содержащий информацию о коллекции (словарь коллекции, различные величины и счётчики, связанные со словами). Создать словарь можно на основе папки с батчами. Затем собранный словарь можно сохранять на диск и позже подгрузить вновь."
   ]
  },
  {
   "cell_type": "code",
   "execution_count": 4,
   "metadata": {},
   "outputs": [],
   "source": [
    "if not os.path.isfile('kos/dictionary.dict'):\n",
    "    dictionary.gather(data_path=batch_vectorizer.data_path)\n",
    "    dictionary.save(dictionary_path='kos/dictionary.dict')\n",
    "\n",
    "dictionary.load(dictionary_path='kos/dictionary.dict')\n",
    "dictionary.load(dictionary_path='kos/dictionary.dict')"
   ]
  },
  {
   "cell_type": "markdown",
   "metadata": {},
   "source": [
    "Затем словари можно использовать, чтобы инициализировать модель:"
   ]
  },
  {
   "cell_type": "code",
   "execution_count": 5,
   "metadata": {},
   "outputs": [],
   "source": [
    "model_plsa.initialize(dictionary=dictionary)\n",
    "model_artm.initialize(dictionary=dictionary)"
   ]
  },
  {
   "cell_type": "markdown",
   "metadata": {},
   "source": [
    "Как уже было сказано, ARTM предоставляет возможность использовать все функционалы качества, имеющиеся в BigARTM. Если функционал подключен к модели, то модель будет сохранять все его значения, полученные на момент каждого обновления матрицы $\\Phi$. Добавим функционалы качества, нужные для нашего эксперимента, которые отсутствовали в конструкторах:"
   ]
  },
  {
   "cell_type": "code",
   "execution_count": 6,
   "metadata": {},
   "outputs": [],
   "source": [
    "model_plsa.scores.add(artm.SparsityPhiScore(name='SparsityPhiScore'))\n",
    "model_plsa.scores.add(artm.SparsityThetaScore(name='SparsityThetaScore'))\n",
    "model_plsa.scores.add(artm.TopicKernelScore(name='TopicKernelScore', probability_mass_threshold=0.3))\n",
    "\n",
    "model_artm.scores.add(artm.SparsityPhiScore(name='SparsityPhiScore'))\n",
    "model_artm.scores.add(artm.SparsityThetaScore(name='SparsityThetaScore'))\n",
    "model_artm.scores.add(artm.TopicKernelScore(name='TopicKernelScore', probability_mass_threshold=0.3))"
   ]
  },
  {
   "cell_type": "markdown",
   "metadata": {},
   "source": [
    "Аналогично поступим с регуляризаторами для model_artm (зададим им стартовые коэффициенты регуляризации, которые можно будет позже изменить при необходимости):"
   ]
  },
  {
   "cell_type": "code",
   "execution_count": 7,
   "metadata": {},
   "outputs": [],
   "source": [
    "model_artm.regularizers.add(artm.SmoothSparsePhiRegularizer(name='SparsePhi', tau=-0.1))\n",
    "model_artm.regularizers.add(artm.DecorrelatorPhiRegularizer(name='DecorrelatorPhi', tau=1.5e+5))"
   ]
  },
  {
   "cell_type": "markdown",
   "metadata": {},
   "source": [
    "Теперь попробуем обучить модели в оффлайн-режиме (т. е. обновляя Фи раз за проход по коллекции). Инициируем пятнадцать проходов:"
   ]
  },
  {
   "cell_type": "code",
   "execution_count": 8,
   "metadata": {},
   "outputs": [],
   "source": [
    "model_plsa.num_document_passes = 1\n",
    "model_artm.num_document_passes = 1\n",
    "\n",
    "model_plsa.fit_offline(batch_vectorizer=batch_vectorizer, num_collection_passes=15)\n",
    "model_artm.fit_offline(batch_vectorizer=batch_vectorizer, num_collection_passes=15)"
   ]
  },
  {
   "cell_type": "markdown",
   "metadata": {},
   "source": [
    "Проверим результаты первой итерации обучения, сравнив финальные значения функционалов, а также графики перплексии (опишем печать в виде функции для возможности повторного использования):"
   ]
  },
  {
   "cell_type": "code",
   "execution_count": 9,
   "metadata": {},
   "outputs": [
    {
     "name": "stdout",
     "output_type": "stream",
     "text": [
      "Sparsity Phi: 0.000 (PLSA) vs. 0.469 (ARTM)\n",
      "Sparsity Theta: 0.000 (PLSA) vs. 0.001 (ARTM)\n",
      "Kernel contrast: 0.466 (PLSA) vs. 0.525 (ARTM)\n",
      "Kernel purity: 0.215 (PLSA) vs. 0.359 (ARTM)\n",
      "Perplexity: nan (PLSA) vs. nan (ARTM)\n"
     ]
    },
    {
     "data": {
      "image/png": "[encoded data removed]",
      "text/plain": [
       "<matplotlib.figure.Figure at 0x11572d2b0>"
      ]
     },
     "metadata": {},
     "output_type": "display_data"
    }
   ],
   "source": [
    "def print_measures(model_plsa, model_artm):\n",
    "    print('Sparsity Phi: {0:.3f} (PLSA) vs. {1:.3f} (ARTM)'.format(\n",
    "        model_plsa.score_tracker['SparsityPhiScore'].last_value,\n",
    "        model_artm.score_tracker['SparsityPhiScore'].last_value))\n",
    "\n",
    "    print('Sparsity Theta: {0:.3f} (PLSA) vs. {1:.3f} (ARTM)'.format(\n",
    "        model_plsa.score_tracker['SparsityThetaScore'].last_value,\n",
    "        model_artm.score_tracker['SparsityThetaScore'].last_value))\n",
    "\n",
    "    print('Kernel contrast: {0:.3f} (PLSA) vs. {1:.3f} (ARTM)'.format(\n",
    "        model_plsa.score_tracker['TopicKernelScore'].last_average_contrast,\n",
    "        model_artm.score_tracker['TopicKernelScore'].last_average_contrast))\n",
    "\n",
    "    print('Kernel purity: {0:.3f} (PLSA) vs. {1:.3f} (ARTM)'.format(\n",
    "        model_plsa.score_tracker['TopicKernelScore'].last_average_purity,\n",
    "        model_artm.score_tracker['TopicKernelScore'].last_average_purity))\n",
    "\n",
    "    print('Perplexity: {0:.3f} (PLSA) vs. {1:.3f} (ARTM)'.format(\n",
    "        model_plsa.score_tracker['PerplexityScore'].last_value,\n",
    "        model_artm.score_tracker['PerplexityScore'].last_value))\n",
    "\n",
    "    plt.plot(range(model_plsa.num_phi_updates), model_plsa.score_tracker['PerplexityScore'].value, 'b--',\n",
    "             range(model_artm.num_phi_updates), model_artm.score_tracker['PerplexityScore'].value, 'r--', linewidth=2)\n",
    "    plt.xlabel('Iterations count')\n",
    "    plt.ylabel('PLSA perp. (blue), ARTM perp. (red)')\n",
    "    plt.grid(True)\n",
    "    plt.show()\n",
    "    \n",
    "print_measures(model_plsa, model_artm)"
   ]
  },
  {
   "cell_type": "markdown",
   "metadata": {},
   "source": [
    "Видно, что улучшения разреженностей и ядровых характеристик есть, а ухудшение перплексии невелико. Попробуем увеличить по модулю значения коэффициентов регуляризации при регуляризаторах:"
   ]
  },
  {
   "cell_type": "code",
   "execution_count": 10,
   "metadata": {},
   "outputs": [],
   "source": [
    "model_artm.regularizers['SparsePhi'].tau = -0.2\n",
    "model_artm.regularizers['SparseTheta'].tau = -0.2\n",
    "model_artm.regularizers['DecorrelatorPhi'].tau = 2.5e+5"
   ]
  },
  {
   "cell_type": "markdown",
   "metadata": {},
   "source": [
    "Кроме того, подключим к каждой из моделей функционал TopTokensScore, который позволит взглянуть на самые вероятные слова в каждой теме:"
   ]
  },
  {
   "cell_type": "code",
   "execution_count": 11,
   "metadata": {},
   "outputs": [],
   "source": [
    "model_plsa.scores.add(artm.TopTokensScore(name='TopTokensScore', num_tokens=6))\n",
    "model_artm.scores.add(artm.TopTokensScore(name='TopTokensScore', num_tokens=6))"
   ]
  },
  {
   "cell_type": "markdown",
   "metadata": {},
   "source": [
    "Продолжим обучение моделей, инициировав 25 проходов по коллекции, после чего снова посмотрим на значения функционалов качества:"
   ]
  },
  {
   "cell_type": "code",
   "execution_count": 12,
   "metadata": {},
   "outputs": [],
   "source": [
    "model_plsa.fit_offline(batch_vectorizer=batch_vectorizer, num_collection_passes=25)\n",
    "model_artm.fit_offline(batch_vectorizer=batch_vectorizer, num_collection_passes=25)"
   ]
  },
  {
   "cell_type": "code",
   "execution_count": 13,
   "metadata": {},
   "outputs": [
    {
     "name": "stdout",
     "output_type": "stream",
     "text": [
      "Sparsity Phi: 0.093 (PLSA) vs. 0.841 (ARTM)\n",
      "Sparsity Theta: 0.000 (PLSA) vs. 0.023 (ARTM)\n",
      "Kernel contrast: 0.640 (PLSA) vs. 0.739 (ARTM)\n",
      "Kernel purity: 0.674 (PLSA) vs. 0.822 (ARTM)\n",
      "Perplexity: nan (PLSA) vs. nan (ARTM)\n"
     ]
    },
    {
     "data": {
      "image/png": "[encoded data removed]",
      "text/plain": [
       "<matplotlib.figure.Figure at 0x1187bae10>"
      ]
     },
     "metadata": {},
     "output_type": "display_data"
    }
   ],
   "source": [
    "print_measures(model_plsa, model_artm)"
   ]
  },
  {
   "cell_type": "markdown",
   "metadata": {},
   "source": [
    "Кроме того, для наглядности построим графики изменения разреженностей матриц по итерациям:"
   ]
  },
  {
   "cell_type": "code",
   "execution_count": 14,
   "metadata": {},
   "outputs": [
    {
     "data": {
      "image/png": "[encoded data removed]",
      "text/plain": [
       "<matplotlib.figure.Figure at 0x1184c13c8>"
      ]
     },
     "metadata": {},
     "output_type": "display_data"
    },
    {
     "data": {
      "image/png": "[encoded data removed]",
      "text/plain": [
       "<matplotlib.figure.Figure at 0x1188606a0>"
      ]
     },
     "metadata": {},
     "output_type": "display_data"
    }
   ],
   "source": [
    "plt.plot(range(model_plsa.num_phi_updates), model_plsa.score_tracker['SparsityPhiScore'].value, 'b--',\n",
    "                 range(model_artm.num_phi_updates), model_artm.score_tracker['SparsityPhiScore'].value, 'r--', linewidth=2)\n",
    "plt.xlabel('Iterations count')\n",
    "plt.ylabel('PLSA Phi sp. (blue), ARTM Phi sp. (red)')\n",
    "plt.grid(True)\n",
    "plt.show()\n",
    "\n",
    "plt.plot(range(model_plsa.num_phi_updates), model_plsa.score_tracker['SparsityThetaScore'].value, 'b--',\n",
    "                 range(model_artm.num_phi_updates), model_artm.score_tracker['SparsityThetaScore'].value, 'r--', linewidth=2)\n",
    "plt.xlabel('Iterations count')\n",
    "plt.ylabel('PLSA Theta sp. (blue), ARTM Theta sp. (red)')\n",
    "plt.grid(True)\n",
    "plt.show()"
   ]
  },
  {
   "cell_type": "markdown",
   "metadata": {},
   "source": [
    "Кажется, что достигнутых результатов достаточно. Регуляризация позволила добиться улучшения всех характеристик, ухудшив перплексию в пределах разумного. Взглянем на топ-слова слова моделей:"
   ]
  },
  {
   "cell_type": "code",
   "execution_count": 15,
   "metadata": {},
   "outputs": [
    {
     "name": "stdout",
     "output_type": "stream",
     "text": [
      "topic_0: \n",
      "['year', 'tax', 'jobs', 'america', 'president', 'issues']\n",
      "topic_1: \n",
      "['people', 'war', 'service', 'military', 'rights', 'vietnam']\n",
      "topic_2: \n",
      "['november', 'electoral', 'account', 'polls', 'governor', 'contact']\n",
      "topic_3: \n",
      "['republican', 'gop', 'senate', 'senator', 'south', 'conservative']\n",
      "topic_4: \n",
      "['people', 'time', 'country', 'speech', 'talking', 'read']\n",
      "topic_5: \n",
      "['dean', 'democratic', 'edwards', 'primary', 'kerry', 'clark']\n",
      "topic_6: \n",
      "['state', 'party', 'race', 'candidates', 'candidate', 'elections']\n",
      "topic_7: \n",
      "['administration', 'president', 'years', 'bill', 'white', 'cheney']\n",
      "topic_8: \n",
      "['campaign', 'national', 'media', 'local', 'late', 'union']\n",
      "topic_9: \n",
      "['house', 'million', 'money', 'republican', 'committee', 'delay']\n",
      "topic_10: \n",
      "['republicans', 'vote', 'senate', 'election', 'democrats', 'house']\n",
      "topic_11: \n",
      "['iraq', 'war', 'american', 'iraqi', 'military', 'intelligence']\n",
      "topic_12: \n",
      "['kerry', 'poll', 'percent', 'voters', 'polls', 'numbers']\n",
      "topic_13: \n",
      "['news', 'time', 'asked', 'political', 'washington', 'long']\n",
      "topic_14: \n",
      "['bush', 'general', 'bushs', 'kerry', 'oct', 'states']\n"
     ]
    }
   ],
   "source": [
    "for topic_name in model_plsa.topic_names:\n",
    "    print(topic_name + ': ',)\n",
    "    print(model_plsa.score_tracker['TopTokensScore'].last_tokens[topic_name])"
   ]
  },
  {
   "cell_type": "code",
   "execution_count": 16,
   "metadata": {},
   "outputs": [
    {
     "name": "stdout",
     "output_type": "stream",
     "text": [
      "topic_0: \n",
      "['party', 'political', 'issue', 'tax', 'america', 'issues']\n",
      "topic_1: \n",
      "['people', 'military', 'official', 'officials', 'service', 'public']\n",
      "topic_2: \n",
      "['electoral', 'governor', 'account', 'contact', 'ticket', 'experience']\n",
      "topic_3: \n",
      "['gop', 'convention', 'senator', 'debate', 'south', 'sen']\n",
      "topic_4: \n",
      "['country', 'speech', 'bad', 'read', 'end', 'talking']\n",
      "topic_5: \n",
      "['democratic', 'dean', 'john', 'edwards', 'primary', 'clark']\n",
      "topic_6: \n",
      "['percent', 'race', 'candidates', 'candidate', 'win', 'nader']\n",
      "topic_7: \n",
      "['administration', 'years', 'white', 'year', 'bill', 'jobs']\n",
      "topic_8: \n",
      "['campaign', 'national', 'media', 'press', 'local', 'ads']\n",
      "topic_9: \n",
      "['house', 'republican', 'million', 'money', 'elections', 'district']\n",
      "topic_10: \n",
      "['november', 'poll', 'senate', 'republicans', 'vote', 'election']\n",
      "topic_11: \n",
      "['iraq', 'war', 'american', 'iraqi', 'security', 'united']\n",
      "topic_12: \n",
      "['bush', 'kerry', 'general', 'president', 'voters', 'bushs']\n",
      "topic_13: \n",
      "['time', 'news', 'long', 'asked', 'washington', 'political']\n",
      "topic_14: \n",
      "['state', 'states', 'people', 'oct', 'fact', 'ohio']\n"
     ]
    }
   ],
   "source": [
    "for topic_name in model_artm.topic_names:\n",
    "    print(topic_name + ': ',)\n",
    "    print(model_artm.score_tracker['TopTokensScore'].last_tokens[topic_name])"
   ]
  },
  {
   "cell_type": "markdown",
   "metadata": {},
   "source": [
    "Видно, что темы примерно одинаково интерпретируемы, но в модели ARTM они существенно разнообразнее."
   ]
  },
  {
   "cell_type": "markdown",
   "metadata": {},
   "source": [
    "Извлечём матрицу $\\Phi$ в виде pandas.DataFrame и напечатаем её (в случае необходимости, можно извлекать части матрицы с помощью метода ARTM.get_phi()):"
   ]
  },
  {
   "cell_type": "code",
   "execution_count": 17,
   "metadata": {},
   "outputs": [
    {
     "name": "stdout",
     "output_type": "stream",
     "text": [
      "                   topic_0   topic_1   topic_2   topic_3   topic_4   topic_5  \\\n",
      "predebate         0.000000  0.000000  0.000000  0.000000  0.000000  0.000000   \n",
      "barbour           0.000000  0.000000  0.000000  0.000000  0.000000  0.000000   \n",
      "bumblebums        0.000000  0.000000  0.000620  0.000000  0.000000  0.000000   \n",
      "spindizzy         0.000000  0.000000  0.000647  0.000000  0.000000  0.000000   \n",
      "mcentee           0.000000  0.000000  0.000000  0.000000  0.000000  0.000000   \n",
      "aft               0.000000  0.000000  0.000000  0.000000  0.000000  0.000419   \n",
      "postdebate        0.000000  0.000000  0.000000  0.000000  0.000000  0.000000   \n",
      "abrams            0.000000  0.000000  0.000000  0.000000  0.000000  0.000000   \n",
      "bulb              0.000000  0.000000  0.000000  0.000000  0.000000  0.000000   \n",
      "deanclark         0.000000  0.000000  0.000000  0.000000  0.000000  0.000348   \n",
      "amphibians        0.000000  0.000000  0.000000  0.000000  0.000000  0.000000   \n",
      "flypaper          0.000000  0.000000  0.000000  0.000000  0.000000  0.000000   \n",
      "inactive          0.000000  0.000000  0.000000  0.000000  0.000000  0.000000   \n",
      "steinhardt        0.000000  0.000000  0.000000  0.000000  0.000365  0.000000   \n",
      "lightbulb         0.000000  0.000000  0.000000  0.000000  0.000000  0.000000   \n",
      "oceana            0.000000  0.000000  0.000000  0.000000  0.000000  0.000000   \n",
      "dingell           0.000000  0.000000  0.000000  0.000000  0.000000  0.000000   \n",
      "sproul            0.000000  0.000000  0.000000  0.000000  0.000000  0.000000   \n",
      "alzheimers        0.000000  0.000000  0.000000  0.000000  0.000000  0.000000   \n",
      "yucca             0.000000  0.000000  0.000000  0.000000  0.000000  0.000000   \n",
      "timken            0.000000  0.000000  0.000000  0.000000  0.000000  0.000000   \n",
      "russo             0.000000  0.000000  0.000000  0.000000  0.000000  0.000000   \n",
      "leach             0.000000  0.000000  0.000000  0.000000  0.000000  0.000000   \n",
      "ndp               0.000000  0.000000  0.000000  0.000000  0.000000  0.000000   \n",
      "berg              0.000000  0.000000  0.000000  0.000000  0.000000  0.000000   \n",
      "bishops           0.000433  0.000000  0.000000  0.000000  0.000000  0.000000   \n",
      "holidays          0.000000  0.000000  0.000000  0.000297  0.000000  0.000000   \n",
      "relax             0.000000  0.000000  0.000000  0.000000  0.000000  0.000000   \n",
      "veepstakes        0.000000  0.000000  0.000000  0.000000  0.000000  0.000000   \n",
      "theaters          0.000000  0.000000  0.000000  0.000000  0.000000  0.000000   \n",
      "...                    ...       ...       ...       ...       ...       ...   \n",
      "favored           0.000000  0.000000  0.000000  0.000000  0.000000  0.000000   \n",
      "review            0.002021  0.000348  0.000000  0.000000  0.000334  0.000000   \n",
      "ranch             0.000000  0.000000  0.000000  0.000000  0.000000  0.000000   \n",
      "devastating       0.000000  0.000000  0.000029  0.000000  0.000183  0.000000   \n",
      "responsibilities  0.000000  0.000000  0.000000  0.000000  0.000000  0.000000   \n",
      "call              0.000000  0.000083  0.000000  0.000056  0.000564  0.001482   \n",
      "ceiling           0.000000  0.000000  0.000000  0.000411  0.000000  0.000000   \n",
      "chief             0.000000  0.000085  0.000000  0.000000  0.000000  0.000000   \n",
      "blowing           0.000000  0.000000  0.000000  0.000549  0.000000  0.000000   \n",
      "concern           0.000000  0.000004  0.000000  0.000000  0.001301  0.000000   \n",
      "gun               0.000000  0.000000  0.000000  0.000000  0.000000  0.000000   \n",
      "notice            0.000000  0.000000  0.000000  0.000000  0.000000  0.000000   \n",
      "model             0.000963  0.000000  0.000000  0.000000  0.000303  0.000000   \n",
      "options           0.000000  0.000000  0.000000  0.000030  0.000000  0.000000   \n",
      "referring         0.000000  0.000224  0.000000  0.000000  0.000000  0.000000   \n",
      "shows             0.000000  0.000000  0.000000  0.000074  0.000000  0.000000   \n",
      "content           0.000000  0.000000  0.000000  0.000000  0.000000  0.000000   \n",
      "advanced          0.000408  0.000000  0.000000  0.000000  0.000000  0.000000   \n",
      "posting           0.000000  0.000000  0.000000  0.000000  0.002185  0.000000   \n",
      "band              0.000000  0.000000  0.000000  0.000000  0.000000  0.000000   \n",
      "elect             0.000031  0.000000  0.000000  0.000000  0.000000  0.000000   \n",
      "catch             0.000000  0.000000  0.000000  0.000000  0.000446  0.000632   \n",
      "brought           0.000000  0.000934  0.000000  0.000047  0.000000  0.000000   \n",
      "limited           0.000374  0.000000  0.000000  0.000000  0.000000  0.000000   \n",
      "testify           0.000000  0.000000  0.000000  0.000000  0.000000  0.000000   \n",
      "deadline          0.000000  0.000000  0.000000  0.000000  0.000000  0.000000   \n",
      "contempt          0.000000  0.000123  0.000000  0.000000  0.000000  0.000000   \n",
      "administration    0.000000  0.000000  0.000000  0.000000  0.000000  0.000000   \n",
      "assets            0.000000  0.000000  0.000000  0.000000  0.000000  0.000000   \n",
      "close             0.000000  0.000000  0.000000  0.000078  0.000118  0.000000   \n",
      "\n",
      "                   topic_6   topic_7   topic_8   topic_9  topic_10  topic_11  \\\n",
      "predebate         0.000000  0.000000  0.000000  0.000000       0.0  0.000000   \n",
      "barbour           0.000000  0.000000  0.000000  0.000000       0.0  0.000000   \n",
      "bumblebums        0.000000  0.000000  0.000000  0.000000       0.0  0.000000   \n",
      "spindizzy         0.000000  0.000000  0.000000  0.000000       0.0  0.000000   \n",
      "mcentee           0.000000  0.000000  0.000778  0.000000       0.0  0.000000   \n",
      "aft               0.000000  0.000000  0.000000  0.000000       0.0  0.000000   \n",
      "postdebate        0.000000  0.000000  0.000000  0.000000       0.0  0.000000   \n",
      "abrams            0.000000  0.000533  0.000000  0.000000       0.0  0.000000   \n",
      "bulb              0.000000  0.000000  0.000000  0.000000       0.0  0.000000   \n",
      "deanclark         0.000000  0.000000  0.000000  0.000000       0.0  0.000000   \n",
      "amphibians        0.000000  0.000000  0.000000  0.000342       0.0  0.000000   \n",
      "flypaper          0.000000  0.000000  0.000000  0.000000       0.0  0.000327   \n",
      "inactive          0.000000  0.000000  0.000000  0.000000       0.0  0.000000   \n",
      "steinhardt        0.000000  0.000000  0.000000  0.000000       0.0  0.000000   \n",
      "lightbulb         0.000000  0.000000  0.000000  0.000000       0.0  0.000000   \n",
      "oceana            0.000571  0.000000  0.000000  0.000000       0.0  0.000000   \n",
      "dingell           0.000000  0.000000  0.000000  0.000517       0.0  0.000000   \n",
      "sproul            0.000000  0.000000  0.000000  0.000831       0.0  0.000000   \n",
      "alzheimers        0.000000  0.000438  0.000000  0.000000       0.0  0.000000   \n",
      "yucca             0.000000  0.000000  0.000000  0.000000       0.0  0.000000   \n",
      "timken            0.000000  0.000000  0.000000  0.000000       0.0  0.000000   \n",
      "russo             0.000000  0.000311  0.000000  0.000000       0.0  0.000000   \n",
      "leach             0.000354  0.000000  0.000000  0.000000       0.0  0.000000   \n",
      "ndp               0.000535  0.000000  0.000000  0.000000       0.0  0.000000   \n",
      "berg              0.000000  0.000000  0.000000  0.000000       0.0  0.000576   \n",
      "bishops           0.000000  0.000000  0.000000  0.000000       0.0  0.000000   \n",
      "holidays          0.000000  0.000000  0.000000  0.000000       0.0  0.000000   \n",
      "relax             0.000000  0.000000  0.000000  0.000000       0.0  0.000000   \n",
      "veepstakes        0.000139  0.000000  0.000000  0.000000       0.0  0.000000   \n",
      "theaters          0.000000  0.000000  0.000000  0.000552       0.0  0.000000   \n",
      "...                    ...       ...       ...       ...       ...       ...   \n",
      "favored           0.002018  0.000000  0.000000  0.000000       0.0  0.000000   \n",
      "review            0.000000  0.000366  0.000000  0.000000       0.0  0.000000   \n",
      "ranch             0.000000  0.000922  0.000000  0.000000       0.0  0.000000   \n",
      "devastating       0.000000  0.000000  0.000000  0.000000       0.0  0.000369   \n",
      "responsibilities  0.000000  0.000438  0.000000  0.000000       0.0  0.000000   \n",
      "call              0.000000  0.000439  0.001340  0.001730       0.0  0.000000   \n",
      "ceiling           0.000000  0.000000  0.000000  0.000000       0.0  0.000000   \n",
      "chief             0.000000  0.001233  0.000000  0.000275       0.0  0.000000   \n",
      "blowing           0.000000  0.000000  0.000000  0.000000       0.0  0.000000   \n",
      "concern           0.000000  0.000557  0.000000  0.000000       0.0  0.000000   \n",
      "gun               0.000000  0.000278  0.000000  0.000000       0.0  0.000000   \n",
      "notice            0.000000  0.000000  0.000000  0.000000       0.0  0.000000   \n",
      "model             0.000000  0.000000  0.000000  0.000000       0.0  0.000000   \n",
      "options           0.000000  0.000000  0.000313  0.000000       0.0  0.000020   \n",
      "referring         0.000000  0.000000  0.000000  0.000000       0.0  0.000340   \n",
      "shows             0.000000  0.000000  0.003136  0.000000       0.0  0.000000   \n",
      "content           0.000000  0.000000  0.000000  0.000214       0.0  0.000000   \n",
      "advanced          0.000000  0.000000  0.000000  0.000000       0.0  0.000117   \n",
      "posting           0.000000  0.000000  0.000028  0.000000       0.0  0.000000   \n",
      "band              0.000000  0.000000  0.000000  0.000000       0.0  0.000000   \n",
      "elect             0.001650  0.000000  0.000000  0.000000       0.0  0.000000   \n",
      "catch             0.000000  0.000000  0.000283  0.000000       0.0  0.000000   \n",
      "brought           0.000000  0.000117  0.001216  0.000387       0.0  0.000816   \n",
      "limited           0.000124  0.000179  0.000000  0.001287       0.0  0.000000   \n",
      "testify           0.000000  0.000000  0.000000  0.001389       0.0  0.000000   \n",
      "deadline          0.001478  0.000000  0.000000  0.000000       0.0  0.000071   \n",
      "contempt          0.000000  0.000658  0.000000  0.000000       0.0  0.000000   \n",
      "administration    0.000000  0.041239  0.000000  0.000000       0.0  0.001900   \n",
      "assets            0.000000  0.000000  0.000000  0.000000       0.0  0.000129   \n",
      "close             0.012694  0.000000  0.000371  0.000127       0.0  0.000000   \n",
      "\n",
      "                  topic_12  topic_13  topic_14  \n",
      "predebate         0.000000  0.000000  0.000204  \n",
      "barbour           0.000000  0.000000  0.000451  \n",
      "bumblebums        0.000000  0.000000  0.000000  \n",
      "spindizzy         0.000000  0.000000  0.000000  \n",
      "mcentee           0.000000  0.000000  0.000000  \n",
      "aft               0.000000  0.000000  0.000000  \n",
      "postdebate        0.000086  0.000000  0.000763  \n",
      "abrams            0.000000  0.000000  0.000000  \n",
      "bulb              0.000000  0.000360  0.000000  \n",
      "deanclark         0.000000  0.000000  0.000000  \n",
      "amphibians        0.000000  0.000000  0.000000  \n",
      "flypaper          0.000000  0.000000  0.000000  \n",
      "inactive          0.000000  0.000460  0.000000  \n",
      "steinhardt        0.000000  0.000000  0.000000  \n",
      "lightbulb         0.000000  0.000460  0.000000  \n",
      "oceana            0.000000  0.000000  0.000000  \n",
      "dingell           0.000000  0.000000  0.000000  \n",
      "sproul            0.000000  0.000000  0.000000  \n",
      "alzheimers        0.000000  0.000000  0.000000  \n",
      "yucca             0.000000  0.000360  0.000000  \n",
      "timken            0.000000  0.000000  0.000521  \n",
      "russo             0.000000  0.000000  0.000000  \n",
      "leach             0.000000  0.000000  0.000000  \n",
      "ndp               0.000000  0.000000  0.000000  \n",
      "berg              0.000000  0.000000  0.000000  \n",
      "bishops           0.000000  0.000000  0.000000  \n",
      "holidays          0.000000  0.000000  0.000000  \n",
      "relax             0.000000  0.000427  0.000000  \n",
      "veepstakes        0.000000  0.000000  0.000167  \n",
      "theaters          0.000000  0.000000  0.000000  \n",
      "...                    ...       ...       ...  \n",
      "favored           0.000000  0.000000  0.000000  \n",
      "review            0.000000  0.000000  0.000091  \n",
      "ranch             0.000016  0.000000  0.000000  \n",
      "devastating       0.000000  0.000209  0.000000  \n",
      "responsibilities  0.000000  0.000000  0.000000  \n",
      "call              0.000000  0.004296  0.001357  \n",
      "ceiling           0.000000  0.000000  0.000000  \n",
      "chief             0.000000  0.003590  0.000000  \n",
      "blowing           0.000005  0.000000  0.000000  \n",
      "concern           0.000000  0.000764  0.000000  \n",
      "gun               0.000000  0.001487  0.000062  \n",
      "notice            0.000000  0.001847  0.000586  \n",
      "model             0.000000  0.000711  0.000000  \n",
      "options           0.000000  0.001011  0.000000  \n",
      "referring         0.000000  0.000335  0.000000  \n",
      "shows             0.005833  0.000443  0.000000  \n",
      "content           0.000000  0.001243  0.000000  \n",
      "advanced          0.000000  0.000035  0.000000  \n",
      "posting           0.000000  0.000000  0.000000  \n",
      "band              0.000000  0.001093  0.000000  \n",
      "elect             0.000000  0.000000  0.000000  \n",
      "catch             0.000000  0.000572  0.000000  \n",
      "brought           0.000000  0.000136  0.000000  \n",
      "limited           0.000000  0.000241  0.000000  \n",
      "testify           0.000000  0.000000  0.000000  \n",
      "deadline          0.000000  0.000000  0.000752  \n",
      "contempt          0.000000  0.000000  0.000000  \n",
      "administration    0.000000  0.000000  0.000000  \n",
      "assets            0.000000  0.000331  0.000000  \n",
      "close             0.000448  0.000000  0.000096  \n",
      "\n",
      "[6906 rows x 15 columns]\n"
     ]
    }
   ],
   "source": [
    "print(model_artm.phi_)"
   ]
  },
  {
   "cell_type": "markdown",
   "metadata": {},
   "source": [
    "Дополнительно извлечём $\\Theta$ в виде pandas.DataFrame и напечатаем её:"
   ]
  },
  {
   "cell_type": "code",
   "execution_count": 18,
   "metadata": {
    "scrolled": true
   },
   "outputs": [
    {
     "name": "stdout",
     "output_type": "stream",
     "text": [
      "              1001      1002      1003      1004      1005      1006  \\\n",
      "topic_0   0.037087  0.051203  0.036918  0.030498  0.091975  0.082081   \n",
      "topic_1   0.061494  0.034475  0.133287  0.160072  0.147482  0.158554   \n",
      "topic_2   0.003563  0.311975  0.026347  0.007875  0.006759  0.003143   \n",
      "topic_3   0.068842  0.026556  0.052258  0.015699  0.022543  0.022600   \n",
      "topic_4   0.080574  0.040837  0.150614  0.091836  0.094893  0.114231   \n",
      "topic_5   0.021833  0.035497  0.005834  0.057095  0.040495  0.016167   \n",
      "topic_6   0.026728  0.022568  0.014048  0.028579  0.017716  0.019812   \n",
      "topic_7   0.070337  0.075968  0.075371  0.030303  0.081536  0.077843   \n",
      "topic_8   0.096742  0.032662  0.040743  0.075690  0.055043  0.039129   \n",
      "topic_9   0.032749  0.013995  0.020614  0.025493  0.060960  0.040063   \n",
      "topic_10  0.029641  0.121460  0.016408  0.002163  0.015176  0.027339   \n",
      "topic_11  0.221119  0.071398  0.170241  0.280212  0.194087  0.202167   \n",
      "topic_12  0.150775  0.059853  0.129070  0.046662  0.026929  0.064408   \n",
      "topic_13  0.055369  0.068445  0.086126  0.071016  0.081041  0.100872   \n",
      "topic_14  0.043146  0.033107  0.042122  0.076808  0.063365  0.031591   \n",
      "\n",
      "              1007      1008      1009      1010  ...      991       992   \\\n",
      "topic_0   0.106686  0.043550  0.017700  0.046925  ...  0.053795  0.057835   \n",
      "topic_1   0.054503  0.088229  0.108200  0.052601  ...  0.119861  0.121933   \n",
      "topic_2   0.013720  0.025334  0.020863  0.014577  ...  0.201032  0.000000   \n",
      "topic_3   0.028356  0.046909  0.262446  0.056381  ...  0.015301  0.040474   \n",
      "topic_4   0.034787  0.059404  0.053535  0.061154  ...  0.048995  0.071595   \n",
      "topic_5   0.012241  0.014891  0.036205  0.035385  ...  0.014937  0.017675   \n",
      "topic_6   0.019388  0.018579  0.016787  0.037290  ...  0.005186  0.009005   \n",
      "topic_7   0.259712  0.115908  0.075854  0.082029  ...  0.035326  0.018612   \n",
      "topic_8   0.026463  0.051933  0.057965  0.053442  ...  0.030472  0.185598   \n",
      "topic_9   0.085127  0.057964  0.023841  0.062116  ...  0.025226  0.012500   \n",
      "topic_10  0.007290  0.012579  0.016669  0.097998  ...  0.080713  0.040814   \n",
      "topic_11  0.200779  0.237020  0.076576  0.014172  ...  0.272356  0.281439   \n",
      "topic_12  0.031092  0.091142  0.062537  0.177690  ...  0.023370  0.014712   \n",
      "topic_13  0.053572  0.081953  0.106502  0.047084  ...  0.040395  0.054434   \n",
      "topic_14  0.066284  0.054605  0.064320  0.161159  ...  0.033035  0.073374   \n",
      "\n",
      "              993       994       995       996       997       998   \\\n",
      "topic_0   0.078560  0.037073  0.170304  0.023683  0.094523  0.077524   \n",
      "topic_1   0.180113  0.112601  0.032623  0.034981  0.143124  0.185705   \n",
      "topic_2   0.057726  0.002886  0.000632  0.007803  0.014957  0.008666   \n",
      "topic_3   0.066918  0.036633  0.043454  0.012304  0.051498  0.043518   \n",
      "topic_4   0.133851  0.082914  0.049283  0.021307  0.059609  0.077166   \n",
      "topic_5   0.021395  0.015159  0.030125  0.042343  0.039248  0.032495   \n",
      "topic_6   0.029403  0.040560  0.104223  0.106431  0.031618  0.019817   \n",
      "topic_7   0.005083  0.109387  0.062973  0.036562  0.036914  0.060654   \n",
      "topic_8   0.034913  0.050408  0.026470  0.023620  0.130383  0.059885   \n",
      "topic_9   0.009456  0.067889  0.088528  0.025921  0.030995  0.031605   \n",
      "topic_10  0.000000  0.018810  0.124784  0.104889  0.031239  0.011905   \n",
      "topic_11  0.232311  0.255560  0.022806  0.116225  0.068760  0.196676   \n",
      "topic_12  0.000000  0.058669  0.136898  0.352838  0.069516  0.011672   \n",
      "topic_13  0.081143  0.079656  0.036140  0.027119  0.173720  0.134102   \n",
      "topic_14  0.069128  0.031795  0.070757  0.063974  0.023897  0.048608   \n",
      "\n",
      "              999       1000  \n",
      "topic_0   0.081823  0.066142  \n",
      "topic_1   0.103475  0.126820  \n",
      "topic_2   0.007206  0.016567  \n",
      "topic_3   0.090903  0.129180  \n",
      "topic_4   0.076402  0.115954  \n",
      "topic_5   0.027419  0.030624  \n",
      "topic_6   0.011535  0.043325  \n",
      "topic_7   0.054204  0.052605  \n",
      "topic_8   0.065537  0.083408  \n",
      "topic_9   0.023796  0.024791  \n",
      "topic_10  0.001742  0.000308  \n",
      "topic_11  0.146917  0.169096  \n",
      "topic_12  0.079587  0.036432  \n",
      "topic_13  0.135610  0.059862  \n",
      "topic_14  0.093844  0.044887  \n",
      "\n",
      "[15 rows x 3430 columns]\n"
     ]
    }
   ],
   "source": [
    "theta_matrix = model_artm.get_theta()\n",
    "print(theta_matrix)"
   ]
  },
  {
   "cell_type": "markdown",
   "metadata": {},
   "source": [
    "Можно использовать модель для определения векторов $\\theta_d$ для новых документов с помощью метода ARTM.transform():"
   ]
  },
  {
   "cell_type": "code",
   "execution_count": 19,
   "metadata": {
    "scrolled": true
   },
   "outputs": [
    {
     "name": "stderr",
     "output_type": "stream",
     "text": [
      "/Users/kirkira/Code/anaconda3/lib/python3.6/site-packages/_pytest/fixtures.py:844: DeprecationWarning: The `convert` argument is deprecated in favor of `converter`.  It will be removed after 2019/01.\n",
      "  params = attr.ib(convert=attr.converters.optional(tuple))\n"
     ]
    },
    {
     "ename": "InvalidOperationException",
     "evalue": "Transform: no batches to process",
     "output_type": "error",
     "traceback": [
      "\u001b[0;31m---------------------------------------------------------------------------\u001b[0m",
      "\u001b[0;31mInvalidOperationException\u001b[0m                 Traceback (most recent call last)",
      "\u001b[0;32m<ipython-input-19-f66b1fabbdea>\u001b[0m in \u001b[0;36m<module>\u001b[0;34m()\u001b[0m\n\u001b[1;32m      1\u001b[0m \u001b[0mtest_batch_vectorizer\u001b[0m \u001b[0;34m=\u001b[0m \u001b[0martm\u001b[0m\u001b[0;34m.\u001b[0m\u001b[0mBatchVectorizer\u001b[0m\u001b[0;34m(\u001b[0m\u001b[0mdata_format\u001b[0m\u001b[0;34m=\u001b[0m\u001b[0;34m'batches'\u001b[0m\u001b[0;34m,\u001b[0m \u001b[0mdata_path\u001b[0m\u001b[0;34m=\u001b[0m\u001b[0;34m'kos_test'\u001b[0m\u001b[0;34m,\u001b[0m \u001b[0mbatches\u001b[0m\u001b[0;34m=\u001b[0m\u001b[0;34m[\u001b[0m\u001b[0;34m'test_docs.batch'\u001b[0m\u001b[0;34m]\u001b[0m\u001b[0;34m)\u001b[0m\u001b[0;34m\u001b[0m\u001b[0;34m\u001b[0m\u001b[0m\n\u001b[0;32m----> 2\u001b[0;31m \u001b[0mtest_theta_matrix\u001b[0m \u001b[0;34m=\u001b[0m \u001b[0mmodel_artm\u001b[0m\u001b[0;34m.\u001b[0m\u001b[0mtransform\u001b[0m\u001b[0;34m(\u001b[0m\u001b[0mbatch_vectorizer\u001b[0m\u001b[0;34m=\u001b[0m\u001b[0mtest_batch_vectorizer\u001b[0m\u001b[0;34m)\u001b[0m\u001b[0;34m\u001b[0m\u001b[0;34m\u001b[0m\u001b[0m\n\u001b[0m\u001b[1;32m      3\u001b[0m \u001b[0mprint\u001b[0m\u001b[0;34m(\u001b[0m\u001b[0mtest_theta_matrix\u001b[0m\u001b[0;34m)\u001b[0m\u001b[0;34m\u001b[0m\u001b[0;34m\u001b[0m\u001b[0m\n",
      "\u001b[0;32m~/Code/anaconda3/lib/python3.6/site-packages/bigartm-0.9.0-py3.6.egg/artm/artm_model.py\u001b[0m in \u001b[0;36mtransform\u001b[0;34m(self, batch_vectorizer, theta_matrix_type, predict_class_id)\u001b[0m\n\u001b[1;32m    970\u001b[0m             self._pool.apply_async(func=self.master.transform,\n\u001b[1;32m    971\u001b[0m                                    args=(None, batch_vectorizer.batches_ids,\n\u001b[0;32m--> 972\u001b[0;31m                                          theta_matrix_type_real, predict_class_id)),\n\u001b[0m\u001b[1;32m    973\u001b[0m             batch_vectorizer.num_batches)\n\u001b[1;32m    974\u001b[0m \u001b[0;34m\u001b[0m\u001b[0m\n",
      "\u001b[0;32m~/Code/anaconda3/lib/python3.6/site-packages/bigartm-0.9.0-py3.6.egg/artm/artm_model.py\u001b[0m in \u001b[0;36mapply_async\u001b[0;34m(self, func, args)\u001b[0m\n\u001b[1;32m     97\u001b[0m \u001b[0;34m\u001b[0m\u001b[0m\n\u001b[1;32m     98\u001b[0m     \u001b[0;32mdef\u001b[0m \u001b[0mapply_async\u001b[0m\u001b[0;34m(\u001b[0m\u001b[0mself\u001b[0m\u001b[0;34m,\u001b[0m \u001b[0mfunc\u001b[0m\u001b[0;34m,\u001b[0m \u001b[0margs\u001b[0m\u001b[0;34m)\u001b[0m\u001b[0;34m:\u001b[0m\u001b[0;34m\u001b[0m\u001b[0;34m\u001b[0m\u001b[0m\n\u001b[0;32m---> 99\u001b[0;31m         \u001b[0;32mreturn\u001b[0m \u001b[0mself\u001b[0m\u001b[0;34m.\u001b[0m\u001b[0m_pool\u001b[0m\u001b[0;34m.\u001b[0m\u001b[0mapply_async\u001b[0m\u001b[0;34m(\u001b[0m\u001b[0mfunc\u001b[0m\u001b[0;34m,\u001b[0m \u001b[0margs\u001b[0m\u001b[0;34m)\u001b[0m \u001b[0;32mif\u001b[0m \u001b[0mself\u001b[0m\u001b[0;34m.\u001b[0m\u001b[0m_pool\u001b[0m \u001b[0;32melse\u001b[0m \u001b[0mfunc\u001b[0m\u001b[0;34m(\u001b[0m\u001b[0;34m*\u001b[0m\u001b[0margs\u001b[0m\u001b[0;34m)\u001b[0m\u001b[0;34m\u001b[0m\u001b[0;34m\u001b[0m\u001b[0m\n\u001b[0m\u001b[1;32m    100\u001b[0m \u001b[0;34m\u001b[0m\u001b[0m\n\u001b[1;32m    101\u001b[0m     \u001b[0;32mdef\u001b[0m \u001b[0m__deepcopy__\u001b[0m\u001b[0;34m(\u001b[0m\u001b[0mself\u001b[0m\u001b[0;34m,\u001b[0m \u001b[0mmemo\u001b[0m\u001b[0;34m)\u001b[0m\u001b[0;34m:\u001b[0m\u001b[0;34m\u001b[0m\u001b[0;34m\u001b[0m\u001b[0m\n",
      "\u001b[0;32m~/Code/anaconda3/lib/python3.6/site-packages/bigartm-0.9.0-py3.6.egg/artm/master_component.py\u001b[0m in \u001b[0;36mtransform\u001b[0;34m(self, batches, batch_filenames, theta_matrix_type, predict_class_id)\u001b[0m\n\u001b[1;32m    924\u001b[0m \u001b[0;34m\u001b[0m\u001b[0m\n\u001b[1;32m    925\u001b[0m         \u001b[0;32mif\u001b[0m \u001b[0mtheta_matrix_type\u001b[0m \u001b[0;32mnot\u001b[0m \u001b[0;32min\u001b[0m \u001b[0;34m[\u001b[0m\u001b[0mconstants\u001b[0m\u001b[0;34m.\u001b[0m\u001b[0mThetaMatrixType_None\u001b[0m\u001b[0;34m,\u001b[0m \u001b[0mconstants\u001b[0m\u001b[0;34m.\u001b[0m\u001b[0mThetaMatrixType_Cache\u001b[0m\u001b[0;34m]\u001b[0m\u001b[0;34m:\u001b[0m\u001b[0;34m\u001b[0m\u001b[0;34m\u001b[0m\u001b[0m\n\u001b[0;32m--> 926\u001b[0;31m             \u001b[0mtheta_matrix_info\u001b[0m \u001b[0;34m=\u001b[0m \u001b[0mself\u001b[0m\u001b[0;34m.\u001b[0m\u001b[0m_lib\u001b[0m\u001b[0;34m.\u001b[0m\u001b[0mArtmRequestTransformMasterModelExternal\u001b[0m\u001b[0;34m(\u001b[0m\u001b[0mself\u001b[0m\u001b[0;34m.\u001b[0m\u001b[0mmaster_id\u001b[0m\u001b[0;34m,\u001b[0m \u001b[0margs\u001b[0m\u001b[0;34m)\u001b[0m\u001b[0;34m\u001b[0m\u001b[0;34m\u001b[0m\u001b[0m\n\u001b[0m\u001b[1;32m    927\u001b[0m \u001b[0;34m\u001b[0m\u001b[0m\n\u001b[1;32m    928\u001b[0m             \u001b[0mnum_rows\u001b[0m \u001b[0;34m=\u001b[0m \u001b[0mlen\u001b[0m\u001b[0;34m(\u001b[0m\u001b[0mtheta_matrix_info\u001b[0m\u001b[0;34m.\u001b[0m\u001b[0mitem_id\u001b[0m\u001b[0;34m)\u001b[0m\u001b[0;34m\u001b[0m\u001b[0;34m\u001b[0m\u001b[0m\n",
      "\u001b[0;32m~/Code/anaconda3/lib/python3.6/site-packages/bigartm-0.9.0-py3.6.egg/artm/wrapper/api.py\u001b[0m in \u001b[0;36martm_api_call\u001b[0;34m(*args)\u001b[0m\n\u001b[1;32m    159\u001b[0m                 \u001b[0mfunc\u001b[0m\u001b[0;34m.\u001b[0m\u001b[0mrestype\u001b[0m \u001b[0;34m=\u001b[0m \u001b[0mspec\u001b[0m\u001b[0;34m.\u001b[0m\u001b[0mresult_type\u001b[0m\u001b[0;34m\u001b[0m\u001b[0;34m\u001b[0m\u001b[0m\n\u001b[1;32m    160\u001b[0m             \u001b[0mresult\u001b[0m \u001b[0;34m=\u001b[0m \u001b[0mfunc\u001b[0m\u001b[0;34m(\u001b[0m\u001b[0;34m*\u001b[0m\u001b[0mc_args\u001b[0m\u001b[0;34m)\u001b[0m\u001b[0;34m\u001b[0m\u001b[0;34m\u001b[0m\u001b[0m\n\u001b[0;32m--> 161\u001b[0;31m             \u001b[0mself\u001b[0m\u001b[0;34m.\u001b[0m\u001b[0m_check_error\u001b[0m\u001b[0;34m(\u001b[0m\u001b[0mresult\u001b[0m\u001b[0;34m)\u001b[0m\u001b[0;34m\u001b[0m\u001b[0;34m\u001b[0m\u001b[0m\n\u001b[0m\u001b[1;32m    162\u001b[0m \u001b[0;34m\u001b[0m\u001b[0m\n\u001b[1;32m    163\u001b[0m             \u001b[0;31m# return result value\u001b[0m\u001b[0;34m\u001b[0m\u001b[0;34m\u001b[0m\u001b[0;34m\u001b[0m\u001b[0m\n",
      "\u001b[0;32m~/Code/anaconda3/lib/python3.6/site-packages/bigartm-0.9.0-py3.6.egg/artm/wrapper/api.py\u001b[0m in \u001b[0;36m_check_error\u001b[0;34m(self, error_code)\u001b[0m\n\u001b[1;32m     95\u001b[0m             \u001b[0mexception_class\u001b[0m \u001b[0;34m=\u001b[0m \u001b[0mARTM_EXCEPTION_BY_CODE\u001b[0m\u001b[0;34m.\u001b[0m\u001b[0mget\u001b[0m\u001b[0;34m(\u001b[0m\u001b[0merror_code\u001b[0m\u001b[0;34m)\u001b[0m\u001b[0;34m\u001b[0m\u001b[0;34m\u001b[0m\u001b[0m\n\u001b[1;32m     96\u001b[0m             \u001b[0;32mif\u001b[0m \u001b[0mexception_class\u001b[0m \u001b[0;32mis\u001b[0m \u001b[0;32mnot\u001b[0m \u001b[0;32mNone\u001b[0m\u001b[0;34m:\u001b[0m\u001b[0;34m\u001b[0m\u001b[0;34m\u001b[0m\u001b[0m\n\u001b[0;32m---> 97\u001b[0;31m                 \u001b[0;32mraise\u001b[0m \u001b[0mexception_class\u001b[0m\u001b[0;34m(\u001b[0m\u001b[0merror_message\u001b[0m\u001b[0;34m)\u001b[0m\u001b[0;34m\u001b[0m\u001b[0;34m\u001b[0m\u001b[0m\n\u001b[0m\u001b[1;32m     98\u001b[0m             \u001b[0;32melse\u001b[0m\u001b[0;34m:\u001b[0m\u001b[0;34m\u001b[0m\u001b[0;34m\u001b[0m\u001b[0m\n\u001b[1;32m     99\u001b[0m                 \u001b[0;32mraise\u001b[0m \u001b[0mRuntimeError\u001b[0m\u001b[0;34m(\u001b[0m\u001b[0merror_message\u001b[0m\u001b[0;34m)\u001b[0m\u001b[0;34m\u001b[0m\u001b[0;34m\u001b[0m\u001b[0m\n",
      "\u001b[0;31mInvalidOperationException\u001b[0m: Transform: no batches to process"
     ]
    }
   ],
   "source": [
    "test_batch_vectorizer = artm.BatchVectorizer(data_format='batches', data_path='kos_test', batches=['test_docs.batch'])\n",
    "test_theta_matrix = model_artm.transform(batch_vectorizer=test_batch_vectorizer)\n",
    "print(test_theta_matrix)"
   ]
  },
  {
   "cell_type": "code",
   "execution_count": 21,
   "metadata": {},
   "outputs": [
    {
     "data": {
      "text/plain": [
       "[<matplotlib.lines.Line2D at 0x11abeacc0>]"
      ]
     },
     "execution_count": 21,
     "metadata": {},
     "output_type": "execute_result"
    },
    {
     "data": {
      "image/png": "[encoded data removed]",
      "text/plain": [
       "<matplotlib.figure.Figure at 0x1187cbd68>"
      ]
     },
     "metadata": {},
     "output_type": "display_data"
    }
   ],
   "source": [
    "plt.plot(model_artm.score_tracker[\"SparsityPhiScore\"].value)"
   ]
  },
  {
   "cell_type": "code",
   "execution_count": 20,
   "metadata": {},
   "outputs": [
    {
     "data": {
      "text/plain": [
       "[<matplotlib.lines.Line2D at 0x11abbe1d0>]"
      ]
     },
     "execution_count": 20,
     "metadata": {},
     "output_type": "execute_result"
    },
    {
     "data": {
      "image/png": "[encoded data removed]",
      "text/plain": [
       "<matplotlib.figure.Figure at 0x11aa0ebe0>"
      ]
     },
     "metadata": {},
     "output_type": "display_data"
    }
   ],
   "source": [
    "plt.plot(model_artm.score_tracker[\"SparsityThetaScore\"].value)"
   ]
  },
  {
   "cell_type": "markdown",
   "metadata": {},
   "source": [
    "#### Выводы\n",
    "\n",
    "Задача построения тематической модели имеет бесконечно большое множество решений. Это даёт большую свободу действий, и регуляризаторы позволяют использовать её для получения результата, удовлетворяющего сразу нескольким требованиям (разреженность, интерпретируемость, удовлетворительное значение перплексии и т. п.).\n",
    "\n",
    "Приведённый выше пример является демонстрационным, можно пробовать более гибкие стратегии регуляризации для получения ещё более хорошего результата. По аналогичной схеме можно производить эксперименты с более крупными коллекциями."
   ]
  }
 ],
 "metadata": {
  "kernelspec": {
   "display_name": "Python 3",
   "language": "python",
   "name": "python3"
  },
  "language_info": {
   "codemirror_mode": {
    "name": "ipython",
    "version": 3
   },
   "file_extension": ".py",
   "mimetype": "text/x-python",
   "name": "python",
   "nbconvert_exporter": "python",
   "pygments_lexer": "ipython3",
   "version": "3.6.8"
  }
 },
 "nbformat": 4,
 "nbformat_minor": 1
}
